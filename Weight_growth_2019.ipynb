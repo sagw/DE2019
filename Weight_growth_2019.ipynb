{
 "cells": [
  {
   "cell_type": "code",
   "execution_count": 1,
   "metadata": {},
   "outputs": [
    {
     "name": "stderr",
     "output_type": "stream",
     "text": [
      "Loading required package: ggplot2\n",
      "Loading required package: nlme\n",
      "Loading required package: multcomp\n",
      "Loading required package: mvtnorm\n",
      "Loading required package: survival\n",
      "Loading required package: TH.data\n",
      "Loading required package: MASS\n",
      "\n",
      "Attaching package: ‘TH.data’\n",
      "\n",
      "The following object is masked from ‘package:MASS’:\n",
      "\n",
      "    geyser\n",
      "\n"
     ]
    }
   ],
   "source": [
    "setwd(\"~/Documents/DE/2019/\")\n",
    "require(ggplot2)\n",
    "require(nlme)\n",
    "require(multcomp)"
   ]
  },
  {
   "cell_type": "code",
   "execution_count": 4,
   "metadata": {},
   "outputs": [],
   "source": [
    "d=read.csv(\"DE2019_weights.csv\")"
   ]
  },
  {
   "cell_type": "code",
   "execution_count": 5,
   "metadata": {},
   "outputs": [
    {
     "data": {
      "text/html": [
       "<table>\n",
       "<caption>A data.frame: 6 × 12</caption>\n",
       "<thead>\n",
       "\t<tr><th scope=col>Bucket</th><th scope=col>Color.Number</th><th scope=col>Size</th><th scope=col>Species</th><th scope=col>Date_initial_measure</th><th scope=col>Length_pre</th><th scope=col>Width_pre</th><th scope=col>Height_pre</th><th scope=col>Weight</th><th scope=col>Mortality_Date</th><th scope=col>Weight_post</th><th scope=col>Label</th></tr>\n",
       "\t<tr><th scope=col>&lt;fct&gt;</th><th scope=col>&lt;fct&gt;</th><th scope=col>&lt;fct&gt;</th><th scope=col>&lt;fct&gt;</th><th scope=col>&lt;fct&gt;</th><th scope=col>&lt;lgl&gt;</th><th scope=col>&lt;lgl&gt;</th><th scope=col>&lt;fct&gt;</th><th scope=col>&lt;fct&gt;</th><th scope=col>&lt;fct&gt;</th><th scope=col>&lt;fct&gt;</th><th scope=col>&lt;fct&gt;</th></tr>\n",
       "</thead>\n",
       "<tbody>\n",
       "\t<tr><td>hsHM1</td><td>W1</td><td></td><td>CV</td><td></td><td>NA</td><td>NA</td><td></td><td>1.89</td><td></td><td>2.49</td><td>DE19_hsHM1_CV_W1</td></tr>\n",
       "\t<tr><td>hsHM1</td><td>W2</td><td></td><td>CV</td><td></td><td>NA</td><td>NA</td><td></td><td>1.32</td><td></td><td>1.33</td><td>DE19_hsHM1_CV_W2</td></tr>\n",
       "\t<tr><td>hsHM1</td><td>W3</td><td></td><td>CV</td><td></td><td>NA</td><td>NA</td><td></td><td>1   </td><td></td><td>1.15</td><td>DE19_hsHM1_CV_W3</td></tr>\n",
       "\t<tr><td>hsHM1</td><td>W4</td><td></td><td>CV</td><td></td><td>NA</td><td>NA</td><td></td><td>1.43</td><td></td><td>1.68</td><td>DE19_hsHM1_CV_W4</td></tr>\n",
       "\t<tr><td>hsHM1</td><td>W5</td><td></td><td>CV</td><td></td><td>NA</td><td>NA</td><td></td><td>2.01</td><td></td><td>2.4 </td><td>DE19_hsHM1_CV_W5</td></tr>\n",
       "\t<tr><td>hsHM1</td><td>W6</td><td></td><td>CV</td><td></td><td>NA</td><td>NA</td><td></td><td>1.63</td><td></td><td>1.71</td><td>DE19_hsHM1_CV_W6</td></tr>\n",
       "</tbody>\n",
       "</table>\n"
      ],
      "text/latex": [
       "A data.frame: 6 × 12\n",
       "\\begin{tabular}{r|llllllllllll}\n",
       " Bucket & Color.Number & Size & Species & Date\\_initial\\_measure & Length\\_pre & Width\\_pre & Height\\_pre & Weight & Mortality\\_Date & Weight\\_post & Label\\\\\n",
       " <fct> & <fct> & <fct> & <fct> & <fct> & <lgl> & <lgl> & <fct> & <fct> & <fct> & <fct> & <fct>\\\\\n",
       "\\hline\n",
       "\t hsHM1 & W1 &  & CV &  & NA & NA &  & 1.89 &  & 2.49 & DE19\\_hsHM1\\_CV\\_W1\\\\\n",
       "\t hsHM1 & W2 &  & CV &  & NA & NA &  & 1.32 &  & 1.33 & DE19\\_hsHM1\\_CV\\_W2\\\\\n",
       "\t hsHM1 & W3 &  & CV &  & NA & NA &  & 1    &  & 1.15 & DE19\\_hsHM1\\_CV\\_W3\\\\\n",
       "\t hsHM1 & W4 &  & CV &  & NA & NA &  & 1.43 &  & 1.68 & DE19\\_hsHM1\\_CV\\_W4\\\\\n",
       "\t hsHM1 & W5 &  & CV &  & NA & NA &  & 2.01 &  & 2.4  & DE19\\_hsHM1\\_CV\\_W5\\\\\n",
       "\t hsHM1 & W6 &  & CV &  & NA & NA &  & 1.63 &  & 1.71 & DE19\\_hsHM1\\_CV\\_W6\\\\\n",
       "\\end{tabular}\n"
      ],
      "text/markdown": [
       "\n",
       "A data.frame: 6 × 12\n",
       "\n",
       "| Bucket &lt;fct&gt; | Color.Number &lt;fct&gt; | Size &lt;fct&gt; | Species &lt;fct&gt; | Date_initial_measure &lt;fct&gt; | Length_pre &lt;lgl&gt; | Width_pre &lt;lgl&gt; | Height_pre &lt;fct&gt; | Weight &lt;fct&gt; | Mortality_Date &lt;fct&gt; | Weight_post &lt;fct&gt; | Label &lt;fct&gt; |\n",
       "|---|---|---|---|---|---|---|---|---|---|---|---|\n",
       "| hsHM1 | W1 | <!----> | CV | <!----> | NA | NA | <!----> | 1.89 | <!----> | 2.49 | DE19_hsHM1_CV_W1 |\n",
       "| hsHM1 | W2 | <!----> | CV | <!----> | NA | NA | <!----> | 1.32 | <!----> | 1.33 | DE19_hsHM1_CV_W2 |\n",
       "| hsHM1 | W3 | <!----> | CV | <!----> | NA | NA | <!----> | 1    | <!----> | 1.15 | DE19_hsHM1_CV_W3 |\n",
       "| hsHM1 | W4 | <!----> | CV | <!----> | NA | NA | <!----> | 1.43 | <!----> | 1.68 | DE19_hsHM1_CV_W4 |\n",
       "| hsHM1 | W5 | <!----> | CV | <!----> | NA | NA | <!----> | 2.01 | <!----> | 2.4  | DE19_hsHM1_CV_W5 |\n",
       "| hsHM1 | W6 | <!----> | CV | <!----> | NA | NA | <!----> | 1.63 | <!----> | 1.71 | DE19_hsHM1_CV_W6 |\n",
       "\n"
      ],
      "text/plain": [
       "  Bucket Color.Number Size Species Date_initial_measure Length_pre Width_pre\n",
       "1 hsHM1  W1                CV                           NA         NA       \n",
       "2 hsHM1  W2                CV                           NA         NA       \n",
       "3 hsHM1  W3                CV                           NA         NA       \n",
       "4 hsHM1  W4                CV                           NA         NA       \n",
       "5 hsHM1  W5                CV                           NA         NA       \n",
       "6 hsHM1  W6                CV                           NA         NA       \n",
       "  Height_pre Weight Mortality_Date Weight_post Label           \n",
       "1            1.89                  2.49        DE19_hsHM1_CV_W1\n",
       "2            1.32                  1.33        DE19_hsHM1_CV_W2\n",
       "3            1                     1.15        DE19_hsHM1_CV_W3\n",
       "4            1.43                  1.68        DE19_hsHM1_CV_W4\n",
       "5            2.01                  2.4         DE19_hsHM1_CV_W5\n",
       "6            1.63                  1.71        DE19_hsHM1_CV_W6"
      ]
     },
     "metadata": {},
     "output_type": "display_data"
    }
   ],
   "source": [
    "head(d)"
   ]
  },
  {
   "cell_type": "code",
   "execution_count": 6,
   "metadata": {},
   "outputs": [
    {
     "data": {
      "text/html": [
       "<ol class=list-inline>\n",
       "\t<li>'Bucket'</li>\n",
       "\t<li>'Color.Number'</li>\n",
       "\t<li>'Size'</li>\n",
       "\t<li>'Species'</li>\n",
       "\t<li>'Date_initial_measure'</li>\n",
       "\t<li>'Length_pre'</li>\n",
       "\t<li>'Width_pre'</li>\n",
       "\t<li>'Height_pre'</li>\n",
       "\t<li>'Weight'</li>\n",
       "\t<li>'Mortality_Date'</li>\n",
       "\t<li>'Weight_post'</li>\n",
       "\t<li>'Label'</li>\n",
       "</ol>\n"
      ],
      "text/latex": [
       "\\begin{enumerate*}\n",
       "\\item 'Bucket'\n",
       "\\item 'Color.Number'\n",
       "\\item 'Size'\n",
       "\\item 'Species'\n",
       "\\item 'Date\\_initial\\_measure'\n",
       "\\item 'Length\\_pre'\n",
       "\\item 'Width\\_pre'\n",
       "\\item 'Height\\_pre'\n",
       "\\item 'Weight'\n",
       "\\item 'Mortality\\_Date'\n",
       "\\item 'Weight\\_post'\n",
       "\\item 'Label'\n",
       "\\end{enumerate*}\n"
      ],
      "text/markdown": [
       "1. 'Bucket'\n",
       "2. 'Color.Number'\n",
       "3. 'Size'\n",
       "4. 'Species'\n",
       "5. 'Date_initial_measure'\n",
       "6. 'Length_pre'\n",
       "7. 'Width_pre'\n",
       "8. 'Height_pre'\n",
       "9. 'Weight'\n",
       "10. 'Mortality_Date'\n",
       "11. 'Weight_post'\n",
       "12. 'Label'\n",
       "\n",
       "\n"
      ],
      "text/plain": [
       " [1] \"Bucket\"               \"Color.Number\"         \"Size\"                \n",
       " [4] \"Species\"              \"Date_initial_measure\" \"Length_pre\"          \n",
       " [7] \"Width_pre\"            \"Height_pre\"           \"Weight\"              \n",
       "[10] \"Mortality_Date\"       \"Weight_post\"          \"Label\"               "
      ]
     },
     "metadata": {},
     "output_type": "display_data"
    }
   ],
   "source": [
    "colnames(d)"
   ]
  },
  {
   "cell_type": "code",
   "execution_count": 16,
   "metadata": {},
   "outputs": [],
   "source": [
    "#separate treatments\n",
    "d$Density=ifelse(substr(d$Bucket,3,3)==\"L\", \"Low\", \"High\")\n",
    "d$Diversity=ifelse(substr(d$Bucket,4,4)==\"P\", \"Poly\", \"Mono\")\n",
    "d$Salinity=ifelse(substr(d$Bucket,1,1)==\"l\", \"Low\", \"High\")"
   ]
  },
  {
   "cell_type": "code",
   "execution_count": 20,
   "metadata": {},
   "outputs": [],
   "source": [
    "cv=d[d$Species==\"CV\"& !is.na(d$Weight_post)& !is.na(d$Weight),]"
   ]
  },
  {
   "cell_type": "code",
   "execution_count": 22,
   "metadata": {},
   "outputs": [
    {
     "name": "stderr",
     "output_type": "stream",
     "text": [
      "Warning message in eval(expr, envir, enclos):\n",
      "“NAs introduced by coercion”Warning message in eval(expr, envir, enclos):\n",
      "“NAs introduced by coercion”"
     ]
    }
   ],
   "source": [
    "cv$Weight_post=as.numeric(as.character(cv$Weight_post))\n",
    "cv$Weight=as.numeric(as.character(cv$Weight))\n",
    "cv$Weight_change=cv$Weight_post-cv$Weight"
   ]
  },
  {
   "cell_type": "code",
   "execution_count": 23,
   "metadata": {},
   "outputs": [
    {
     "data": {
      "text/html": [
       "<table>\n",
       "<caption>A data.frame: 6 × 16</caption>\n",
       "<thead>\n",
       "\t<tr><th scope=col>Bucket</th><th scope=col>Color.Number</th><th scope=col>Size</th><th scope=col>Species</th><th scope=col>Date_initial_measure</th><th scope=col>Length_pre</th><th scope=col>Width_pre</th><th scope=col>Height_pre</th><th scope=col>Weight</th><th scope=col>Mortality_Date</th><th scope=col>Weight_post</th><th scope=col>Label</th><th scope=col>Density</th><th scope=col>Diversity</th><th scope=col>Salinity</th><th scope=col>Weight_change</th></tr>\n",
       "\t<tr><th scope=col>&lt;fct&gt;</th><th scope=col>&lt;fct&gt;</th><th scope=col>&lt;fct&gt;</th><th scope=col>&lt;fct&gt;</th><th scope=col>&lt;fct&gt;</th><th scope=col>&lt;lgl&gt;</th><th scope=col>&lt;lgl&gt;</th><th scope=col>&lt;fct&gt;</th><th scope=col>&lt;dbl&gt;</th><th scope=col>&lt;fct&gt;</th><th scope=col>&lt;dbl&gt;</th><th scope=col>&lt;fct&gt;</th><th scope=col>&lt;chr&gt;</th><th scope=col>&lt;chr&gt;</th><th scope=col>&lt;chr&gt;</th><th scope=col>&lt;dbl&gt;</th></tr>\n",
       "</thead>\n",
       "<tbody>\n",
       "\t<tr><td>hsHM1</td><td>W1</td><td></td><td>CV</td><td></td><td>NA</td><td>NA</td><td></td><td>1.89</td><td></td><td>2.49</td><td>DE19_hsHM1_CV_W1</td><td>High</td><td>Mono</td><td>High</td><td>0.60</td></tr>\n",
       "\t<tr><td>hsHM1</td><td>W2</td><td></td><td>CV</td><td></td><td>NA</td><td>NA</td><td></td><td>1.32</td><td></td><td>1.33</td><td>DE19_hsHM1_CV_W2</td><td>High</td><td>Mono</td><td>High</td><td>0.01</td></tr>\n",
       "\t<tr><td>hsHM1</td><td>W3</td><td></td><td>CV</td><td></td><td>NA</td><td>NA</td><td></td><td>1.00</td><td></td><td>1.15</td><td>DE19_hsHM1_CV_W3</td><td>High</td><td>Mono</td><td>High</td><td>0.15</td></tr>\n",
       "\t<tr><td>hsHM1</td><td>W4</td><td></td><td>CV</td><td></td><td>NA</td><td>NA</td><td></td><td>1.43</td><td></td><td>1.68</td><td>DE19_hsHM1_CV_W4</td><td>High</td><td>Mono</td><td>High</td><td>0.25</td></tr>\n",
       "\t<tr><td>hsHM1</td><td>W5</td><td></td><td>CV</td><td></td><td>NA</td><td>NA</td><td></td><td>2.01</td><td></td><td>2.40</td><td>DE19_hsHM1_CV_W5</td><td>High</td><td>Mono</td><td>High</td><td>0.39</td></tr>\n",
       "\t<tr><td>hsHM1</td><td>W6</td><td></td><td>CV</td><td></td><td>NA</td><td>NA</td><td></td><td>1.63</td><td></td><td>1.71</td><td>DE19_hsHM1_CV_W6</td><td>High</td><td>Mono</td><td>High</td><td>0.08</td></tr>\n",
       "</tbody>\n",
       "</table>\n"
      ],
      "text/latex": [
       "A data.frame: 6 × 16\n",
       "\\begin{tabular}{r|llllllllllllllll}\n",
       " Bucket & Color.Number & Size & Species & Date\\_initial\\_measure & Length\\_pre & Width\\_pre & Height\\_pre & Weight & Mortality\\_Date & Weight\\_post & Label & Density & Diversity & Salinity & Weight\\_change\\\\\n",
       " <fct> & <fct> & <fct> & <fct> & <fct> & <lgl> & <lgl> & <fct> & <dbl> & <fct> & <dbl> & <fct> & <chr> & <chr> & <chr> & <dbl>\\\\\n",
       "\\hline\n",
       "\t hsHM1 & W1 &  & CV &  & NA & NA &  & 1.89 &  & 2.49 & DE19\\_hsHM1\\_CV\\_W1 & High & Mono & High & 0.60\\\\\n",
       "\t hsHM1 & W2 &  & CV &  & NA & NA &  & 1.32 &  & 1.33 & DE19\\_hsHM1\\_CV\\_W2 & High & Mono & High & 0.01\\\\\n",
       "\t hsHM1 & W3 &  & CV &  & NA & NA &  & 1.00 &  & 1.15 & DE19\\_hsHM1\\_CV\\_W3 & High & Mono & High & 0.15\\\\\n",
       "\t hsHM1 & W4 &  & CV &  & NA & NA &  & 1.43 &  & 1.68 & DE19\\_hsHM1\\_CV\\_W4 & High & Mono & High & 0.25\\\\\n",
       "\t hsHM1 & W5 &  & CV &  & NA & NA &  & 2.01 &  & 2.40 & DE19\\_hsHM1\\_CV\\_W5 & High & Mono & High & 0.39\\\\\n",
       "\t hsHM1 & W6 &  & CV &  & NA & NA &  & 1.63 &  & 1.71 & DE19\\_hsHM1\\_CV\\_W6 & High & Mono & High & 0.08\\\\\n",
       "\\end{tabular}\n"
      ],
      "text/markdown": [
       "\n",
       "A data.frame: 6 × 16\n",
       "\n",
       "| Bucket &lt;fct&gt; | Color.Number &lt;fct&gt; | Size &lt;fct&gt; | Species &lt;fct&gt; | Date_initial_measure &lt;fct&gt; | Length_pre &lt;lgl&gt; | Width_pre &lt;lgl&gt; | Height_pre &lt;fct&gt; | Weight &lt;dbl&gt; | Mortality_Date &lt;fct&gt; | Weight_post &lt;dbl&gt; | Label &lt;fct&gt; | Density &lt;chr&gt; | Diversity &lt;chr&gt; | Salinity &lt;chr&gt; | Weight_change &lt;dbl&gt; |\n",
       "|---|---|---|---|---|---|---|---|---|---|---|---|---|---|---|---|\n",
       "| hsHM1 | W1 | <!----> | CV | <!----> | NA | NA | <!----> | 1.89 | <!----> | 2.49 | DE19_hsHM1_CV_W1 | High | Mono | High | 0.60 |\n",
       "| hsHM1 | W2 | <!----> | CV | <!----> | NA | NA | <!----> | 1.32 | <!----> | 1.33 | DE19_hsHM1_CV_W2 | High | Mono | High | 0.01 |\n",
       "| hsHM1 | W3 | <!----> | CV | <!----> | NA | NA | <!----> | 1.00 | <!----> | 1.15 | DE19_hsHM1_CV_W3 | High | Mono | High | 0.15 |\n",
       "| hsHM1 | W4 | <!----> | CV | <!----> | NA | NA | <!----> | 1.43 | <!----> | 1.68 | DE19_hsHM1_CV_W4 | High | Mono | High | 0.25 |\n",
       "| hsHM1 | W5 | <!----> | CV | <!----> | NA | NA | <!----> | 2.01 | <!----> | 2.40 | DE19_hsHM1_CV_W5 | High | Mono | High | 0.39 |\n",
       "| hsHM1 | W6 | <!----> | CV | <!----> | NA | NA | <!----> | 1.63 | <!----> | 1.71 | DE19_hsHM1_CV_W6 | High | Mono | High | 0.08 |\n",
       "\n"
      ],
      "text/plain": [
       "  Bucket Color.Number Size Species Date_initial_measure Length_pre Width_pre\n",
       "1 hsHM1  W1                CV                           NA         NA       \n",
       "2 hsHM1  W2                CV                           NA         NA       \n",
       "3 hsHM1  W3                CV                           NA         NA       \n",
       "4 hsHM1  W4                CV                           NA         NA       \n",
       "5 hsHM1  W5                CV                           NA         NA       \n",
       "6 hsHM1  W6                CV                           NA         NA       \n",
       "  Height_pre Weight Mortality_Date Weight_post Label            Density\n",
       "1            1.89                  2.49        DE19_hsHM1_CV_W1 High   \n",
       "2            1.32                  1.33        DE19_hsHM1_CV_W2 High   \n",
       "3            1.00                  1.15        DE19_hsHM1_CV_W3 High   \n",
       "4            1.43                  1.68        DE19_hsHM1_CV_W4 High   \n",
       "5            2.01                  2.40        DE19_hsHM1_CV_W5 High   \n",
       "6            1.63                  1.71        DE19_hsHM1_CV_W6 High   \n",
       "  Diversity Salinity Weight_change\n",
       "1 Mono      High     0.60         \n",
       "2 Mono      High     0.01         \n",
       "3 Mono      High     0.15         \n",
       "4 Mono      High     0.25         \n",
       "5 Mono      High     0.39         \n",
       "6 Mono      High     0.08         "
      ]
     },
     "metadata": {},
     "output_type": "display_data"
    }
   ],
   "source": [
    "head(cv)"
   ]
  },
  {
   "cell_type": "code",
   "execution_count": 24,
   "metadata": {},
   "outputs": [],
   "source": [
    "#funciton to calculate se and average at once\n",
    "multi = function(x) {\n",
    "      c(avg = mean(x, na.rm=TRUE), se = sd(x, na.rm=TRUE)/sqrt(length(x)) )\n",
    "}"
   ]
  },
  {
   "cell_type": "code",
   "execution_count": 30,
   "metadata": {},
   "outputs": [],
   "source": [
    "weight=aggregate(Weight_change~Density+Diversity+Salinity, data=cv, FUN=multi)\n",
    "weight$avg=weight$Weight_change[,1]\n",
    "weight$sd=weight$Weight_change[,2]\n",
    "weight=weight[-4]"
   ]
  },
  {
   "cell_type": "code",
   "execution_count": 31,
   "metadata": {},
   "outputs": [
    {
     "data": {
      "text/html": [
       "<table>\n",
       "<caption>A data.frame: 6 × 5</caption>\n",
       "<thead>\n",
       "\t<tr><th scope=col>Density</th><th scope=col>Diversity</th><th scope=col>Salinity</th><th scope=col>avg</th><th scope=col>sd</th></tr>\n",
       "\t<tr><th scope=col>&lt;chr&gt;</th><th scope=col>&lt;chr&gt;</th><th scope=col>&lt;chr&gt;</th><th scope=col>&lt;dbl&gt;</th><th scope=col>&lt;dbl&gt;</th></tr>\n",
       "</thead>\n",
       "<tbody>\n",
       "\t<tr><td>High</td><td>Mono</td><td>High</td><td>0.3261176</td><td>0.02857547</td></tr>\n",
       "\t<tr><td>Low </td><td>Mono</td><td>High</td><td>0.6029412</td><td>0.03624057</td></tr>\n",
       "\t<tr><td>High</td><td>Poly</td><td>High</td><td>0.4417886</td><td>0.02832830</td></tr>\n",
       "\t<tr><td>Low </td><td>Poly</td><td>High</td><td>0.5880315</td><td>0.02961066</td></tr>\n",
       "\t<tr><td>High</td><td>Mono</td><td>Low </td><td>0.2684694</td><td>0.02654379</td></tr>\n",
       "\t<tr><td>Low </td><td>Mono</td><td>Low </td><td>0.4713115</td><td>0.02819815</td></tr>\n",
       "</tbody>\n",
       "</table>\n"
      ],
      "text/latex": [
       "A data.frame: 6 × 5\n",
       "\\begin{tabular}{r|lllll}\n",
       " Density & Diversity & Salinity & avg & sd\\\\\n",
       " <chr> & <chr> & <chr> & <dbl> & <dbl>\\\\\n",
       "\\hline\n",
       "\t High & Mono & High & 0.3261176 & 0.02857547\\\\\n",
       "\t Low  & Mono & High & 0.6029412 & 0.03624057\\\\\n",
       "\t High & Poly & High & 0.4417886 & 0.02832830\\\\\n",
       "\t Low  & Poly & High & 0.5880315 & 0.02961066\\\\\n",
       "\t High & Mono & Low  & 0.2684694 & 0.02654379\\\\\n",
       "\t Low  & Mono & Low  & 0.4713115 & 0.02819815\\\\\n",
       "\\end{tabular}\n"
      ],
      "text/markdown": [
       "\n",
       "A data.frame: 6 × 5\n",
       "\n",
       "| Density &lt;chr&gt; | Diversity &lt;chr&gt; | Salinity &lt;chr&gt; | avg &lt;dbl&gt; | sd &lt;dbl&gt; |\n",
       "|---|---|---|---|---|\n",
       "| High | Mono | High | 0.3261176 | 0.02857547 |\n",
       "| Low  | Mono | High | 0.6029412 | 0.03624057 |\n",
       "| High | Poly | High | 0.4417886 | 0.02832830 |\n",
       "| Low  | Poly | High | 0.5880315 | 0.02961066 |\n",
       "| High | Mono | Low  | 0.2684694 | 0.02654379 |\n",
       "| Low  | Mono | Low  | 0.4713115 | 0.02819815 |\n",
       "\n"
      ],
      "text/plain": [
       "  Density Diversity Salinity avg       sd        \n",
       "1 High    Mono      High     0.3261176 0.02857547\n",
       "2 Low     Mono      High     0.6029412 0.03624057\n",
       "3 High    Poly      High     0.4417886 0.02832830\n",
       "4 Low     Poly      High     0.5880315 0.02961066\n",
       "5 High    Mono      Low      0.2684694 0.02654379\n",
       "6 Low     Mono      Low      0.4713115 0.02819815"
      ]
     },
     "metadata": {},
     "output_type": "display_data"
    }
   ],
   "source": [
    "head(weight)"
   ]
  },
  {
   "cell_type": "code",
   "execution_count": 35,
   "metadata": {},
   "outputs": [
    {
     "data": {
      "image/png": "[encoded data removed]",
      "text/plain": [
       "plot without title"
      ]
     },
     "metadata": {},
     "output_type": "display_data"
    }
   ],
   "source": [
    "ggplot(weight, aes(x = Density, y = avg, fill=Diversity)) +\n",
    "facet_grid(. ~ Salinity)+\n",
    "scale_fill_manual(values=c(\"darkred\", \"goldenrod\"))+\n",
    "        geom_bar(stat=\"identity\", position=\"dodge\")+\n",
    " geom_errorbar(aes(ymin=avg-sd, ymax=avg+sd), position=\"dodge\") +\n",
    "theme_bw()+\n",
    " theme(legend.position=\"right\", panel.border = element_blank(), \n",
    "          panel.grid.major.x = element_blank(), \n",
    "          panel.grid.minor.x = element_blank(),\n",
    "          axis.ticks.x=element_blank(), axis.line=element_line(color=\"black\"), axis.text=element_text(color=\"black\"),\n",
    "          text = element_text(size=20))+\n",
    "ylab(\"Growth (wet weight grams)\")"
   ]
  },
  {
   "cell_type": "code",
   "execution_count": null,
   "metadata": {},
   "outputs": [],
   "source": []
  }
 ],
 "metadata": {
  "kernelspec": {
   "display_name": "R",
   "language": "R",
   "name": "ir"
  },
  "language_info": {
   "codemirror_mode": "r",
   "file_extension": ".r",
   "mimetype": "text/x-r-source",
   "name": "R",
   "pygments_lexer": "r",
   "version": "3.6.1"
  }
 },
 "nbformat": 4,
 "nbformat_minor": 2
}
