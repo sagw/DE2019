{
 "cells": [
  {
   "cell_type": "code",
   "execution_count": 1,
   "metadata": {},
   "outputs": [
    {
     "name": "stderr",
     "output_type": "stream",
     "text": [
      "Loading required package: ggplot2\n",
      "Registered S3 methods overwritten by 'ggplot2':\n",
      "  method         from \n",
      "  [.quosures     rlang\n",
      "  c.quosures     rlang\n",
      "  print.quosures rlang\n",
      "Loading required package: tidyr\n",
      "Loading required package: dplyr\n",
      "\n",
      "Attaching package: ‘dplyr’\n",
      "\n",
      "The following objects are masked from ‘package:stats’:\n",
      "\n",
      "    filter, lag\n",
      "\n",
      "The following objects are masked from ‘package:base’:\n",
      "\n",
      "    intersect, setdiff, setequal, union\n",
      "\n"
     ]
    }
   ],
   "source": [
    "setwd(\"~/Documents/DE/Shed/\")\n",
    "require(ggplot2)\n",
    "require(tidyr)\n",
    "require(dplyr)"
   ]
  },
  {
   "cell_type": "code",
   "execution_count": 5,
   "metadata": {},
   "outputs": [],
   "source": [
    "cells=read.csv(\"Highphotos_counts.csv\")"
   ]
  },
  {
   "cell_type": "code",
   "execution_count": 6,
   "metadata": {},
   "outputs": [
    {
     "data": {
      "text/html": [
       "<table>\n",
       "<thead><tr><th scope=col>ID</th><th scope=col>Date</th><th scope=col>Rep</th><th scope=col>Photos</th><th scope=col>Number</th><th scope=col>Treatment</th></tr></thead>\n",
       "<tbody>\n",
       "\t<tr><td>23W    </td><td>15-Oct </td><td>1      </td><td>4550   </td><td>370    </td><td>Ambient</td></tr>\n",
       "\t<tr><td>23W    </td><td>15-Oct </td><td>2      </td><td>4551   </td><td>493    </td><td>Ambient</td></tr>\n",
       "\t<tr><td>23W    </td><td>15-Oct </td><td>3      </td><td>4552   </td><td>208    </td><td>Ambient</td></tr>\n",
       "\t<tr><td>23W    </td><td>15-Oct </td><td>4      </td><td>4553   </td><td>288    </td><td>Ambient</td></tr>\n",
       "\t<tr><td>23W    </td><td>15-Oct </td><td>5      </td><td>4554   </td><td>155    </td><td>Ambient</td></tr>\n",
       "\t<tr><td>23W    </td><td>15-Oct </td><td>6      </td><td>4555   </td><td>244    </td><td>Ambient</td></tr>\n",
       "</tbody>\n",
       "</table>\n"
      ],
      "text/latex": [
       "\\begin{tabular}{r|llllll}\n",
       " ID & Date & Rep & Photos & Number & Treatment\\\\\n",
       "\\hline\n",
       "\t 23W     & 15-Oct  & 1       & 4550    & 370     & Ambient\\\\\n",
       "\t 23W     & 15-Oct  & 2       & 4551    & 493     & Ambient\\\\\n",
       "\t 23W     & 15-Oct  & 3       & 4552    & 208     & Ambient\\\\\n",
       "\t 23W     & 15-Oct  & 4       & 4553    & 288     & Ambient\\\\\n",
       "\t 23W     & 15-Oct  & 5       & 4554    & 155     & Ambient\\\\\n",
       "\t 23W     & 15-Oct  & 6       & 4555    & 244     & Ambient\\\\\n",
       "\\end{tabular}\n"
      ],
      "text/markdown": [
       "\n",
       "| ID | Date | Rep | Photos | Number | Treatment |\n",
       "|---|---|---|---|---|---|\n",
       "| 23W     | 15-Oct  | 1       | 4550    | 370     | Ambient |\n",
       "| 23W     | 15-Oct  | 2       | 4551    | 493     | Ambient |\n",
       "| 23W     | 15-Oct  | 3       | 4552    | 208     | Ambient |\n",
       "| 23W     | 15-Oct  | 4       | 4553    | 288     | Ambient |\n",
       "| 23W     | 15-Oct  | 5       | 4554    | 155     | Ambient |\n",
       "| 23W     | 15-Oct  | 6       | 4555    | 244     | Ambient |\n",
       "\n"
      ],
      "text/plain": [
       "  ID  Date   Rep Photos Number Treatment\n",
       "1 23W 15-Oct 1   4550   370    Ambient  \n",
       "2 23W 15-Oct 2   4551   493    Ambient  \n",
       "3 23W 15-Oct 3   4552   208    Ambient  \n",
       "4 23W 15-Oct 4   4553   288    Ambient  \n",
       "5 23W 15-Oct 5   4554   155    Ambient  \n",
       "6 23W 15-Oct 6   4555   244    Ambient  "
      ]
     },
     "metadata": {},
     "output_type": "display_data"
    }
   ],
   "source": [
    "head(cells)"
   ]
  },
  {
   "cell_type": "code",
   "execution_count": 7,
   "metadata": {},
   "outputs": [],
   "source": [
    "totals=as.data.frame(aggregate(Number~ID+Treatment+Date, data=cells, FUN=sum))"
   ]
  },
  {
   "cell_type": "code",
   "execution_count": 9,
   "metadata": {},
   "outputs": [],
   "source": [
    "totals$Number=totals$Number*9"
   ]
  },
  {
   "cell_type": "code",
   "execution_count": 10,
   "metadata": {},
   "outputs": [
    {
     "data": {
      "text/html": [
       "<table>\n",
       "<thead><tr><th scope=col>ID</th><th scope=col>Treatment</th><th scope=col>Date</th><th scope=col>Number</th></tr></thead>\n",
       "<tbody>\n",
       "\t<tr><td>26Y    </td><td>Heat   </td><td>11-Nov </td><td> 3564  </td></tr>\n",
       "\t<tr><td>37Y    </td><td>Heat   </td><td>11-Nov </td><td>14247  </td></tr>\n",
       "\t<tr><td>8W     </td><td>Heat   </td><td>11-Nov </td><td>11277  </td></tr>\n",
       "\t<tr><td>23W    </td><td>Ambient</td><td>15-Oct </td><td>20925  </td></tr>\n",
       "\t<tr><td>29W    </td><td>Ambient</td><td>17-Oct </td><td>13590  </td></tr>\n",
       "\t<tr><td>15Y    </td><td>Heat   </td><td>2-Nov  </td><td> 1809  </td></tr>\n",
       "\t<tr><td>29W    </td><td>Heat   </td><td>2-Nov  </td><td>27117  </td></tr>\n",
       "\t<tr><td>50Y    </td><td>Heat   </td><td>2-Nov  </td><td>18801  </td></tr>\n",
       "\t<tr><td>27Y    </td><td>Ambient</td><td>20-Oct </td><td> 3771  </td></tr>\n",
       "\t<tr><td>29W    </td><td>Heat   </td><td>31-Oct </td><td> 9621  </td></tr>\n",
       "\t<tr><td>26Y    </td><td>Heat   </td><td>7-Nov  </td><td> 4320  </td></tr>\n",
       "\t<tr><td>34Y    </td><td>Heat   </td><td>7-Nov  </td><td>70173  </td></tr>\n",
       "\t<tr><td>37Y    </td><td>Heat   </td><td>7-Nov  </td><td> 3519  </td></tr>\n",
       "</tbody>\n",
       "</table>\n"
      ],
      "text/latex": [
       "\\begin{tabular}{r|llll}\n",
       " ID & Treatment & Date & Number\\\\\n",
       "\\hline\n",
       "\t 26Y     & Heat    & 11-Nov  &  3564  \\\\\n",
       "\t 37Y     & Heat    & 11-Nov  & 14247  \\\\\n",
       "\t 8W      & Heat    & 11-Nov  & 11277  \\\\\n",
       "\t 23W     & Ambient & 15-Oct  & 20925  \\\\\n",
       "\t 29W     & Ambient & 17-Oct  & 13590  \\\\\n",
       "\t 15Y     & Heat    & 2-Nov   &  1809  \\\\\n",
       "\t 29W     & Heat    & 2-Nov   & 27117  \\\\\n",
       "\t 50Y     & Heat    & 2-Nov   & 18801  \\\\\n",
       "\t 27Y     & Ambient & 20-Oct  &  3771  \\\\\n",
       "\t 29W     & Heat    & 31-Oct  &  9621  \\\\\n",
       "\t 26Y     & Heat    & 7-Nov   &  4320  \\\\\n",
       "\t 34Y     & Heat    & 7-Nov   & 70173  \\\\\n",
       "\t 37Y     & Heat    & 7-Nov   &  3519  \\\\\n",
       "\\end{tabular}\n"
      ],
      "text/markdown": [
       "\n",
       "| ID | Treatment | Date | Number |\n",
       "|---|---|---|---|\n",
       "| 26Y     | Heat    | 11-Nov  |  3564   |\n",
       "| 37Y     | Heat    | 11-Nov  | 14247   |\n",
       "| 8W      | Heat    | 11-Nov  | 11277   |\n",
       "| 23W     | Ambient | 15-Oct  | 20925   |\n",
       "| 29W     | Ambient | 17-Oct  | 13590   |\n",
       "| 15Y     | Heat    | 2-Nov   |  1809   |\n",
       "| 29W     | Heat    | 2-Nov   | 27117   |\n",
       "| 50Y     | Heat    | 2-Nov   | 18801   |\n",
       "| 27Y     | Ambient | 20-Oct  |  3771   |\n",
       "| 29W     | Heat    | 31-Oct  |  9621   |\n",
       "| 26Y     | Heat    | 7-Nov   |  4320   |\n",
       "| 34Y     | Heat    | 7-Nov   | 70173   |\n",
       "| 37Y     | Heat    | 7-Nov   |  3519   |\n",
       "\n"
      ],
      "text/plain": [
       "   ID  Treatment Date   Number\n",
       "1  26Y Heat      11-Nov  3564 \n",
       "2  37Y Heat      11-Nov 14247 \n",
       "3  8W  Heat      11-Nov 11277 \n",
       "4  23W Ambient   15-Oct 20925 \n",
       "5  29W Ambient   17-Oct 13590 \n",
       "6  15Y Heat      2-Nov   1809 \n",
       "7  29W Heat      2-Nov  27117 \n",
       "8  50Y Heat      2-Nov  18801 \n",
       "9  27Y Ambient   20-Oct  3771 \n",
       "10 29W Heat      31-Oct  9621 \n",
       "11 26Y Heat      7-Nov   4320 \n",
       "12 34Y Heat      7-Nov  70173 \n",
       "13 37Y Heat      7-Nov   3519 "
      ]
     },
     "metadata": {},
     "output_type": "display_data"
    }
   ],
   "source": [
    "totals"
   ]
  },
  {
   "cell_type": "code",
   "execution_count": null,
   "metadata": {},
   "outputs": [],
   "source": []
  }
 ],
 "metadata": {
  "kernelspec": {
   "display_name": "R",
   "language": "R",
   "name": "ir"
  },
  "language_info": {
   "codemirror_mode": "r",
   "file_extension": ".r",
   "mimetype": "text/x-r-source",
   "name": "R",
   "pygments_lexer": "r",
   "version": "3.6.1"
  }
 },
 "nbformat": 4,
 "nbformat_minor": 2
}
