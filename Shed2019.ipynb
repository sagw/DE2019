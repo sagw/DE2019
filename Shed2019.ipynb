{
 "cells": [
  {
   "cell_type": "code",
   "execution_count": 1,
   "metadata": {
    "scrolled": false
   },
   "outputs": [
    {
     "name": "stderr",
     "output_type": "stream",
     "text": [
      "Loading required package: ggplot2\n",
      "Registered S3 methods overwritten by 'ggplot2':\n",
      "  method         from \n",
      "  [.quosures     rlang\n",
      "  c.quosures     rlang\n",
      "  print.quosures rlang\n",
      "Loading required package: nlme\n",
      "Loading required package: tidyr\n",
      "Loading required package: MASS\n",
      "Loading required package: dplyr\n",
      "\n",
      "Attaching package: ‘dplyr’\n",
      "\n",
      "The following object is masked from ‘package:MASS’:\n",
      "\n",
      "    select\n",
      "\n",
      "The following object is masked from ‘package:nlme’:\n",
      "\n",
      "    collapse\n",
      "\n",
      "The following objects are masked from ‘package:stats’:\n",
      "\n",
      "    filter, lag\n",
      "\n",
      "The following objects are masked from ‘package:base’:\n",
      "\n",
      "    intersect, setdiff, setequal, union\n",
      "\n",
      "Loading required package: EnvStats\n",
      "\n",
      "Attaching package: ‘EnvStats’\n",
      "\n",
      "The following object is masked from ‘package:MASS’:\n",
      "\n",
      "    boxcox\n",
      "\n",
      "The following objects are masked from ‘package:stats’:\n",
      "\n",
      "    predict, predict.lm\n",
      "\n",
      "The following object is masked from ‘package:base’:\n",
      "\n",
      "    print.default\n",
      "\n",
      "Loading required package: lme4\n",
      "Loading required package: Matrix\n",
      "\n",
      "Attaching package: ‘Matrix’\n",
      "\n",
      "The following objects are masked from ‘package:tidyr’:\n",
      "\n",
      "    expand, pack, unpack\n",
      "\n",
      "\n",
      "Attaching package: ‘lme4’\n",
      "\n",
      "The following object is masked from ‘package:nlme’:\n",
      "\n",
      "    lmList\n",
      "\n"
     ]
    }
   ],
   "source": [
    "setwd(\"~/Documents/DE/Shed/\")\n",
    "require(ggplot2)\n",
    "require(nlme)\n",
    "require(tidyr)\n",
    "require(MASS)\n",
    "require(dplyr)\n",
    "require(EnvStats)\n",
    "require(lme4)"
   ]
  },
  {
   "cell_type": "markdown",
   "metadata": {},
   "source": [
    "Other things to look at: \n",
    "Can we compare oysters that died to oysters that survived. \n",
    "when an oyster died, you know how many cells they released in the last 6 hours. "
   ]
  },
  {
   "cell_type": "code",
   "execution_count": 2,
   "metadata": {},
   "outputs": [],
   "source": [
    "cells=read.csv(\"Cells_found_actualhigh.csv\")\n",
    "oysters=read.csv(\"Oyster_data.csv\")"
   ]
  },
  {
   "cell_type": "code",
   "execution_count": 44,
   "metadata": {},
   "outputs": [
    {
     "data": {
      "text/html": [
       "<table>\n",
       "<thead><tr><th scope=col>ID</th><th scope=col>Ambient_5</th><th scope=col>Ambient_7</th><th scope=col>Ambient_10</th><th scope=col>Ambient_14</th><th scope=col>Heat_21</th><th scope=col>Heat_23</th><th scope=col>Heat_28</th><th scope=col>Heat_32</th></tr></thead>\n",
       "<tbody>\n",
       "\t<tr><td>26Y </td><td>NA  </td><td>NA  </td><td>   4</td><td> 5  </td><td> NA </td><td>NA  </td><td>4320</td><td>3564</td></tr>\n",
       "\t<tr><td>27Y </td><td>NA  </td><td>NA  </td><td>3771</td><td>NA  </td><td> NA </td><td>NA  </td><td>  NA</td><td>  NA</td></tr>\n",
       "\t<tr><td>28Y </td><td>NA  </td><td>NA  </td><td>  NA</td><td>NA  </td><td>112 </td><td> 6  </td><td>  NA</td><td>  NA</td></tr>\n",
       "\t<tr><td>29Y </td><td>NA  </td><td>NA  </td><td>   0</td><td>NA  </td><td> NA </td><td>NA  </td><td>  NA</td><td>   0</td></tr>\n",
       "\t<tr><td>30Y </td><td>NA  </td><td>NA  </td><td>   0</td><td> 7  </td><td> NA </td><td>NA  </td><td>  85</td><td>   0</td></tr>\n",
       "\t<tr><td>32Y </td><td>NA  </td><td>NA  </td><td>   1</td><td>59  </td><td> NA </td><td>NA  </td><td>  62</td><td>  60</td></tr>\n",
       "</tbody>\n",
       "</table>\n"
      ],
      "text/latex": [
       "\\begin{tabular}{r|lllllllll}\n",
       " ID & Ambient\\_5 & Ambient\\_7 & Ambient\\_10 & Ambient\\_14 & Heat\\_21 & Heat\\_23 & Heat\\_28 & Heat\\_32\\\\\n",
       "\\hline\n",
       "\t 26Y  & NA   & NA   &    4 &  5   &  NA  & NA   & 4320 & 3564\\\\\n",
       "\t 27Y  & NA   & NA   & 3771 & NA   &  NA  & NA   &   NA &   NA\\\\\n",
       "\t 28Y  & NA   & NA   &   NA & NA   & 112  &  6   &   NA &   NA\\\\\n",
       "\t 29Y  & NA   & NA   &    0 & NA   &  NA  & NA   &   NA &    0\\\\\n",
       "\t 30Y  & NA   & NA   &    0 &  7   &  NA  & NA   &   85 &    0\\\\\n",
       "\t 32Y  & NA   & NA   &    1 & 59   &  NA  & NA   &   62 &   60\\\\\n",
       "\\end{tabular}\n"
      ],
      "text/markdown": [
       "\n",
       "| ID | Ambient_5 | Ambient_7 | Ambient_10 | Ambient_14 | Heat_21 | Heat_23 | Heat_28 | Heat_32 |\n",
       "|---|---|---|---|---|---|---|---|---|\n",
       "| 26Y  | NA   | NA   |    4 |  5   |  NA  | NA   | 4320 | 3564 |\n",
       "| 27Y  | NA   | NA   | 3771 | NA   |  NA  | NA   |   NA |   NA |\n",
       "| 28Y  | NA   | NA   |   NA | NA   | 112  |  6   |   NA |   NA |\n",
       "| 29Y  | NA   | NA   |    0 | NA   |  NA  | NA   |   NA |    0 |\n",
       "| 30Y  | NA   | NA   |    0 |  7   |  NA  | NA   |   85 |    0 |\n",
       "| 32Y  | NA   | NA   |    1 | 59   |  NA  | NA   |   62 |   60 |\n",
       "\n"
      ],
      "text/plain": [
       "  ID  Ambient_5 Ambient_7 Ambient_10 Ambient_14 Heat_21 Heat_23 Heat_28 Heat_32\n",
       "1 26Y NA        NA           4        5          NA     NA      4320    3564   \n",
       "2 27Y NA        NA        3771       NA          NA     NA        NA      NA   \n",
       "3 28Y NA        NA          NA       NA         112      6        NA      NA   \n",
       "4 29Y NA        NA           0       NA          NA     NA        NA       0   \n",
       "5 30Y NA        NA           0        7          NA     NA        85       0   \n",
       "6 32Y NA        NA           1       59          NA     NA        62      60   "
      ]
     },
     "metadata": {},
     "output_type": "display_data"
    }
   ],
   "source": [
    "head(cells)"
   ]
  },
  {
   "cell_type": "code",
   "execution_count": 3,
   "metadata": {
    "scrolled": true
   },
   "outputs": [],
   "source": [
    "#reformat dataframe, separate day and treatment\n",
    "cells=pivot_longer(cells, Ambient_5:Heat_32, names_to=c(\"Treatment\",\"Day\"), names_sep=\"_\", values_to=\"number\")"
   ]
  },
  {
   "cell_type": "code",
   "execution_count": 4,
   "metadata": {
    "scrolled": true
   },
   "outputs": [
    {
     "data": {
      "text/html": [
       "<table>\n",
       "<thead><tr><th scope=col>ID</th><th scope=col>Treatment</th><th scope=col>Day</th><th scope=col>number</th></tr></thead>\n",
       "<tbody>\n",
       "\t<tr><td>26Y    </td><td>Ambient</td><td>5      </td><td>NA     </td></tr>\n",
       "\t<tr><td>26Y    </td><td>Ambient</td><td>7      </td><td>NA     </td></tr>\n",
       "\t<tr><td>26Y    </td><td>Ambient</td><td>10     </td><td> 4     </td></tr>\n",
       "\t<tr><td>26Y    </td><td>Ambient</td><td>14     </td><td> 5     </td></tr>\n",
       "\t<tr><td>26Y    </td><td>Heat   </td><td>21     </td><td>NA     </td></tr>\n",
       "\t<tr><td>26Y    </td><td>Heat   </td><td>23     </td><td>NA     </td></tr>\n",
       "</tbody>\n",
       "</table>\n"
      ],
      "text/latex": [
       "\\begin{tabular}{r|llll}\n",
       " ID & Treatment & Day & number\\\\\n",
       "\\hline\n",
       "\t 26Y     & Ambient & 5       & NA     \\\\\n",
       "\t 26Y     & Ambient & 7       & NA     \\\\\n",
       "\t 26Y     & Ambient & 10      &  4     \\\\\n",
       "\t 26Y     & Ambient & 14      &  5     \\\\\n",
       "\t 26Y     & Heat    & 21      & NA     \\\\\n",
       "\t 26Y     & Heat    & 23      & NA     \\\\\n",
       "\\end{tabular}\n"
      ],
      "text/markdown": [
       "\n",
       "| ID | Treatment | Day | number |\n",
       "|---|---|---|---|\n",
       "| 26Y     | Ambient | 5       | NA      |\n",
       "| 26Y     | Ambient | 7       | NA      |\n",
       "| 26Y     | Ambient | 10      |  4      |\n",
       "| 26Y     | Ambient | 14      |  5      |\n",
       "| 26Y     | Heat    | 21      | NA      |\n",
       "| 26Y     | Heat    | 23      | NA      |\n",
       "\n"
      ],
      "text/plain": [
       "  ID  Treatment Day number\n",
       "1 26Y Ambient   5   NA    \n",
       "2 26Y Ambient   7   NA    \n",
       "3 26Y Ambient   10   4    \n",
       "4 26Y Ambient   14   5    \n",
       "5 26Y Heat      21  NA    \n",
       "6 26Y Heat      23  NA    "
      ]
     },
     "metadata": {},
     "output_type": "display_data"
    }
   ],
   "source": [
    "head(cells)"
   ]
  },
  {
   "cell_type": "code",
   "execution_count": 47,
   "metadata": {},
   "outputs": [
    {
     "data": {
      "text/html": [
       "<table>\n",
       "<thead><tr><th scope=col>ID</th><th scope=col>Salinity</th><th scope=col>TISSUE</th><th scope=col>MORTALITY.DATE</th><th scope=col>Gape</th><th scope=col>Mortality</th><th scope=col>Gape_day</th><th scope=col>Mortality_day</th><th scope=col>Four_trials</th><th scope=col>Survived</th></tr></thead>\n",
       "<tbody>\n",
       "\t<tr><td>26Y   </td><td>HIGH  </td><td> 4    </td><td>      </td><td>NA    </td><td>NA    </td><td>NA    </td><td>NA    </td><td>Yes   </td><td>Yes   </td></tr>\n",
       "\t<tr><td>27Y   </td><td>HIGH  </td><td>NA    </td><td>20-Oct</td><td>NA    </td><td>21-Oct</td><td>NA    </td><td>11    </td><td>No    </td><td>No    </td></tr>\n",
       "\t<tr><td>28Y   </td><td>HIGH  </td><td> 2    </td><td>      </td><td>NA    </td><td>NA    </td><td>NA    </td><td>NA    </td><td>No    </td><td>Yes   </td></tr>\n",
       "\t<tr><td>29Y   </td><td>HIGH  </td><td>NA    </td><td>11-Nov</td><td>NA    </td><td>12-Nov</td><td>NA    </td><td>NA    </td><td>No    </td><td>No    </td></tr>\n",
       "\t<tr><td>30Y   </td><td>HIGH  </td><td> 3    </td><td>      </td><td>NA    </td><td>NA    </td><td>NA    </td><td>NA    </td><td>Yes   </td><td>Yes   </td></tr>\n",
       "\t<tr><td>32Y   </td><td>HIGH  </td><td> 5    </td><td>      </td><td>NA    </td><td>NA    </td><td>NA    </td><td>NA    </td><td>Yes   </td><td>Yes   </td></tr>\n",
       "</tbody>\n",
       "</table>\n"
      ],
      "text/latex": [
       "\\begin{tabular}{r|llllllllll}\n",
       " ID & Salinity & TISSUE & MORTALITY.DATE & Gape & Mortality & Gape\\_day & Mortality\\_day & Four\\_trials & Survived\\\\\n",
       "\\hline\n",
       "\t 26Y    & HIGH   &  4     &        & NA     & NA     & NA     & NA     & Yes    & Yes   \\\\\n",
       "\t 27Y    & HIGH   & NA     & 20-Oct & NA     & 21-Oct & NA     & 11     & No     & No    \\\\\n",
       "\t 28Y    & HIGH   &  2     &        & NA     & NA     & NA     & NA     & No     & Yes   \\\\\n",
       "\t 29Y    & HIGH   & NA     & 11-Nov & NA     & 12-Nov & NA     & NA     & No     & No    \\\\\n",
       "\t 30Y    & HIGH   &  3     &        & NA     & NA     & NA     & NA     & Yes    & Yes   \\\\\n",
       "\t 32Y    & HIGH   &  5     &        & NA     & NA     & NA     & NA     & Yes    & Yes   \\\\\n",
       "\\end{tabular}\n"
      ],
      "text/markdown": [
       "\n",
       "| ID | Salinity | TISSUE | MORTALITY.DATE | Gape | Mortality | Gape_day | Mortality_day | Four_trials | Survived |\n",
       "|---|---|---|---|---|---|---|---|---|---|\n",
       "| 26Y    | HIGH   |  4     |        | NA     | NA     | NA     | NA     | Yes    | Yes    |\n",
       "| 27Y    | HIGH   | NA     | 20-Oct | NA     | 21-Oct | NA     | 11     | No     | No     |\n",
       "| 28Y    | HIGH   |  2     |        | NA     | NA     | NA     | NA     | No     | Yes    |\n",
       "| 29Y    | HIGH   | NA     | 11-Nov | NA     | 12-Nov | NA     | NA     | No     | No     |\n",
       "| 30Y    | HIGH   |  3     |        | NA     | NA     | NA     | NA     | Yes    | Yes    |\n",
       "| 32Y    | HIGH   |  5     |        | NA     | NA     | NA     | NA     | Yes    | Yes    |\n",
       "\n"
      ],
      "text/plain": [
       "  ID  Salinity TISSUE MORTALITY.DATE Gape Mortality Gape_day Mortality_day\n",
       "1 26Y HIGH      4                    NA   NA        NA       NA           \n",
       "2 27Y HIGH     NA     20-Oct         NA   21-Oct    NA       11           \n",
       "3 28Y HIGH      2                    NA   NA        NA       NA           \n",
       "4 29Y HIGH     NA     11-Nov         NA   12-Nov    NA       NA           \n",
       "5 30Y HIGH      3                    NA   NA        NA       NA           \n",
       "6 32Y HIGH      5                    NA   NA        NA       NA           \n",
       "  Four_trials Survived\n",
       "1 Yes         Yes     \n",
       "2 No          No      \n",
       "3 No          Yes     \n",
       "4 No          No      \n",
       "5 Yes         Yes     \n",
       "6 Yes         Yes     "
      ]
     },
     "metadata": {},
     "output_type": "display_data"
    }
   ],
   "source": [
    "head(oysters)"
   ]
  },
  {
   "cell_type": "code",
   "execution_count": 5,
   "metadata": {},
   "outputs": [],
   "source": [
    "all=merge(cells,oysters, by=\"ID\")"
   ]
  },
  {
   "cell_type": "code",
   "execution_count": 6,
   "metadata": {
    "scrolled": true
   },
   "outputs": [
    {
     "data": {
      "text/html": [
       "<table>\n",
       "<thead><tr><th scope=col>ID</th><th scope=col>Treatment</th><th scope=col>Day</th><th scope=col>number</th><th scope=col>Salinity</th><th scope=col>TISSUE</th><th scope=col>MORTALITY.DATE</th><th scope=col>Gape</th><th scope=col>Mortality</th><th scope=col>Gape_day</th><th scope=col>Mortality_day</th><th scope=col>Four_trials</th><th scope=col>Survived</th></tr></thead>\n",
       "<tbody>\n",
       "\t<tr><td>10W    </td><td>Ambient</td><td>5      </td><td>NA     </td><td>LOW    </td><td>0.5    </td><td>       </td><td>NA     </td><td>NA     </td><td>NA     </td><td>NA     </td><td>No     </td><td>Yes    </td></tr>\n",
       "\t<tr><td>10W    </td><td>Ambient</td><td>7      </td><td>NA     </td><td>LOW    </td><td>0.5    </td><td>       </td><td>NA     </td><td>NA     </td><td>NA     </td><td>NA     </td><td>No     </td><td>Yes    </td></tr>\n",
       "\t<tr><td>10W    </td><td>Ambient</td><td>10     </td><td>NA     </td><td>LOW    </td><td>0.5    </td><td>       </td><td>NA     </td><td>NA     </td><td>NA     </td><td>NA     </td><td>No     </td><td>Yes    </td></tr>\n",
       "\t<tr><td>10W    </td><td>Ambient</td><td>14     </td><td>NA     </td><td>LOW    </td><td>0.5    </td><td>       </td><td>NA     </td><td>NA     </td><td>NA     </td><td>NA     </td><td>No     </td><td>Yes    </td></tr>\n",
       "\t<tr><td>10W    </td><td>Heat   </td><td>21     </td><td>27     </td><td>LOW    </td><td>0.5    </td><td>       </td><td>NA     </td><td>NA     </td><td>NA     </td><td>NA     </td><td>No     </td><td>Yes    </td></tr>\n",
       "\t<tr><td>10W    </td><td>Heat   </td><td>23     </td><td> 0     </td><td>LOW    </td><td>0.5    </td><td>       </td><td>NA     </td><td>NA     </td><td>NA     </td><td>NA     </td><td>No     </td><td>Yes    </td></tr>\n",
       "</tbody>\n",
       "</table>\n"
      ],
      "text/latex": [
       "\\begin{tabular}{r|lllllllllllll}\n",
       " ID & Treatment & Day & number & Salinity & TISSUE & MORTALITY.DATE & Gape & Mortality & Gape\\_day & Mortality\\_day & Four\\_trials & Survived\\\\\n",
       "\\hline\n",
       "\t 10W     & Ambient & 5       & NA      & LOW     & 0.5     &         & NA      & NA      & NA      & NA      & No      & Yes    \\\\\n",
       "\t 10W     & Ambient & 7       & NA      & LOW     & 0.5     &         & NA      & NA      & NA      & NA      & No      & Yes    \\\\\n",
       "\t 10W     & Ambient & 10      & NA      & LOW     & 0.5     &         & NA      & NA      & NA      & NA      & No      & Yes    \\\\\n",
       "\t 10W     & Ambient & 14      & NA      & LOW     & 0.5     &         & NA      & NA      & NA      & NA      & No      & Yes    \\\\\n",
       "\t 10W     & Heat    & 21      & 27      & LOW     & 0.5     &         & NA      & NA      & NA      & NA      & No      & Yes    \\\\\n",
       "\t 10W     & Heat    & 23      &  0      & LOW     & 0.5     &         & NA      & NA      & NA      & NA      & No      & Yes    \\\\\n",
       "\\end{tabular}\n"
      ],
      "text/markdown": [
       "\n",
       "| ID | Treatment | Day | number | Salinity | TISSUE | MORTALITY.DATE | Gape | Mortality | Gape_day | Mortality_day | Four_trials | Survived |\n",
       "|---|---|---|---|---|---|---|---|---|---|---|---|---|\n",
       "| 10W     | Ambient | 5       | NA      | LOW     | 0.5     |         | NA      | NA      | NA      | NA      | No      | Yes     |\n",
       "| 10W     | Ambient | 7       | NA      | LOW     | 0.5     |         | NA      | NA      | NA      | NA      | No      | Yes     |\n",
       "| 10W     | Ambient | 10      | NA      | LOW     | 0.5     |         | NA      | NA      | NA      | NA      | No      | Yes     |\n",
       "| 10W     | Ambient | 14      | NA      | LOW     | 0.5     |         | NA      | NA      | NA      | NA      | No      | Yes     |\n",
       "| 10W     | Heat    | 21      | 27      | LOW     | 0.5     |         | NA      | NA      | NA      | NA      | No      | Yes     |\n",
       "| 10W     | Heat    | 23      |  0      | LOW     | 0.5     |         | NA      | NA      | NA      | NA      | No      | Yes     |\n",
       "\n"
      ],
      "text/plain": [
       "  ID  Treatment Day number Salinity TISSUE MORTALITY.DATE Gape Mortality\n",
       "1 10W Ambient   5   NA     LOW      0.5                   NA   NA       \n",
       "2 10W Ambient   7   NA     LOW      0.5                   NA   NA       \n",
       "3 10W Ambient   10  NA     LOW      0.5                   NA   NA       \n",
       "4 10W Ambient   14  NA     LOW      0.5                   NA   NA       \n",
       "5 10W Heat      21  27     LOW      0.5                   NA   NA       \n",
       "6 10W Heat      23   0     LOW      0.5                   NA   NA       \n",
       "  Gape_day Mortality_day Four_trials Survived\n",
       "1 NA       NA            No          Yes     \n",
       "2 NA       NA            No          Yes     \n",
       "3 NA       NA            No          Yes     \n",
       "4 NA       NA            No          Yes     \n",
       "5 NA       NA            No          Yes     \n",
       "6 NA       NA            No          Yes     "
      ]
     },
     "metadata": {},
     "output_type": "display_data"
    }
   ],
   "source": [
    "head(all)"
   ]
  },
  {
   "cell_type": "code",
   "execution_count": 7,
   "metadata": {},
   "outputs": [],
   "source": [
    "all$Trial=ifelse(all$Day==\"5\"|all$Day==\"10\"|all$Day== \"21\"| all$Day==\"28\", \"one\", \"two\")"
   ]
  },
  {
   "cell_type": "code",
   "execution_count": 8,
   "metadata": {},
   "outputs": [
    {
     "data": {
      "text/html": [
       "<table>\n",
       "<thead><tr><th scope=col>ID</th><th scope=col>Treatment</th><th scope=col>Day</th><th scope=col>number</th><th scope=col>Salinity</th><th scope=col>TISSUE</th><th scope=col>MORTALITY.DATE</th><th scope=col>Gape</th><th scope=col>Mortality</th><th scope=col>Gape_day</th><th scope=col>Mortality_day</th><th scope=col>Four_trials</th><th scope=col>Survived</th><th scope=col>Trial</th></tr></thead>\n",
       "<tbody>\n",
       "\t<tr><td>10W    </td><td>Ambient</td><td>5      </td><td>NA     </td><td>LOW    </td><td>0.5    </td><td>       </td><td>NA     </td><td>NA     </td><td>NA     </td><td>NA     </td><td>No     </td><td>Yes    </td><td>one    </td></tr>\n",
       "\t<tr><td>10W    </td><td>Ambient</td><td>7      </td><td>NA     </td><td>LOW    </td><td>0.5    </td><td>       </td><td>NA     </td><td>NA     </td><td>NA     </td><td>NA     </td><td>No     </td><td>Yes    </td><td>two    </td></tr>\n",
       "\t<tr><td>10W    </td><td>Ambient</td><td>10     </td><td>NA     </td><td>LOW    </td><td>0.5    </td><td>       </td><td>NA     </td><td>NA     </td><td>NA     </td><td>NA     </td><td>No     </td><td>Yes    </td><td>one    </td></tr>\n",
       "\t<tr><td>10W    </td><td>Ambient</td><td>14     </td><td>NA     </td><td>LOW    </td><td>0.5    </td><td>       </td><td>NA     </td><td>NA     </td><td>NA     </td><td>NA     </td><td>No     </td><td>Yes    </td><td>two    </td></tr>\n",
       "\t<tr><td>10W    </td><td>Heat   </td><td>21     </td><td>27     </td><td>LOW    </td><td>0.5    </td><td>       </td><td>NA     </td><td>NA     </td><td>NA     </td><td>NA     </td><td>No     </td><td>Yes    </td><td>one    </td></tr>\n",
       "\t<tr><td>10W    </td><td>Heat   </td><td>23     </td><td> 0     </td><td>LOW    </td><td>0.5    </td><td>       </td><td>NA     </td><td>NA     </td><td>NA     </td><td>NA     </td><td>No     </td><td>Yes    </td><td>two    </td></tr>\n",
       "</tbody>\n",
       "</table>\n"
      ],
      "text/latex": [
       "\\begin{tabular}{r|llllllllllllll}\n",
       " ID & Treatment & Day & number & Salinity & TISSUE & MORTALITY.DATE & Gape & Mortality & Gape\\_day & Mortality\\_day & Four\\_trials & Survived & Trial\\\\\n",
       "\\hline\n",
       "\t 10W     & Ambient & 5       & NA      & LOW     & 0.5     &         & NA      & NA      & NA      & NA      & No      & Yes     & one    \\\\\n",
       "\t 10W     & Ambient & 7       & NA      & LOW     & 0.5     &         & NA      & NA      & NA      & NA      & No      & Yes     & two    \\\\\n",
       "\t 10W     & Ambient & 10      & NA      & LOW     & 0.5     &         & NA      & NA      & NA      & NA      & No      & Yes     & one    \\\\\n",
       "\t 10W     & Ambient & 14      & NA      & LOW     & 0.5     &         & NA      & NA      & NA      & NA      & No      & Yes     & two    \\\\\n",
       "\t 10W     & Heat    & 21      & 27      & LOW     & 0.5     &         & NA      & NA      & NA      & NA      & No      & Yes     & one    \\\\\n",
       "\t 10W     & Heat    & 23      &  0      & LOW     & 0.5     &         & NA      & NA      & NA      & NA      & No      & Yes     & two    \\\\\n",
       "\\end{tabular}\n"
      ],
      "text/markdown": [
       "\n",
       "| ID | Treatment | Day | number | Salinity | TISSUE | MORTALITY.DATE | Gape | Mortality | Gape_day | Mortality_day | Four_trials | Survived | Trial |\n",
       "|---|---|---|---|---|---|---|---|---|---|---|---|---|---|\n",
       "| 10W     | Ambient | 5       | NA      | LOW     | 0.5     |         | NA      | NA      | NA      | NA      | No      | Yes     | one     |\n",
       "| 10W     | Ambient | 7       | NA      | LOW     | 0.5     |         | NA      | NA      | NA      | NA      | No      | Yes     | two     |\n",
       "| 10W     | Ambient | 10      | NA      | LOW     | 0.5     |         | NA      | NA      | NA      | NA      | No      | Yes     | one     |\n",
       "| 10W     | Ambient | 14      | NA      | LOW     | 0.5     |         | NA      | NA      | NA      | NA      | No      | Yes     | two     |\n",
       "| 10W     | Heat    | 21      | 27      | LOW     | 0.5     |         | NA      | NA      | NA      | NA      | No      | Yes     | one     |\n",
       "| 10W     | Heat    | 23      |  0      | LOW     | 0.5     |         | NA      | NA      | NA      | NA      | No      | Yes     | two     |\n",
       "\n"
      ],
      "text/plain": [
       "  ID  Treatment Day number Salinity TISSUE MORTALITY.DATE Gape Mortality\n",
       "1 10W Ambient   5   NA     LOW      0.5                   NA   NA       \n",
       "2 10W Ambient   7   NA     LOW      0.5                   NA   NA       \n",
       "3 10W Ambient   10  NA     LOW      0.5                   NA   NA       \n",
       "4 10W Ambient   14  NA     LOW      0.5                   NA   NA       \n",
       "5 10W Heat      21  27     LOW      0.5                   NA   NA       \n",
       "6 10W Heat      23   0     LOW      0.5                   NA   NA       \n",
       "  Gape_day Mortality_day Four_trials Survived Trial\n",
       "1 NA       NA            No          Yes      one  \n",
       "2 NA       NA            No          Yes      two  \n",
       "3 NA       NA            No          Yes      one  \n",
       "4 NA       NA            No          Yes      two  \n",
       "5 NA       NA            No          Yes      one  \n",
       "6 NA       NA            No          Yes      two  "
      ]
     },
     "metadata": {},
     "output_type": "display_data"
    }
   ],
   "source": [
    "head(all)"
   ]
  },
  {
   "cell_type": "markdown",
   "metadata": {},
   "source": [
    "## Influence of salinity on mackin score of tissue (for all oysters with mackin score) "
   ]
  },
  {
   "cell_type": "code",
   "execution_count": 9,
   "metadata": {},
   "outputs": [],
   "source": [
    "#remove oysters without a mackin score\n",
    "mackin=all[!is.na(all$TISSUE),]"
   ]
  },
  {
   "cell_type": "code",
   "execution_count": 10,
   "metadata": {},
   "outputs": [
    {
     "data": {
      "text/html": [
       "<table>\n",
       "<thead><tr><th scope=col>ID</th><th scope=col>Treatment</th><th scope=col>Day</th><th scope=col>number</th><th scope=col>Salinity</th><th scope=col>TISSUE</th><th scope=col>MORTALITY.DATE</th><th scope=col>Gape</th><th scope=col>Mortality</th><th scope=col>Gape_day</th><th scope=col>Mortality_day</th><th scope=col>Four_trials</th><th scope=col>Survived</th><th scope=col>Trial</th></tr></thead>\n",
       "<tbody>\n",
       "\t<tr><td>10W    </td><td>Ambient</td><td>5      </td><td>NA     </td><td>LOW    </td><td>0.5    </td><td>       </td><td>NA     </td><td>NA     </td><td>NA     </td><td>NA     </td><td>No     </td><td>Yes    </td><td>one    </td></tr>\n",
       "\t<tr><td>10W    </td><td>Ambient</td><td>7      </td><td>NA     </td><td>LOW    </td><td>0.5    </td><td>       </td><td>NA     </td><td>NA     </td><td>NA     </td><td>NA     </td><td>No     </td><td>Yes    </td><td>two    </td></tr>\n",
       "\t<tr><td>10W    </td><td>Ambient</td><td>10     </td><td>NA     </td><td>LOW    </td><td>0.5    </td><td>       </td><td>NA     </td><td>NA     </td><td>NA     </td><td>NA     </td><td>No     </td><td>Yes    </td><td>one    </td></tr>\n",
       "\t<tr><td>10W    </td><td>Ambient</td><td>14     </td><td>NA     </td><td>LOW    </td><td>0.5    </td><td>       </td><td>NA     </td><td>NA     </td><td>NA     </td><td>NA     </td><td>No     </td><td>Yes    </td><td>two    </td></tr>\n",
       "\t<tr><td>10W    </td><td>Heat   </td><td>21     </td><td>27     </td><td>LOW    </td><td>0.5    </td><td>       </td><td>NA     </td><td>NA     </td><td>NA     </td><td>NA     </td><td>No     </td><td>Yes    </td><td>one    </td></tr>\n",
       "\t<tr><td>10W    </td><td>Heat   </td><td>23     </td><td> 0     </td><td>LOW    </td><td>0.5    </td><td>       </td><td>NA     </td><td>NA     </td><td>NA     </td><td>NA     </td><td>No     </td><td>Yes    </td><td>two    </td></tr>\n",
       "</tbody>\n",
       "</table>\n"
      ],
      "text/latex": [
       "\\begin{tabular}{r|llllllllllllll}\n",
       " ID & Treatment & Day & number & Salinity & TISSUE & MORTALITY.DATE & Gape & Mortality & Gape\\_day & Mortality\\_day & Four\\_trials & Survived & Trial\\\\\n",
       "\\hline\n",
       "\t 10W     & Ambient & 5       & NA      & LOW     & 0.5     &         & NA      & NA      & NA      & NA      & No      & Yes     & one    \\\\\n",
       "\t 10W     & Ambient & 7       & NA      & LOW     & 0.5     &         & NA      & NA      & NA      & NA      & No      & Yes     & two    \\\\\n",
       "\t 10W     & Ambient & 10      & NA      & LOW     & 0.5     &         & NA      & NA      & NA      & NA      & No      & Yes     & one    \\\\\n",
       "\t 10W     & Ambient & 14      & NA      & LOW     & 0.5     &         & NA      & NA      & NA      & NA      & No      & Yes     & two    \\\\\n",
       "\t 10W     & Heat    & 21      & 27      & LOW     & 0.5     &         & NA      & NA      & NA      & NA      & No      & Yes     & one    \\\\\n",
       "\t 10W     & Heat    & 23      &  0      & LOW     & 0.5     &         & NA      & NA      & NA      & NA      & No      & Yes     & two    \\\\\n",
       "\\end{tabular}\n"
      ],
      "text/markdown": [
       "\n",
       "| ID | Treatment | Day | number | Salinity | TISSUE | MORTALITY.DATE | Gape | Mortality | Gape_day | Mortality_day | Four_trials | Survived | Trial |\n",
       "|---|---|---|---|---|---|---|---|---|---|---|---|---|---|\n",
       "| 10W     | Ambient | 5       | NA      | LOW     | 0.5     |         | NA      | NA      | NA      | NA      | No      | Yes     | one     |\n",
       "| 10W     | Ambient | 7       | NA      | LOW     | 0.5     |         | NA      | NA      | NA      | NA      | No      | Yes     | two     |\n",
       "| 10W     | Ambient | 10      | NA      | LOW     | 0.5     |         | NA      | NA      | NA      | NA      | No      | Yes     | one     |\n",
       "| 10W     | Ambient | 14      | NA      | LOW     | 0.5     |         | NA      | NA      | NA      | NA      | No      | Yes     | two     |\n",
       "| 10W     | Heat    | 21      | 27      | LOW     | 0.5     |         | NA      | NA      | NA      | NA      | No      | Yes     | one     |\n",
       "| 10W     | Heat    | 23      |  0      | LOW     | 0.5     |         | NA      | NA      | NA      | NA      | No      | Yes     | two     |\n",
       "\n"
      ],
      "text/plain": [
       "  ID  Treatment Day number Salinity TISSUE MORTALITY.DATE Gape Mortality\n",
       "1 10W Ambient   5   NA     LOW      0.5                   NA   NA       \n",
       "2 10W Ambient   7   NA     LOW      0.5                   NA   NA       \n",
       "3 10W Ambient   10  NA     LOW      0.5                   NA   NA       \n",
       "4 10W Ambient   14  NA     LOW      0.5                   NA   NA       \n",
       "5 10W Heat      21  27     LOW      0.5                   NA   NA       \n",
       "6 10W Heat      23   0     LOW      0.5                   NA   NA       \n",
       "  Gape_day Mortality_day Four_trials Survived Trial\n",
       "1 NA       NA            No          Yes      one  \n",
       "2 NA       NA            No          Yes      two  \n",
       "3 NA       NA            No          Yes      one  \n",
       "4 NA       NA            No          Yes      two  \n",
       "5 NA       NA            No          Yes      one  \n",
       "6 NA       NA            No          Yes      two  "
      ]
     },
     "metadata": {},
     "output_type": "display_data"
    }
   ],
   "source": [
    "head(mackin)"
   ]
  },
  {
   "cell_type": "code",
   "execution_count": 11,
   "metadata": {},
   "outputs": [
    {
     "data": {
      "text/html": [
       "71"
      ],
      "text/latex": [
       "71"
      ],
      "text/markdown": [
       "71"
      ],
      "text/plain": [
       "[1] 71"
      ]
     },
     "metadata": {},
     "output_type": "display_data"
    },
    {
     "data": {
      "text/html": [
       "53"
      ],
      "text/latex": [
       "53"
      ],
      "text/markdown": [
       "53"
      ],
      "text/plain": [
       "[1] 53"
      ]
     },
     "metadata": {},
     "output_type": "display_data"
    }
   ],
   "source": [
    "#how many individuals do we have?\n",
    "length(unique(all$ID))\n",
    "length(unique(mackin$ID))"
   ]
  },
  {
   "cell_type": "code",
   "execution_count": 12,
   "metadata": {},
   "outputs": [
    {
     "data": {
      "image/png": "[encoded data removed]",
      "text/plain": [
       "plot without title"
      ]
     },
     "metadata": {},
     "output_type": "display_data"
    }
   ],
   "source": [
    "#plot a boxplot\n",
    "ggplot(mackin, aes(x = Salinity, y = TISSUE, fill=Salinity)) +\n",
    "scale_fill_manual(values=c(\"darkred\", \"goldenrod\"))+\n",
    "        geom_boxplot()+\n",
    "geom_jitter(shape=16, position=position_jitter(0.2))+\n",
    "theme_bw()+\n",
    " theme(legend.position=\"right\", panel.border = element_blank(), \n",
    "          panel.grid.major.x = element_blank(), \n",
    "          panel.grid.minor.x = element_blank(),\n",
    "          axis.ticks.x=element_blank(), axis.line=element_line(color=\"black\"), axis.text=element_text(color=\"black\"),\n",
    "          text = element_text(size=20))+\n",
    "ylab(\"Tissue Mackin Score\")"
   ]
  },
  {
   "cell_type": "code",
   "execution_count": 13,
   "metadata": {},
   "outputs": [
    {
     "name": "stderr",
     "output_type": "stream",
     "text": [
      "`stat_bin()` using `bins = 30`. Pick better value with `binwidth`.\n"
     ]
    },
    {
     "data": {
      "image/png": "[encoded data removed]",
      "text/plain": [
       "plot without title"
      ]
     },
     "metadata": {},
     "output_type": "display_data"
    }
   ],
   "source": [
    "#plot a histogram\n",
    "ggplot(mackin, aes(x=TISSUE, fill=Salinity)) +\n",
    "  geom_histogram(position=\"dodge\")+\n",
    "scale_fill_manual(values=c(\"darkred\", \"goldenrod\"))+\n",
    "theme_bw()+\n",
    " theme(legend.position=\"right\", panel.border = element_blank(), \n",
    "          panel.grid.major.x = element_blank(), \n",
    "          panel.grid.minor.x = element_blank(),\n",
    "    \n",
    "          axis.ticks.x=element_blank(), axis.line=element_line(color=\"black\"), axis.text=element_text(color=\"black\"),\n",
    "          text = element_text(size=20))+\n",
    "ylab(\"Frequency\")+xlab(\"Tissue Mackin Score\")"
   ]
  },
  {
   "cell_type": "markdown",
   "metadata": {},
   "source": [
    "two anovas within high and low look at sorry effect of mackin score on and see if the slopes are different "
   ]
  },
  {
   "cell_type": "code",
   "execution_count": 14,
   "metadata": {},
   "outputs": [],
   "source": [
    "#make score a factor\n",
    "mackin$TISSUE=as.factor(as.character(mackin$TISSUE))"
   ]
  },
  {
   "cell_type": "markdown",
   "metadata": {},
   "source": [
    "logistic regression with mackin score as ordinal response. "
   ]
  },
  {
   "cell_type": "code",
   "execution_count": null,
   "metadata": {},
   "outputs": [],
   "source": [
    "head(mackin)"
   ]
  },
  {
   "cell_type": "code",
   "execution_count": 15,
   "metadata": {},
   "outputs": [
    {
     "data": {
      "text/plain": [
       "Call:\n",
       "polr(formula = TISSUE ~ Salinity, data = mackin, Hess = TRUE)\n",
       "\n",
       "Coefficients:\n",
       "             Value Std. Error t value\n",
       "SalinityLOW -1.307     0.1835  -7.122\n",
       "\n",
       "Intercepts:\n",
       "      Value    Std. Error t value \n",
       "0.5|1  -3.1152   0.2112   -14.7476\n",
       "1|2    -1.7597   0.1572   -11.1930\n",
       "2|3    -0.5478   0.1291    -4.2428\n",
       "3|4     0.2947   0.1304     2.2597\n",
       "4|5     2.2884   0.2211    10.3491\n",
       "\n",
       "Residual Deviance: 1380.291 \n",
       "AIC: 1392.291 "
      ]
     },
     "metadata": {},
     "output_type": "display_data"
    },
    {
     "data": {
      "text/html": [
       "<table>\n",
       "<thead><tr><th></th><th scope=col>Value</th><th scope=col>Std. Error</th><th scope=col>t value</th></tr></thead>\n",
       "<tbody>\n",
       "\t<tr><th scope=row>SalinityLOW</th><td>-1.3070898</td><td>0.1835293 </td><td> -7.121968</td></tr>\n",
       "\t<tr><th scope=row>0.5|1</th><td>-3.1152044</td><td>0.2112341 </td><td>-14.747637</td></tr>\n",
       "\t<tr><th scope=row>1|2</th><td>-1.7596643</td><td>0.1572109 </td><td>-11.193019</td></tr>\n",
       "\t<tr><th scope=row>2|3</th><td>-0.5478055</td><td>0.1291129 </td><td> -4.242841</td></tr>\n",
       "\t<tr><th scope=row>3|4</th><td> 0.2946677</td><td>0.1303997 </td><td>  2.259726</td></tr>\n",
       "\t<tr><th scope=row>4|5</th><td> 2.2883573</td><td>0.2211162 </td><td> 10.349117</td></tr>\n",
       "</tbody>\n",
       "</table>\n"
      ],
      "text/latex": [
       "\\begin{tabular}{r|lll}\n",
       "  & Value & Std. Error & t value\\\\\n",
       "\\hline\n",
       "\tSalinityLOW & -1.3070898 & 0.1835293  &  -7.121968\\\\\n",
       "\t0.5\\textbar{}1 & -3.1152044 & 0.2112341  & -14.747637\\\\\n",
       "\t1\\textbar{}2 & -1.7596643 & 0.1572109  & -11.193019\\\\\n",
       "\t2\\textbar{}3 & -0.5478055 & 0.1291129  &  -4.242841\\\\\n",
       "\t3\\textbar{}4 &  0.2946677 & 0.1303997  &   2.259726\\\\\n",
       "\t4\\textbar{}5 &  2.2883573 & 0.2211162  &  10.349117\\\\\n",
       "\\end{tabular}\n"
      ],
      "text/markdown": [
       "\n",
       "| <!--/--> | Value | Std. Error | t value |\n",
       "|---|---|---|---|\n",
       "| SalinityLOW | -1.3070898 | 0.1835293  |  -7.121968 |\n",
       "| 0.5|1 | -3.1152044 | 0.2112341  | -14.747637 |\n",
       "| 1|2 | -1.7596643 | 0.1572109  | -11.193019 |\n",
       "| 2|3 | -0.5478055 | 0.1291129  |  -4.242841 |\n",
       "| 3|4 |  0.2946677 | 0.1303997  |   2.259726 |\n",
       "| 4|5 |  2.2883573 | 0.2211162  |  10.349117 |\n",
       "\n"
      ],
      "text/plain": [
       "            Value      Std. Error t value   \n",
       "SalinityLOW -1.3070898 0.1835293   -7.121968\n",
       "0.5|1       -3.1152044 0.2112341  -14.747637\n",
       "1|2         -1.7596643 0.1572109  -11.193019\n",
       "2|3         -0.5478055 0.1291129   -4.242841\n",
       "3|4          0.2946677 0.1303997    2.259726\n",
       "4|5          2.2883573 0.2211162   10.349117"
      ]
     },
     "metadata": {},
     "output_type": "display_data"
    },
    {
     "data": {
      "text/html": [
       "<table>\n",
       "<thead><tr><th></th><th scope=col>Value</th><th scope=col>Std. Error</th><th scope=col>t value</th><th scope=col>p value</th></tr></thead>\n",
       "<tbody>\n",
       "\t<tr><th scope=row>SalinityLOW</th><td>-1.3070898  </td><td>0.1835293   </td><td> -7.121968  </td><td>1.063966e-12</td></tr>\n",
       "\t<tr><th scope=row>0.5|1</th><td>-3.1152044  </td><td>0.2112341   </td><td>-14.747637  </td><td>3.186279e-49</td></tr>\n",
       "\t<tr><th scope=row>1|2</th><td>-1.7596643  </td><td>0.1572109   </td><td>-11.193019  </td><td>4.411536e-29</td></tr>\n",
       "\t<tr><th scope=row>2|3</th><td>-0.5478055  </td><td>0.1291129   </td><td> -4.242841  </td><td>2.207080e-05</td></tr>\n",
       "\t<tr><th scope=row>3|4</th><td> 0.2946677  </td><td>0.1303997   </td><td>  2.259726  </td><td>2.383824e-02</td></tr>\n",
       "\t<tr><th scope=row>4|5</th><td> 2.2883573  </td><td>0.2211162   </td><td> 10.349117  </td><td>4.223613e-25</td></tr>\n",
       "</tbody>\n",
       "</table>\n"
      ],
      "text/latex": [
       "\\begin{tabular}{r|llll}\n",
       "  & Value & Std. Error & t value & p value\\\\\n",
       "\\hline\n",
       "\tSalinityLOW & -1.3070898   & 0.1835293    &  -7.121968   & 1.063966e-12\\\\\n",
       "\t0.5\\textbar{}1 & -3.1152044   & 0.2112341    & -14.747637   & 3.186279e-49\\\\\n",
       "\t1\\textbar{}2 & -1.7596643   & 0.1572109    & -11.193019   & 4.411536e-29\\\\\n",
       "\t2\\textbar{}3 & -0.5478055   & 0.1291129    &  -4.242841   & 2.207080e-05\\\\\n",
       "\t3\\textbar{}4 &  0.2946677   & 0.1303997    &   2.259726   & 2.383824e-02\\\\\n",
       "\t4\\textbar{}5 &  2.2883573   & 0.2211162    &  10.349117   & 4.223613e-25\\\\\n",
       "\\end{tabular}\n"
      ],
      "text/markdown": [
       "\n",
       "| <!--/--> | Value | Std. Error | t value | p value |\n",
       "|---|---|---|---|---|\n",
       "| SalinityLOW | -1.3070898   | 0.1835293    |  -7.121968   | 1.063966e-12 |\n",
       "| 0.5|1 | -3.1152044   | 0.2112341    | -14.747637   | 3.186279e-49 |\n",
       "| 1|2 | -1.7596643   | 0.1572109    | -11.193019   | 4.411536e-29 |\n",
       "| 2|3 | -0.5478055   | 0.1291129    |  -4.242841   | 2.207080e-05 |\n",
       "| 3|4 |  0.2946677   | 0.1303997    |   2.259726   | 2.383824e-02 |\n",
       "| 4|5 |  2.2883573   | 0.2211162    |  10.349117   | 4.223613e-25 |\n",
       "\n"
      ],
      "text/plain": [
       "            Value      Std. Error t value    p value     \n",
       "SalinityLOW -1.3070898 0.1835293   -7.121968 1.063966e-12\n",
       "0.5|1       -3.1152044 0.2112341  -14.747637 3.186279e-49\n",
       "1|2         -1.7596643 0.1572109  -11.193019 4.411536e-29\n",
       "2|3         -0.5478055 0.1291129   -4.242841 2.207080e-05\n",
       "3|4          0.2946677 0.1303997    2.259726 2.383824e-02\n",
       "4|5          2.2883573 0.2211162   10.349117 4.223613e-25"
      ]
     },
     "metadata": {},
     "output_type": "display_data"
    }
   ],
   "source": [
    "#run logistic regression\n",
    "m = polr(TISSUE ~ Salinity, data = mackin, Hess=TRUE)\n",
    "\n",
    "## view a summary of the model\n",
    "summary(m)\n",
    "(ctable = coef(summary(m)))\n",
    "\n",
    "p = pnorm(abs(ctable[, \"t value\"]), lower.tail = FALSE) * 2\n",
    "(ctable =cbind(ctable, \"p value\" = p))"
   ]
  },
  {
   "cell_type": "markdown",
   "metadata": {},
   "source": [
    "## Influence of heat on number of cells released. broken up by mackin score of tissue. Survivors only"
   ]
  },
  {
   "cell_type": "code",
   "execution_count": 16,
   "metadata": {},
   "outputs": [],
   "source": [
    "#take out oysters that survived to end of experiment\n",
    "survivors=all[all$Survived==\"Yes\",]\n",
    "#combine 0.5 and 1 and 4 and 5 for mackin scale\n",
    "survivors$Tissue_sim=ifelse(survivors$TISSUE==0.5, 1.0, ifelse(survivors$TISSUE==5, 4.0, survivors$TISSUE))"
   ]
  },
  {
   "cell_type": "code",
   "execution_count": 17,
   "metadata": {},
   "outputs": [
    {
     "name": "stderr",
     "output_type": "stream",
     "text": [
      "Warning message:\n",
      "“Removed 231 rows containing missing values (geom_point).”"
     ]
    },
    {
     "data": {
      "image/png": "[encoded data removed]",
      "text/plain": [
       "plot without title"
      ]
     },
     "metadata": {},
     "output_type": "display_data"
    }
   ],
   "source": [
    "#plot mackin score vs number released\n",
    "ggplot(survivors, aes(x = TISSUE, y = number, col=Treatment, group=ID)) +\n",
    "scale_color_manual(values=c(\"goldenrod\", \"darkred\"))+\n",
    "       geom_jitter(position=position_jitter(0.3))+\n",
    "#geom_line()+\n",
    " facet_grid(. ~ Treatment)+\n",
    "theme_bw()+\n",
    " \n",
    "theme(legend.position=\"none\", panel.border = element_blank(), \n",
    "          panel.grid.major.x = element_blank(), \n",
    "          panel.grid.minor.x = element_blank(),\n",
    "    \n",
    "          axis.ticks.x=element_blank(), axis.line=element_line(color=\"black\"), axis.text=element_text(color=\"black\"),\n",
    "          text = element_text(size=10))+\n",
    "ylab(\"Number of cells found\")"
   ]
  },
  {
   "cell_type": "code",
   "execution_count": 18,
   "metadata": {
    "scrolled": true
   },
   "outputs": [
    {
     "data": {
      "text/html": [
       "<table>\n",
       "<thead><tr><th scope=col>ID</th><th scope=col>Treatment</th><th scope=col>Day</th><th scope=col>number</th><th scope=col>Salinity</th><th scope=col>TISSUE</th><th scope=col>MORTALITY.DATE</th><th scope=col>Gape</th><th scope=col>Mortality</th><th scope=col>Gape_day</th><th scope=col>Mortality_day</th><th scope=col>Four_trials</th><th scope=col>Survived</th><th scope=col>Trial</th><th scope=col>Tissue_sim</th></tr></thead>\n",
       "<tbody>\n",
       "\t<tr><td>10W    </td><td>Ambient</td><td>5      </td><td>NA     </td><td>LOW    </td><td>0.5    </td><td>       </td><td>NA     </td><td>NA     </td><td>NA     </td><td>NA     </td><td>No     </td><td>Yes    </td><td>one    </td><td>1      </td></tr>\n",
       "\t<tr><td>10W    </td><td>Ambient</td><td>7      </td><td>NA     </td><td>LOW    </td><td>0.5    </td><td>       </td><td>NA     </td><td>NA     </td><td>NA     </td><td>NA     </td><td>No     </td><td>Yes    </td><td>two    </td><td>1      </td></tr>\n",
       "\t<tr><td>10W    </td><td>Ambient</td><td>10     </td><td>NA     </td><td>LOW    </td><td>0.5    </td><td>       </td><td>NA     </td><td>NA     </td><td>NA     </td><td>NA     </td><td>No     </td><td>Yes    </td><td>one    </td><td>1      </td></tr>\n",
       "\t<tr><td>10W    </td><td>Ambient</td><td>14     </td><td>NA     </td><td>LOW    </td><td>0.5    </td><td>       </td><td>NA     </td><td>NA     </td><td>NA     </td><td>NA     </td><td>No     </td><td>Yes    </td><td>two    </td><td>1      </td></tr>\n",
       "\t<tr><td>10W    </td><td>Heat   </td><td>21     </td><td>27     </td><td>LOW    </td><td>0.5    </td><td>       </td><td>NA     </td><td>NA     </td><td>NA     </td><td>NA     </td><td>No     </td><td>Yes    </td><td>one    </td><td>1      </td></tr>\n",
       "\t<tr><td>10W    </td><td>Heat   </td><td>23     </td><td> 0     </td><td>LOW    </td><td>0.5    </td><td>       </td><td>NA     </td><td>NA     </td><td>NA     </td><td>NA     </td><td>No     </td><td>Yes    </td><td>two    </td><td>1      </td></tr>\n",
       "</tbody>\n",
       "</table>\n"
      ],
      "text/latex": [
       "\\begin{tabular}{r|lllllllllllllll}\n",
       " ID & Treatment & Day & number & Salinity & TISSUE & MORTALITY.DATE & Gape & Mortality & Gape\\_day & Mortality\\_day & Four\\_trials & Survived & Trial & Tissue\\_sim\\\\\n",
       "\\hline\n",
       "\t 10W     & Ambient & 5       & NA      & LOW     & 0.5     &         & NA      & NA      & NA      & NA      & No      & Yes     & one     & 1      \\\\\n",
       "\t 10W     & Ambient & 7       & NA      & LOW     & 0.5     &         & NA      & NA      & NA      & NA      & No      & Yes     & two     & 1      \\\\\n",
       "\t 10W     & Ambient & 10      & NA      & LOW     & 0.5     &         & NA      & NA      & NA      & NA      & No      & Yes     & one     & 1      \\\\\n",
       "\t 10W     & Ambient & 14      & NA      & LOW     & 0.5     &         & NA      & NA      & NA      & NA      & No      & Yes     & two     & 1      \\\\\n",
       "\t 10W     & Heat    & 21      & 27      & LOW     & 0.5     &         & NA      & NA      & NA      & NA      & No      & Yes     & one     & 1      \\\\\n",
       "\t 10W     & Heat    & 23      &  0      & LOW     & 0.5     &         & NA      & NA      & NA      & NA      & No      & Yes     & two     & 1      \\\\\n",
       "\\end{tabular}\n"
      ],
      "text/markdown": [
       "\n",
       "| ID | Treatment | Day | number | Salinity | TISSUE | MORTALITY.DATE | Gape | Mortality | Gape_day | Mortality_day | Four_trials | Survived | Trial | Tissue_sim |\n",
       "|---|---|---|---|---|---|---|---|---|---|---|---|---|---|---|\n",
       "| 10W     | Ambient | 5       | NA      | LOW     | 0.5     |         | NA      | NA      | NA      | NA      | No      | Yes     | one     | 1       |\n",
       "| 10W     | Ambient | 7       | NA      | LOW     | 0.5     |         | NA      | NA      | NA      | NA      | No      | Yes     | two     | 1       |\n",
       "| 10W     | Ambient | 10      | NA      | LOW     | 0.5     |         | NA      | NA      | NA      | NA      | No      | Yes     | one     | 1       |\n",
       "| 10W     | Ambient | 14      | NA      | LOW     | 0.5     |         | NA      | NA      | NA      | NA      | No      | Yes     | two     | 1       |\n",
       "| 10W     | Heat    | 21      | 27      | LOW     | 0.5     |         | NA      | NA      | NA      | NA      | No      | Yes     | one     | 1       |\n",
       "| 10W     | Heat    | 23      |  0      | LOW     | 0.5     |         | NA      | NA      | NA      | NA      | No      | Yes     | two     | 1       |\n",
       "\n"
      ],
      "text/plain": [
       "  ID  Treatment Day number Salinity TISSUE MORTALITY.DATE Gape Mortality\n",
       "1 10W Ambient   5   NA     LOW      0.5                   NA   NA       \n",
       "2 10W Ambient   7   NA     LOW      0.5                   NA   NA       \n",
       "3 10W Ambient   10  NA     LOW      0.5                   NA   NA       \n",
       "4 10W Ambient   14  NA     LOW      0.5                   NA   NA       \n",
       "5 10W Heat      21  27     LOW      0.5                   NA   NA       \n",
       "6 10W Heat      23   0     LOW      0.5                   NA   NA       \n",
       "  Gape_day Mortality_day Four_trials Survived Trial Tissue_sim\n",
       "1 NA       NA            No          Yes      one   1         \n",
       "2 NA       NA            No          Yes      two   1         \n",
       "3 NA       NA            No          Yes      one   1         \n",
       "4 NA       NA            No          Yes      two   1         \n",
       "5 NA       NA            No          Yes      one   1         \n",
       "6 NA       NA            No          Yes      two   1         "
      ]
     },
     "metadata": {},
     "output_type": "display_data"
    }
   ],
   "source": [
    "head(survivors)"
   ]
  },
  {
   "cell_type": "markdown",
   "metadata": {},
   "source": [
    "We really want to look at mackin score on Total number of cells relesed?"
   ]
  },
  {
   "cell_type": "code",
   "execution_count": null,
   "metadata": {},
   "outputs": [],
   "source": [
    "#glmm to look at effect of mackin score on number of cells released. poisson because count data.\n",
    "#gm1 = glmer(number~TISSUE*Treatment + (1 | ID), data = survivors, family = poisson)\n",
    "#gm2 = glmer(number~Treatment + (1 | ID), data = survivors, family = poisson)\n",
    "#anova(gm1, gm2)"
   ]
  },
  {
   "cell_type": "code",
   "execution_count": 19,
   "metadata": {},
   "outputs": [],
   "source": [
    "#take the mean for each individual across two trials \n",
    "means=as.data.frame(aggregate(number~ID+Treatment, data=survivors, FUN=mean))"
   ]
  },
  {
   "cell_type": "code",
   "execution_count": 20,
   "metadata": {
    "scrolled": true
   },
   "outputs": [
    {
     "data": {
      "text/html": [
       "<table>\n",
       "<thead><tr><th scope=col>ID</th><th scope=col>Treatment</th><th scope=col>number</th></tr></thead>\n",
       "<tbody>\n",
       "\t<tr><td>12W    </td><td>Ambient</td><td> 0.0   </td></tr>\n",
       "\t<tr><td>13W    </td><td>Ambient</td><td> 0.5   </td></tr>\n",
       "\t<tr><td>14W    </td><td>Ambient</td><td> 1.0   </td></tr>\n",
       "\t<tr><td>16W    </td><td>Ambient</td><td> 1.5   </td></tr>\n",
       "\t<tr><td>1W     </td><td>Ambient</td><td> 2.5   </td></tr>\n",
       "\t<tr><td>20W    </td><td>Ambient</td><td>24.5   </td></tr>\n",
       "</tbody>\n",
       "</table>\n"
      ],
      "text/latex": [
       "\\begin{tabular}{r|lll}\n",
       " ID & Treatment & number\\\\\n",
       "\\hline\n",
       "\t 12W     & Ambient &  0.0   \\\\\n",
       "\t 13W     & Ambient &  0.5   \\\\\n",
       "\t 14W     & Ambient &  1.0   \\\\\n",
       "\t 16W     & Ambient &  1.5   \\\\\n",
       "\t 1W      & Ambient &  2.5   \\\\\n",
       "\t 20W     & Ambient & 24.5   \\\\\n",
       "\\end{tabular}\n"
      ],
      "text/markdown": [
       "\n",
       "| ID | Treatment | number |\n",
       "|---|---|---|\n",
       "| 12W     | Ambient |  0.0    |\n",
       "| 13W     | Ambient |  0.5    |\n",
       "| 14W     | Ambient |  1.0    |\n",
       "| 16W     | Ambient |  1.5    |\n",
       "| 1W      | Ambient |  2.5    |\n",
       "| 20W     | Ambient | 24.5    |\n",
       "\n"
      ],
      "text/plain": [
       "  ID  Treatment number\n",
       "1 12W Ambient    0.0  \n",
       "2 13W Ambient    0.5  \n",
       "3 14W Ambient    1.0  \n",
       "4 16W Ambient    1.5  \n",
       "5 1W  Ambient    2.5  \n",
       "6 20W Ambient   24.5  "
      ]
     },
     "metadata": {},
     "output_type": "display_data"
    }
   ],
   "source": [
    "head(means)"
   ]
  },
  {
   "cell_type": "code",
   "execution_count": 21,
   "metadata": {
    "scrolled": true
   },
   "outputs": [
    {
     "data": {
      "text/html": [
       "<table>\n",
       "<thead><tr><th scope=col>ID</th><th scope=col>Ambient</th><th scope=col>Heat</th></tr></thead>\n",
       "<tbody>\n",
       "\t<tr><td>12W  </td><td> 0.0 </td><td>151.0</td></tr>\n",
       "\t<tr><td>13W  </td><td> 0.5 </td><td> 10.0</td></tr>\n",
       "\t<tr><td>14W  </td><td> 1.0 </td><td> 67.0</td></tr>\n",
       "\t<tr><td>16W  </td><td> 1.5 </td><td>  6.0</td></tr>\n",
       "\t<tr><td>1W   </td><td> 2.5 </td><td>  1.5</td></tr>\n",
       "\t<tr><td>20W  </td><td>24.5 </td><td>  0.0</td></tr>\n",
       "</tbody>\n",
       "</table>\n"
      ],
      "text/latex": [
       "\\begin{tabular}{r|lll}\n",
       " ID & Ambient & Heat\\\\\n",
       "\\hline\n",
       "\t 12W   &  0.0  & 151.0\\\\\n",
       "\t 13W   &  0.5  &  10.0\\\\\n",
       "\t 14W   &  1.0  &  67.0\\\\\n",
       "\t 16W   &  1.5  &   6.0\\\\\n",
       "\t 1W    &  2.5  &   1.5\\\\\n",
       "\t 20W   & 24.5  &   0.0\\\\\n",
       "\\end{tabular}\n"
      ],
      "text/markdown": [
       "\n",
       "| ID | Ambient | Heat |\n",
       "|---|---|---|\n",
       "| 12W   |  0.0  | 151.0 |\n",
       "| 13W   |  0.5  |  10.0 |\n",
       "| 14W   |  1.0  |  67.0 |\n",
       "| 16W   |  1.5  |   6.0 |\n",
       "| 1W    |  2.5  |   1.5 |\n",
       "| 20W   | 24.5  |   0.0 |\n",
       "\n"
      ],
      "text/plain": [
       "  ID  Ambient Heat \n",
       "1 12W  0.0    151.0\n",
       "2 13W  0.5     10.0\n",
       "3 14W  1.0     67.0\n",
       "4 16W  1.5      6.0\n",
       "5 1W   2.5      1.5\n",
       "6 20W 24.5      0.0"
      ]
     },
     "metadata": {},
     "output_type": "display_data"
    }
   ],
   "source": [
    "#reorganize dataframe so that ambient and heat are in separate columns\n",
    "means=pivot_wider(means, id_cols=ID, names_from=Treatment, values_from=number)\n",
    "head(means)"
   ]
  },
  {
   "cell_type": "code",
   "execution_count": 22,
   "metadata": {},
   "outputs": [],
   "source": [
    "#remove any nas?\n",
    "means=na.omit(means)"
   ]
  },
  {
   "cell_type": "code",
   "execution_count": 23,
   "metadata": {},
   "outputs": [
    {
     "data": {
      "text/html": [
       "47"
      ],
      "text/latex": [
       "47"
      ],
      "text/markdown": [
       "47"
      ],
      "text/plain": [
       "[1] 47"
      ]
     },
     "metadata": {},
     "output_type": "display_data"
    }
   ],
   "source": [
    "#how many individuals?\n",
    "length(unique(means$ID))"
   ]
  },
  {
   "cell_type": "code",
   "execution_count": 24,
   "metadata": {},
   "outputs": [],
   "source": [
    "#calculate difference between ambient and heated means\n",
    "means$diff=means$Heat-means$Ambient"
   ]
  },
  {
   "cell_type": "code",
   "execution_count": null,
   "metadata": {
    "scrolled": true
   },
   "outputs": [],
   "source": [
    "#diffs$Salinity=ifelse(substr(diffs$ID,3,3)==\"W\", \"Low\", \"High\")\n",
    "#diffs$avg=as.numeric(as.character(diffs$number))"
   ]
  },
  {
   "cell_type": "code",
   "execution_count": 25,
   "metadata": {},
   "outputs": [],
   "source": [
    "#get salinity info out of id code\n",
    "means$Salinity=ifelse(substr(means$ID,3,3)==\"W\", \"Low\", \"High\")"
   ]
  },
  {
   "cell_type": "code",
   "execution_count": 26,
   "metadata": {
    "scrolled": true
   },
   "outputs": [],
   "source": [
    "#combine the differences and the oyster data\n",
    "diffsm=merge(means, oysters, by=\"ID\")"
   ]
  },
  {
   "cell_type": "code",
   "execution_count": 27,
   "metadata": {},
   "outputs": [],
   "source": [
    "#combine 0.5 and 1 and 4 and 5 \n",
    "diffsm$Tissue_sim=ifelse(diffsm$TISSUE==0.5, 1.0, ifelse(diffsm$TISSUE==5, 4.0, diffsm$TISSUE))"
   ]
  },
  {
   "cell_type": "code",
   "execution_count": 28,
   "metadata": {
    "scrolled": true
   },
   "outputs": [],
   "source": [
    "#diffsm_out=diffsm[!diffsm$ID==\"26Y\",]"
   ]
  },
  {
   "cell_type": "code",
   "execution_count": 29,
   "metadata": {
    "scrolled": false
   },
   "outputs": [
    {
     "name": "stderr",
     "output_type": "stream",
     "text": [
      "Warning message in ifelse(diffsm$diff > 0, log10(diffsm$diff + 1), ifelse(diffsm$diff == :\n",
      "“NaNs produced”"
     ]
    }
   ],
   "source": [
    "#transform for plotting\n",
    "diffsm$logdiff=ifelse(diffsm$diff>0, log10(diffsm$diff+1), ifelse(diffsm$diff==0, 0, -log10(abs(diffsm$diff)+1)))"
   ]
  },
  {
   "cell_type": "code",
   "execution_count": 30,
   "metadata": {
    "scrolled": true
   },
   "outputs": [
    {
     "data": {
      "text/html": [
       "<ol class=list-inline>\n",
       "\t<li>2.18184358794477</li>\n",
       "\t<li>1.02118929906994</li>\n",
       "\t<li>1.82607480270083</li>\n",
       "\t<li>0.740362689494244</li>\n",
       "\t<li>-0.301029995663981</li>\n",
       "\t<li>-1.40654018043396</li>\n",
       "\t<li>1.16136800223497</li>\n",
       "\t<li>2.22010808804005</li>\n",
       "\t<li>3.59533084980534</li>\n",
       "\t<li>2.05499586152914</li>\n",
       "\t<li>-0.397940008672038</li>\n",
       "\t<li>1.38916608436453</li>\n",
       "\t<li>1.60205999132796</li>\n",
       "\t<li>1.90036712865647</li>\n",
       "\t<li>1.50514997831991</li>\n",
       "\t<li>2.24303804868629</li>\n",
       "\t<li>2.04336227802113</li>\n",
       "\t<li>1.62838893005031</li>\n",
       "\t<li>-0.301029995663981</li>\n",
       "\t<li>3.94860854987644</li>\n",
       "\t<li>1.96614173273903</li>\n",
       "\t<li>0.397940008672038</li>\n",
       "\t<li>-0.176091259055681</li>\n",
       "\t<li>-0.397940008672038</li>\n",
       "\t<li>0</li>\n",
       "\t<li>-2.02118929906994</li>\n",
       "\t<li>1.87215627274829</li>\n",
       "\t<li>0.301029995663981</li>\n",
       "\t<li>1.33243845991561</li>\n",
       "\t<li>0.8750612633917</li>\n",
       "\t<li>1.76342799356294</li>\n",
       "\t<li>-1.14612803567824</li>\n",
       "\t<li>2.12221587827283</li>\n",
       "\t<li>2.62117628177504</li>\n",
       "\t<li>1.55022835305509</li>\n",
       "\t<li>1.06069784035361</li>\n",
       "\t<li>0.812913356642856</li>\n",
       "\t<li>-0.397940008672038</li>\n",
       "\t<li>1.9216864754836</li>\n",
       "\t<li>1.69897000433602</li>\n",
       "\t<li>1.46982201597816</li>\n",
       "\t<li>-0.812913356642856</li>\n",
       "\t<li>1.04139268515823</li>\n",
       "\t<li>1.04139268515823</li>\n",
       "\t<li>1.37106786227174</li>\n",
       "\t<li>0.176091259055681</li>\n",
       "\t<li>-0.602059991327962</li>\n",
       "</ol>\n"
      ],
      "text/latex": [
       "\\begin{enumerate*}\n",
       "\\item 2.18184358794477\n",
       "\\item 1.02118929906994\n",
       "\\item 1.82607480270083\n",
       "\\item 0.740362689494244\n",
       "\\item -0.301029995663981\n",
       "\\item -1.40654018043396\n",
       "\\item 1.16136800223497\n",
       "\\item 2.22010808804005\n",
       "\\item 3.59533084980534\n",
       "\\item 2.05499586152914\n",
       "\\item -0.397940008672038\n",
       "\\item 1.38916608436453\n",
       "\\item 1.60205999132796\n",
       "\\item 1.90036712865647\n",
       "\\item 1.50514997831991\n",
       "\\item 2.24303804868629\n",
       "\\item 2.04336227802113\n",
       "\\item 1.62838893005031\n",
       "\\item -0.301029995663981\n",
       "\\item 3.94860854987644\n",
       "\\item 1.96614173273903\n",
       "\\item 0.397940008672038\n",
       "\\item -0.176091259055681\n",
       "\\item -0.397940008672038\n",
       "\\item 0\n",
       "\\item -2.02118929906994\n",
       "\\item 1.87215627274829\n",
       "\\item 0.301029995663981\n",
       "\\item 1.33243845991561\n",
       "\\item 0.8750612633917\n",
       "\\item 1.76342799356294\n",
       "\\item -1.14612803567824\n",
       "\\item 2.12221587827283\n",
       "\\item 2.62117628177504\n",
       "\\item 1.55022835305509\n",
       "\\item 1.06069784035361\n",
       "\\item 0.812913356642856\n",
       "\\item -0.397940008672038\n",
       "\\item 1.9216864754836\n",
       "\\item 1.69897000433602\n",
       "\\item 1.46982201597816\n",
       "\\item -0.812913356642856\n",
       "\\item 1.04139268515823\n",
       "\\item 1.04139268515823\n",
       "\\item 1.37106786227174\n",
       "\\item 0.176091259055681\n",
       "\\item -0.602059991327962\n",
       "\\end{enumerate*}\n"
      ],
      "text/markdown": [
       "1. 2.18184358794477\n",
       "2. 1.02118929906994\n",
       "3. 1.82607480270083\n",
       "4. 0.740362689494244\n",
       "5. -0.301029995663981\n",
       "6. -1.40654018043396\n",
       "7. 1.16136800223497\n",
       "8. 2.22010808804005\n",
       "9. 3.59533084980534\n",
       "10. 2.05499586152914\n",
       "11. -0.397940008672038\n",
       "12. 1.38916608436453\n",
       "13. 1.60205999132796\n",
       "14. 1.90036712865647\n",
       "15. 1.50514997831991\n",
       "16. 2.24303804868629\n",
       "17. 2.04336227802113\n",
       "18. 1.62838893005031\n",
       "19. -0.301029995663981\n",
       "20. 3.94860854987644\n",
       "21. 1.96614173273903\n",
       "22. 0.397940008672038\n",
       "23. -0.176091259055681\n",
       "24. -0.397940008672038\n",
       "25. 0\n",
       "26. -2.02118929906994\n",
       "27. 1.87215627274829\n",
       "28. 0.301029995663981\n",
       "29. 1.33243845991561\n",
       "30. 0.8750612633917\n",
       "31. 1.76342799356294\n",
       "32. -1.14612803567824\n",
       "33. 2.12221587827283\n",
       "34. 2.62117628177504\n",
       "35. 1.55022835305509\n",
       "36. 1.06069784035361\n",
       "37. 0.812913356642856\n",
       "38. -0.397940008672038\n",
       "39. 1.9216864754836\n",
       "40. 1.69897000433602\n",
       "41. 1.46982201597816\n",
       "42. -0.812913356642856\n",
       "43. 1.04139268515823\n",
       "44. 1.04139268515823\n",
       "45. 1.37106786227174\n",
       "46. 0.176091259055681\n",
       "47. -0.602059991327962\n",
       "\n",
       "\n"
      ],
      "text/plain": [
       " [1]  2.1818436  1.0211893  1.8260748  0.7403627 -0.3010300 -1.4065402\n",
       " [7]  1.1613680  2.2201081  3.5953308  2.0549959 -0.3979400  1.3891661\n",
       "[13]  1.6020600  1.9003671  1.5051500  2.2430380  2.0433623  1.6283889\n",
       "[19] -0.3010300  3.9486085  1.9661417  0.3979400 -0.1760913 -0.3979400\n",
       "[25]  0.0000000 -2.0211893  1.8721563  0.3010300  1.3324385  0.8750613\n",
       "[31]  1.7634280 -1.1461280  2.1222159  2.6211763  1.5502284  1.0606978\n",
       "[37]  0.8129134 -0.3979400  1.9216865  1.6989700  1.4698220 -0.8129134\n",
       "[43]  1.0413927  1.0413927  1.3710679  0.1760913 -0.6020600"
      ]
     },
     "metadata": {},
     "output_type": "display_data"
    }
   ],
   "source": [
    "diffsm$logdiff"
   ]
  },
  {
   "cell_type": "code",
   "execution_count": 31,
   "metadata": {},
   "outputs": [
    {
     "name": "stderr",
     "output_type": "stream",
     "text": [
      "Warning message:\n",
      "“Removed 3 rows containing missing values (geom_bar).”"
     ]
    },
    {
     "data": {
      "image/png": "[encoded data removed]",
      "text/plain": [
       "plot without title"
      ]
     },
     "metadata": {},
     "output_type": "display_data"
    }
   ],
   "source": [
    "#plot non transformed change\n",
    "ggplot((diffsm), aes(x = Tissue_sim, y = diff, group=ID, fill=Salinity.x)) +\n",
    "scale_fill_manual(values=c(\"darkred\", \"goldenrod\"))+\n",
    "geom_bar(stat=\"identity\", position=\"dodge\")+\n",
    "theme_bw()+\n",
    " theme(legend.position=\"left\", panel.border = element_blank(), \n",
    "          panel.grid.major.x = element_blank(), \n",
    "          panel.grid.minor.x = element_blank(),\n",
    "    \n",
    "          axis.ticks.x=element_blank(), axis.line=element_line(color=\"black\"), axis.text=element_text(color=\"black\"),\n",
    "       axis.text.x=element_text(size=10), \n",
    "          text = element_text(size=10))+\n",
    "#ylim(-5,5)+\n",
    "ylab(\" change in average cells released from ambient to heat with outlier\")"
   ]
  },
  {
   "cell_type": "code",
   "execution_count": 32,
   "metadata": {},
   "outputs": [
    {
     "name": "stderr",
     "output_type": "stream",
     "text": [
      "Warning message:\n",
      "“Removed 3 rows containing missing values (geom_bar).”"
     ]
    },
    {
     "data": {
      "image/png": "[encoded data removed]",
      "text/plain": [
       "plot without title"
      ]
     },
     "metadata": {},
     "output_type": "display_data"
    }
   ],
   "source": [
    "#plot log change\n",
    "ggplot(diffsm, aes(x = Tissue_sim, y = logdiff, group=ID)) +\n",
    "#scale_fill_manual(values=c(\"darkred\", \"goldenrod\"))+\n",
    "geom_bar(stat=\"identity\", position=\"dodge\")+\n",
    "theme_bw()+\n",
    " theme(legend.position=\"left\", panel.border = element_blank(), \n",
    "          panel.grid.major.x = element_blank(), \n",
    "          panel.grid.minor.x = element_blank(),\n",
    "    \n",
    "          axis.ticks.x=element_blank(), axis.line=element_line(color=\"black\"), axis.text=element_text(color=\"black\"),\n",
    "       axis.text.x=element_text(size=10), \n",
    "         text = element_text(size=10))+\n",
    "#ylim(-15,10000)+\n",
    "ylab(\" log change in average cells released from ambient to heat\")"
   ]
  },
  {
   "cell_type": "markdown",
   "metadata": {},
   "source": [
    "one sample t test with null as 0. \n",
    "run a separate t test, alternatively do a 95% ci and see if they overlap \n",
    "plot difference value as function of score. \n",
    "\n",
    "Look at relationship between intensity and shedding. if there is a relationship then need to deal with it. maybe an ancova? have to do it separately for each one unless its the same relationship. \n",
    "\n",
    "difference value is your dependent variable. Can you build a model that is looking at salinity by intensity? \n",
    "y axis is difference between temps. x axis is intensity, graph the two salinity\n",
    "\n",
    "also could just look at differeence for high and low salniigy\n",
    "if theres no relationship with intensity, fine to just compare high and low salinity. "
   ]
  },
  {
   "cell_type": "code",
   "execution_count": 33,
   "metadata": {
    "scrolled": true
   },
   "outputs": [
    {
     "data": {
      "text/html": [
       "-104"
      ],
      "text/latex": [
       "-104"
      ],
      "text/markdown": [
       "-104"
      ],
      "text/plain": [
       "[1] -104"
      ]
     },
     "metadata": {},
     "output_type": "display_data"
    }
   ],
   "source": [
    "#look at what the min is so you can transform with everythign positive\n",
    "min(na.omit(diffsm$diff))"
   ]
  },
  {
   "cell_type": "code",
   "execution_count": 34,
   "metadata": {},
   "outputs": [],
   "source": [
    "##logtransform for stats\n",
    "diffsm$pos=(diffsm$diff+105)\n",
    "diffsm$trans=log10(diffsm$diff+105)\n",
    "#diffsm_out$trans=log10(diffsm_out$diff+105)"
   ]
  },
  {
   "cell_type": "code",
   "execution_count": 35,
   "metadata": {
    "scrolled": true
   },
   "outputs": [
    {
     "data": {
      "text/plain": [
       "\n",
       "Results of Box-Cox Transformation\n",
       "---------------------------------\n",
       "\n",
       "Objective Name:                  Shapiro-Wilk\n",
       "\n",
       "Data:                            diffsm$pos\n",
       "\n",
       "Sample Size:                     47\n",
       "\n",
       "Bounds for Optimization:         lower = -2\n",
       "                                 upper =  2\n",
       "\n",
       "Optimal Value:                   lambda = 0.03327076\n",
       "\n",
       "Value of Objective:              Shapiro-Wilk = 0.6149918\n"
      ]
     },
     "metadata": {},
     "output_type": "display_data"
    }
   ],
   "source": [
    "#try a boxcox transformation\n",
    "boxcox(diffsm$pos, lambda =  c(-2, 2) , \n",
    "    optimize = TRUE, objective.name = \"Shapiro-Wilk\", \n",
    "    eps = .Machine$double.eps, include.x = TRUE)"
   ]
  },
  {
   "cell_type": "code",
   "execution_count": 36,
   "metadata": {
    "scrolled": false
   },
   "outputs": [
    {
     "data": {
      "text/html": [
       "<ol class=list-inline>\n",
       "\t<li>6.08966199092913</li>\n",
       "\t<li>5.13487738249539</li>\n",
       "\t<li>5.60763598018995</li>\n",
       "\t<li>5.08263781096823</li>\n",
       "\t<li>5.02244127468211</li>\n",
       "\t<li>4.72477761498507</li>\n",
       "\t<li>5.17510486590196</li>\n",
       "\t<li>6.15375100276107</li>\n",
       "\t<li>9.56529274027952</li>\n",
       "\t<li>5.89419311801692</li>\n",
       "\t<li>5.01681713427369</li>\n",
       "\t<li>5.27019821095771</li>\n",
       "\t<li>5.40430540163087</li>\n",
       "\t<li>5.69144816111799</li>\n",
       "\t<li>5.33693368013593</li>\n",
       "\t<li>6.19327576871408</li>\n",
       "\t<li>5.87758412926528</li>\n",
       "\t<li>5.42461817894361</li>\n",
       "\t<li>5.02244127468211</li>\n",
       "\t<li>10.6327314481058</li>\n",
       "\t<li>5.77294987882911</li>\n",
       "\t<li>5.05017563689112</li>\n",
       "\t<li>5.0280393360687</li>\n",
       "\t<li>5.01681713427369</li>\n",
       "\t<li>5.03361156327713</li>\n",
       "\t<li>0</li>\n",
       "\t<li>5.65860595153373</li>\n",
       "\t<li>5.04467947734361</li>\n",
       "\t<li>5.24244380849313</li>\n",
       "\t<li>5.10380500081</li>\n",
       "\t<li>5.54353908851244</li>\n",
       "\t<li>4.8796434900883</li>\n",
       "\t<li>5.99450577417049</li>\n",
       "\t<li>6.95674464366557</li>\n",
       "\t<li>5.36686789373075</li>\n",
       "\t<li>5.14506014804218</li>\n",
       "\t<li>5.09326770277863</li>\n",
       "\t<li>5.01681713427369</li>\n",
       "\t<li>5.71710490871322</li>\n",
       "\t<li>5.48360524623498</li>\n",
       "\t<li>5.31509259968632</li>\n",
       "\t<li>4.97085459211346</li>\n",
       "\t<li>5.13997946527826</li>\n",
       "\t<li>5.13997946527826</li>\n",
       "\t<li>5.26101698644647</li>\n",
       "\t<li>5.03915819770001</li>\n",
       "\t<li>4.99978573731168</li>\n",
       "</ol>\n"
      ],
      "text/latex": [
       "\\begin{enumerate*}\n",
       "\\item 6.08966199092913\n",
       "\\item 5.13487738249539\n",
       "\\item 5.60763598018995\n",
       "\\item 5.08263781096823\n",
       "\\item 5.02244127468211\n",
       "\\item 4.72477761498507\n",
       "\\item 5.17510486590196\n",
       "\\item 6.15375100276107\n",
       "\\item 9.56529274027952\n",
       "\\item 5.89419311801692\n",
       "\\item 5.01681713427369\n",
       "\\item 5.27019821095771\n",
       "\\item 5.40430540163087\n",
       "\\item 5.69144816111799\n",
       "\\item 5.33693368013593\n",
       "\\item 6.19327576871408\n",
       "\\item 5.87758412926528\n",
       "\\item 5.42461817894361\n",
       "\\item 5.02244127468211\n",
       "\\item 10.6327314481058\n",
       "\\item 5.77294987882911\n",
       "\\item 5.05017563689112\n",
       "\\item 5.0280393360687\n",
       "\\item 5.01681713427369\n",
       "\\item 5.03361156327713\n",
       "\\item 0\n",
       "\\item 5.65860595153373\n",
       "\\item 5.04467947734361\n",
       "\\item 5.24244380849313\n",
       "\\item 5.10380500081\n",
       "\\item 5.54353908851244\n",
       "\\item 4.8796434900883\n",
       "\\item 5.99450577417049\n",
       "\\item 6.95674464366557\n",
       "\\item 5.36686789373075\n",
       "\\item 5.14506014804218\n",
       "\\item 5.09326770277863\n",
       "\\item 5.01681713427369\n",
       "\\item 5.71710490871322\n",
       "\\item 5.48360524623498\n",
       "\\item 5.31509259968632\n",
       "\\item 4.97085459211346\n",
       "\\item 5.13997946527826\n",
       "\\item 5.13997946527826\n",
       "\\item 5.26101698644647\n",
       "\\item 5.03915819770001\n",
       "\\item 4.99978573731168\n",
       "\\end{enumerate*}\n"
      ],
      "text/markdown": [
       "1. 6.08966199092913\n",
       "2. 5.13487738249539\n",
       "3. 5.60763598018995\n",
       "4. 5.08263781096823\n",
       "5. 5.02244127468211\n",
       "6. 4.72477761498507\n",
       "7. 5.17510486590196\n",
       "8. 6.15375100276107\n",
       "9. 9.56529274027952\n",
       "10. 5.89419311801692\n",
       "11. 5.01681713427369\n",
       "12. 5.27019821095771\n",
       "13. 5.40430540163087\n",
       "14. 5.69144816111799\n",
       "15. 5.33693368013593\n",
       "16. 6.19327576871408\n",
       "17. 5.87758412926528\n",
       "18. 5.42461817894361\n",
       "19. 5.02244127468211\n",
       "20. 10.6327314481058\n",
       "21. 5.77294987882911\n",
       "22. 5.05017563689112\n",
       "23. 5.0280393360687\n",
       "24. 5.01681713427369\n",
       "25. 5.03361156327713\n",
       "26. 0\n",
       "27. 5.65860595153373\n",
       "28. 5.04467947734361\n",
       "29. 5.24244380849313\n",
       "30. 5.10380500081\n",
       "31. 5.54353908851244\n",
       "32. 4.8796434900883\n",
       "33. 5.99450577417049\n",
       "34. 6.95674464366557\n",
       "35. 5.36686789373075\n",
       "36. 5.14506014804218\n",
       "37. 5.09326770277863\n",
       "38. 5.01681713427369\n",
       "39. 5.71710490871322\n",
       "40. 5.48360524623498\n",
       "41. 5.31509259968632\n",
       "42. 4.97085459211346\n",
       "43. 5.13997946527826\n",
       "44. 5.13997946527826\n",
       "45. 5.26101698644647\n",
       "46. 5.03915819770001\n",
       "47. 4.99978573731168\n",
       "\n",
       "\n"
      ],
      "text/plain": [
       " [1]  6.089662  5.134877  5.607636  5.082638  5.022441  4.724778  5.175105\n",
       " [8]  6.153751  9.565293  5.894193  5.016817  5.270198  5.404305  5.691448\n",
       "[15]  5.336934  6.193276  5.877584  5.424618  5.022441 10.632731  5.772950\n",
       "[22]  5.050176  5.028039  5.016817  5.033612  0.000000  5.658606  5.044679\n",
       "[29]  5.242444  5.103805  5.543539  4.879643  5.994506  6.956745  5.366868\n",
       "[36]  5.145060  5.093268  5.016817  5.717105  5.483605  5.315093  4.970855\n",
       "[43]  5.139979  5.139979  5.261017  5.039158  4.999786"
      ]
     },
     "metadata": {},
     "output_type": "display_data"
    }
   ],
   "source": [
    "boxcoxTransform(diffsm$pos, lambda= 0.03327076)"
   ]
  },
  {
   "cell_type": "code",
   "execution_count": 37,
   "metadata": {},
   "outputs": [
    {
     "data": {
      "image/png": "[encoded data removed]",
      "text/plain": [
       "Plot with title “Histogram of diffsm$diff”"
      ]
     },
     "metadata": {},
     "output_type": "display_data"
    }
   ],
   "source": [
    "hist(diffsm$diff)"
   ]
  },
  {
   "cell_type": "code",
   "execution_count": 38,
   "metadata": {
    "scrolled": false
   },
   "outputs": [
    {
     "data": {
      "image/png": "[encoded data removed]",
      "text/plain": [
       "Plot with title “Histogram of (boxcoxTransform(diffsm$pos, lambda = 0.033270761))”"
      ]
     },
     "metadata": {},
     "output_type": "display_data"
    }
   ],
   "source": [
    "hist((boxcoxTransform(diffsm$pos, lambda=0.033270761)))"
   ]
  },
  {
   "cell_type": "code",
   "execution_count": 39,
   "metadata": {},
   "outputs": [
    {
     "data": {
      "image/png": "[encoded data removed]",
      "text/plain": [
       "Plot with title “Histogram of na.omit(diffsm$trans)”"
      ]
     },
     "metadata": {},
     "output_type": "display_data"
    }
   ],
   "source": [
    "hist(na.omit(diffsm$trans))"
   ]
  },
  {
   "cell_type": "code",
   "execution_count": 40,
   "metadata": {},
   "outputs": [
    {
     "data": {
      "text/plain": [
       "\n",
       "\tOne Sample t-test\n",
       "\n",
       "data:  diffsm$diff\n",
       "t = 1.5355, df = 46, p-value = 0.1315\n",
       "alternative hypothesis: true mean is not equal to 0\n",
       "95 percent confidence interval:\n",
       " -97.48762 724.55144\n",
       "sample estimates:\n",
       "mean of x \n",
       " 313.5319 \n"
      ]
     },
     "metadata": {},
     "output_type": "display_data"
    }
   ],
   "source": [
    "#t test with non transformed data\n",
    "t.test(diffsm$diff, mu=0)"
   ]
  },
  {
   "cell_type": "code",
   "execution_count": 41,
   "metadata": {},
   "outputs": [
    {
     "data": {
      "text/plain": [
       "\n",
       "\tOne Sample t-test\n",
       "\n",
       "data:  na.omit(diffsm$trans)\n",
       "t = 2.0416, df = 46, p-value = 0.04695\n",
       "alternative hypothesis: true mean is not equal to 2.021189\n",
       "95 percent confidence interval:\n",
       " 2.023251 2.311902\n",
       "sample estimates:\n",
       "mean of x \n",
       " 2.167576 \n"
      ]
     },
     "metadata": {},
     "output_type": "display_data"
    }
   ],
   "source": [
    "t.test(na.omit(diffsm$trans), mu=log10(105))"
   ]
  },
  {
   "cell_type": "code",
   "execution_count": 42,
   "metadata": {
    "scrolled": true
   },
   "outputs": [
    {
     "data": {
      "text/html": [
       "5.03361156327713"
      ],
      "text/latex": [
       "5.03361156327713"
      ],
      "text/markdown": [
       "5.03361156327713"
      ],
      "text/plain": [
       "[1] 5.033612"
      ]
     },
     "metadata": {},
     "output_type": "display_data"
    }
   ],
   "source": [
    "boxcoxTransform(105, lambda= 0.03327076)"
   ]
  },
  {
   "cell_type": "code",
   "execution_count": 43,
   "metadata": {},
   "outputs": [
    {
     "data": {
      "text/plain": [
       "\n",
       "\tOne Sample t-test\n",
       "\n",
       "data:  boxcoxTransform(diffsm$pos, lambda = 0.03327076)\n",
       "t = 2.1548, df = 46, p-value = 0.03645\n",
       "alternative hypothesis: true mean is not equal to 5.033612\n",
       "95 percent confidence interval:\n",
       " 5.061289 5.846578\n",
       "sample estimates:\n",
       "mean of x \n",
       " 5.453934 \n"
      ]
     },
     "metadata": {},
     "output_type": "display_data"
    }
   ],
   "source": [
    "t.test(boxcoxTransform(diffsm$pos, lambda= 0.03327076), mu=5.03361156327713)"
   ]
  },
  {
   "cell_type": "code",
   "execution_count": null,
   "metadata": {},
   "outputs": [],
   "source": []
  },
  {
   "cell_type": "code",
   "execution_count": null,
   "metadata": {},
   "outputs": [],
   "source": []
  },
  {
   "cell_type": "code",
   "execution_count": null,
   "metadata": {},
   "outputs": [],
   "source": []
  },
  {
   "cell_type": "code",
   "execution_count": 44,
   "metadata": {},
   "outputs": [
    {
     "ename": "ERROR",
     "evalue": "Error in cor(na.omit(diffsm)$TISSUE, na.omit(diffsm)$avg): supply both 'x' and 'y' or a matrix-like 'x'\n",
     "output_type": "error",
     "traceback": [
      "Error in cor(na.omit(diffsm)$TISSUE, na.omit(diffsm)$avg): supply both 'x' and 'y' or a matrix-like 'x'\nTraceback:\n",
      "1. cor(na.omit(diffsm)$TISSUE, na.omit(diffsm)$avg)",
      "2. stop(\"supply both 'x' and 'y' or a matrix-like 'x'\")"
     ]
    }
   ],
   "source": [
    "cor(na.omit(diffsm)$TISSUE, na.omit(diffsm)$avg)\n",
    "linearMod <- lm(avg~TISSUE, data=na.omit(diffsm))\n",
    "summary(linearMod)"
   ]
  },
  {
   "cell_type": "code",
   "execution_count": null,
   "metadata": {},
   "outputs": [],
   "source": [
    "ancovasal=lm(data=na.omit(diffsm), avg~Salinity.x+TISSUE)\n",
    "summary(ancovasal)"
   ]
  },
  {
   "cell_type": "code",
   "execution_count": null,
   "metadata": {},
   "outputs": [],
   "source": [
    "head(all)"
   ]
  },
  {
   "cell_type": "code",
   "execution_count": null,
   "metadata": {},
   "outputs": [],
   "source": [
    "ancovasal2=lm(data=na.omit(all), number~Salinity+TISSUE)\n",
    "summary(ancovasal)"
   ]
  },
  {
   "cell_type": "code",
   "execution_count": null,
   "metadata": {},
   "outputs": [],
   "source": []
  },
  {
   "cell_type": "markdown",
   "metadata": {},
   "source": [
    "following schwartz do a repeated measures. Four diffferent response variables (four time points)?? . within subjects factor is temp and between is salinity. Construct it as multiple anova but manova. Repeated measures manova. Sequential temperature. \n"
   ]
  },
  {
   "cell_type": "code",
   "execution_count": null,
   "metadata": {},
   "outputs": [],
   "source": [
    "unique()"
   ]
  },
  {
   "cell_type": "markdown",
   "metadata": {},
   "source": [
    "difference value between ambient and heat, expect to be zero if theres no effect. need to account for oyster ID. "
   ]
  },
  {
   "cell_type": "markdown",
   "metadata": {},
   "source": [
    "Notes from talking to Lisa:\n",
    "Is there info on metabolic rate of ectotherm/oysters and temperature Growth rate or filtration rate? \n",
    "Filtration and release rates as a function of temperature, plus pathogen infection probability. \n",
    "ARe pathogens growing faster, or are they infecting more efficiently, or are they \n",
    "Also focusing more on the host makes it easier to translate to alternate hosts\n",
    "Encorporate salinity just into the pathogen dynamics? \n",
    "Can't just be like temperature only affects oysters and salinity only affects the pathogen. \n",
    "Look at temperature effects on perkinsus marinus. \n",
    "\n",
    "See if there's a metabolic response to salinity on the oyster... Need to \n",
    "\n",
    "Are there papers about Perkinsus and temperature? \n",
    "\n",
    "I decide if there are more experiments to tease apart hypotheses. \n",
    "\n",
    "What is the tempareture range \n"
   ]
  },
  {
   "cell_type": "markdown",
   "metadata": {},
   "source": [
    "## Things to do next:\n",
    "Decide if you want to divide into low and high release. (take out outlier) \n",
    "\n",
    "mackin score on max number of cells released\n",
    "\n",
    "Influence of days before death on #cells released (for last day) \n",
    "\n",
    "Compare last value of ones that survived to ones that died. also compare to gapers?\n",
    "\n",
    "Count number of high releases in each category?\n",
    "Can you plot it over time for each oyster? \n",
    "\n",
    "Put tillie's data into a separate notebook. "
   ]
  },
  {
   "cell_type": "code",
   "execution_count": 96,
   "metadata": {},
   "outputs": [
    {
     "data": {
      "text/html": [
       "<table>\n",
       "<thead><tr><th scope=col>ID</th><th scope=col>Treatment</th><th scope=col>Day</th><th scope=col>number</th><th scope=col>Salinity</th><th scope=col>TISSUE</th><th scope=col>MORTALITY.DATE</th><th scope=col>Gape</th><th scope=col>Mortality</th><th scope=col>Gape_day</th><th scope=col>Mortality_day</th><th scope=col>Four_trials</th><th scope=col>Survived</th><th scope=col>Trial</th></tr></thead>\n",
       "<tbody>\n",
       "\t<tr><td>10W    </td><td>Ambient</td><td>5      </td><td>NA     </td><td>LOW    </td><td>0.5    </td><td>       </td><td>NA     </td><td>NA     </td><td>NA     </td><td>NA     </td><td>No     </td><td>Yes    </td><td>one    </td></tr>\n",
       "\t<tr><td>10W    </td><td>Ambient</td><td>7      </td><td>NA     </td><td>LOW    </td><td>0.5    </td><td>       </td><td>NA     </td><td>NA     </td><td>NA     </td><td>NA     </td><td>No     </td><td>Yes    </td><td>two    </td></tr>\n",
       "\t<tr><td>10W    </td><td>Ambient</td><td>10     </td><td>NA     </td><td>LOW    </td><td>0.5    </td><td>       </td><td>NA     </td><td>NA     </td><td>NA     </td><td>NA     </td><td>No     </td><td>Yes    </td><td>one    </td></tr>\n",
       "\t<tr><td>10W    </td><td>Ambient</td><td>14     </td><td>NA     </td><td>LOW    </td><td>0.5    </td><td>       </td><td>NA     </td><td>NA     </td><td>NA     </td><td>NA     </td><td>No     </td><td>Yes    </td><td>two    </td></tr>\n",
       "\t<tr><td>10W    </td><td>Heat   </td><td>21     </td><td>27     </td><td>LOW    </td><td>0.5    </td><td>       </td><td>NA     </td><td>NA     </td><td>NA     </td><td>NA     </td><td>No     </td><td>Yes    </td><td>one    </td></tr>\n",
       "\t<tr><td>10W    </td><td>Heat   </td><td>23     </td><td> 0     </td><td>LOW    </td><td>0.5    </td><td>       </td><td>NA     </td><td>NA     </td><td>NA     </td><td>NA     </td><td>No     </td><td>Yes    </td><td>two    </td></tr>\n",
       "</tbody>\n",
       "</table>\n"
      ],
      "text/latex": [
       "\\begin{tabular}{r|llllllllllllll}\n",
       " ID & Treatment & Day & number & Salinity & TISSUE & MORTALITY.DATE & Gape & Mortality & Gape\\_day & Mortality\\_day & Four\\_trials & Survived & Trial\\\\\n",
       "\\hline\n",
       "\t 10W     & Ambient & 5       & NA      & LOW     & 0.5     &         & NA      & NA      & NA      & NA      & No      & Yes     & one    \\\\\n",
       "\t 10W     & Ambient & 7       & NA      & LOW     & 0.5     &         & NA      & NA      & NA      & NA      & No      & Yes     & two    \\\\\n",
       "\t 10W     & Ambient & 10      & NA      & LOW     & 0.5     &         & NA      & NA      & NA      & NA      & No      & Yes     & one    \\\\\n",
       "\t 10W     & Ambient & 14      & NA      & LOW     & 0.5     &         & NA      & NA      & NA      & NA      & No      & Yes     & two    \\\\\n",
       "\t 10W     & Heat    & 21      & 27      & LOW     & 0.5     &         & NA      & NA      & NA      & NA      & No      & Yes     & one    \\\\\n",
       "\t 10W     & Heat    & 23      &  0      & LOW     & 0.5     &         & NA      & NA      & NA      & NA      & No      & Yes     & two    \\\\\n",
       "\\end{tabular}\n"
      ],
      "text/markdown": [
       "\n",
       "| ID | Treatment | Day | number | Salinity | TISSUE | MORTALITY.DATE | Gape | Mortality | Gape_day | Mortality_day | Four_trials | Survived | Trial |\n",
       "|---|---|---|---|---|---|---|---|---|---|---|---|---|---|\n",
       "| 10W     | Ambient | 5       | NA      | LOW     | 0.5     |         | NA      | NA      | NA      | NA      | No      | Yes     | one     |\n",
       "| 10W     | Ambient | 7       | NA      | LOW     | 0.5     |         | NA      | NA      | NA      | NA      | No      | Yes     | two     |\n",
       "| 10W     | Ambient | 10      | NA      | LOW     | 0.5     |         | NA      | NA      | NA      | NA      | No      | Yes     | one     |\n",
       "| 10W     | Ambient | 14      | NA      | LOW     | 0.5     |         | NA      | NA      | NA      | NA      | No      | Yes     | two     |\n",
       "| 10W     | Heat    | 21      | 27      | LOW     | 0.5     |         | NA      | NA      | NA      | NA      | No      | Yes     | one     |\n",
       "| 10W     | Heat    | 23      |  0      | LOW     | 0.5     |         | NA      | NA      | NA      | NA      | No      | Yes     | two     |\n",
       "\n"
      ],
      "text/plain": [
       "  ID  Treatment Day number Salinity TISSUE MORTALITY.DATE Gape Mortality\n",
       "1 10W Ambient   5   NA     LOW      0.5                   NA   NA       \n",
       "2 10W Ambient   7   NA     LOW      0.5                   NA   NA       \n",
       "3 10W Ambient   10  NA     LOW      0.5                   NA   NA       \n",
       "4 10W Ambient   14  NA     LOW      0.5                   NA   NA       \n",
       "5 10W Heat      21  27     LOW      0.5                   NA   NA       \n",
       "6 10W Heat      23   0     LOW      0.5                   NA   NA       \n",
       "  Gape_day Mortality_day Four_trials Survived Trial\n",
       "1 NA       NA            No          Yes      one  \n",
       "2 NA       NA            No          Yes      two  \n",
       "3 NA       NA            No          Yes      one  \n",
       "4 NA       NA            No          Yes      two  \n",
       "5 NA       NA            No          Yes      one  \n",
       "6 NA       NA            No          Yes      two  "
      ]
     },
     "metadata": {},
     "output_type": "display_data"
    }
   ],
   "source": [
    "head(all)"
   ]
  },
  {
   "cell_type": "code",
   "execution_count": 45,
   "metadata": {},
   "outputs": [],
   "source": [
    "dead=all[!is.na(all$Mortality_day),]"
   ]
  },
  {
   "cell_type": "code",
   "execution_count": 46,
   "metadata": {},
   "outputs": [
    {
     "data": {
      "text/html": [
       "22"
      ],
      "text/latex": [
       "22"
      ],
      "text/markdown": [
       "22"
      ],
      "text/plain": [
       "[1] 22"
      ]
     },
     "metadata": {},
     "output_type": "display_data"
    }
   ],
   "source": [
    "length(unique(dead$ID))"
   ]
  },
  {
   "cell_type": "code",
   "execution_count": 47,
   "metadata": {},
   "outputs": [],
   "source": [
    "dead$Day=as.numeric(as.character(dead$Day))\n",
    "dead$Mortality_day=as.numeric(as.character(dead$Mortality_day))"
   ]
  },
  {
   "cell_type": "code",
   "execution_count": 48,
   "metadata": {},
   "outputs": [],
   "source": [
    "dead$time_death=dead$Mortality_day-dead$Day"
   ]
  },
  {
   "cell_type": "code",
   "execution_count": 49,
   "metadata": {},
   "outputs": [],
   "source": [
    "dead$dummy=1"
   ]
  },
  {
   "cell_type": "code",
   "execution_count": 50,
   "metadata": {},
   "outputs": [],
   "source": [
    "dead$percent=dead$number"
   ]
  },
  {
   "cell_type": "code",
   "execution_count": 51,
   "metadata": {},
   "outputs": [],
   "source": [
    "total=aggregate(number~ID, data=dead, FUN=sum)"
   ]
  },
  {
   "cell_type": "code",
   "execution_count": 52,
   "metadata": {},
   "outputs": [],
   "source": [
    "dead=merge(dead, total, by=\"ID\")"
   ]
  },
  {
   "cell_type": "code",
   "execution_count": 53,
   "metadata": {},
   "outputs": [],
   "source": [
    "dead$percent=(dead$number.x/dead$number.y)*100"
   ]
  },
  {
   "cell_type": "code",
   "execution_count": 54,
   "metadata": {
    "scrolled": true
   },
   "outputs": [
    {
     "data": {
      "text/html": [
       "<table>\n",
       "<thead><tr><th scope=col>ID</th><th scope=col>Treatment</th><th scope=col>Day</th><th scope=col>number.x</th><th scope=col>Salinity</th><th scope=col>TISSUE</th><th scope=col>MORTALITY.DATE</th><th scope=col>Gape</th><th scope=col>Mortality</th><th scope=col>Gape_day</th><th scope=col>Mortality_day</th><th scope=col>Four_trials</th><th scope=col>Survived</th><th scope=col>Trial</th><th scope=col>time_death</th><th scope=col>dummy</th><th scope=col>percent</th><th scope=col>number.y</th></tr></thead>\n",
       "<tbody>\n",
       "\t<tr><td>11W     </td><td>Ambient </td><td> 5      </td><td>NA      </td><td>LOW     </td><td>1       </td><td>7-Nov   </td><td>7-Nov   </td><td>8-Nov   </td><td>28      </td><td>29      </td><td>No      </td><td>No      </td><td>one     </td><td>24      </td><td>1       </td><td>      NA</td><td>14      </td></tr>\n",
       "\t<tr><td>11W     </td><td>Ambient </td><td> 7      </td><td>NA      </td><td>LOW     </td><td>1       </td><td>7-Nov   </td><td>7-Nov   </td><td>8-Nov   </td><td>28      </td><td>29      </td><td>No      </td><td>No      </td><td>two     </td><td>22      </td><td>1       </td><td>      NA</td><td>14      </td></tr>\n",
       "\t<tr><td>11W     </td><td>Ambient </td><td>10      </td><td> 0      </td><td>LOW     </td><td>1       </td><td>7-Nov   </td><td>7-Nov   </td><td>8-Nov   </td><td>28      </td><td>29      </td><td>No      </td><td>No      </td><td>one     </td><td>19      </td><td>1       </td><td>0.000000</td><td>14      </td></tr>\n",
       "\t<tr><td>11W     </td><td>Ambient </td><td>14      </td><td> 1      </td><td>LOW     </td><td>1       </td><td>7-Nov   </td><td>7-Nov   </td><td>8-Nov   </td><td>28      </td><td>29      </td><td>No      </td><td>No      </td><td>two     </td><td>15      </td><td>1       </td><td>7.142857</td><td>14      </td></tr>\n",
       "\t<tr><td>11W     </td><td>Heat    </td><td>21      </td><td>NA      </td><td>LOW     </td><td>1       </td><td>7-Nov   </td><td>7-Nov   </td><td>8-Nov   </td><td>28      </td><td>29      </td><td>No      </td><td>No      </td><td>one     </td><td> 8      </td><td>1       </td><td>      NA</td><td>14      </td></tr>\n",
       "\t<tr><td>11W     </td><td>Heat    </td><td>23      </td><td>NA      </td><td>LOW     </td><td>1       </td><td>7-Nov   </td><td>7-Nov   </td><td>8-Nov   </td><td>28      </td><td>29      </td><td>No      </td><td>No      </td><td>two     </td><td> 6      </td><td>1       </td><td>      NA</td><td>14      </td></tr>\n",
       "</tbody>\n",
       "</table>\n"
      ],
      "text/latex": [
       "\\begin{tabular}{r|llllllllllllllllll}\n",
       " ID & Treatment & Day & number.x & Salinity & TISSUE & MORTALITY.DATE & Gape & Mortality & Gape\\_day & Mortality\\_day & Four\\_trials & Survived & Trial & time\\_death & dummy & percent & number.y\\\\\n",
       "\\hline\n",
       "\t 11W      & Ambient  &  5       & NA       & LOW      & 1        & 7-Nov    & 7-Nov    & 8-Nov    & 28       & 29       & No       & No       & one      & 24       & 1        &       NA & 14      \\\\\n",
       "\t 11W      & Ambient  &  7       & NA       & LOW      & 1        & 7-Nov    & 7-Nov    & 8-Nov    & 28       & 29       & No       & No       & two      & 22       & 1        &       NA & 14      \\\\\n",
       "\t 11W      & Ambient  & 10       &  0       & LOW      & 1        & 7-Nov    & 7-Nov    & 8-Nov    & 28       & 29       & No       & No       & one      & 19       & 1        & 0.000000 & 14      \\\\\n",
       "\t 11W      & Ambient  & 14       &  1       & LOW      & 1        & 7-Nov    & 7-Nov    & 8-Nov    & 28       & 29       & No       & No       & two      & 15       & 1        & 7.142857 & 14      \\\\\n",
       "\t 11W      & Heat     & 21       & NA       & LOW      & 1        & 7-Nov    & 7-Nov    & 8-Nov    & 28       & 29       & No       & No       & one      &  8       & 1        &       NA & 14      \\\\\n",
       "\t 11W      & Heat     & 23       & NA       & LOW      & 1        & 7-Nov    & 7-Nov    & 8-Nov    & 28       & 29       & No       & No       & two      &  6       & 1        &       NA & 14      \\\\\n",
       "\\end{tabular}\n"
      ],
      "text/markdown": [
       "\n",
       "| ID | Treatment | Day | number.x | Salinity | TISSUE | MORTALITY.DATE | Gape | Mortality | Gape_day | Mortality_day | Four_trials | Survived | Trial | time_death | dummy | percent | number.y |\n",
       "|---|---|---|---|---|---|---|---|---|---|---|---|---|---|---|---|---|---|\n",
       "| 11W      | Ambient  |  5       | NA       | LOW      | 1        | 7-Nov    | 7-Nov    | 8-Nov    | 28       | 29       | No       | No       | one      | 24       | 1        |       NA | 14       |\n",
       "| 11W      | Ambient  |  7       | NA       | LOW      | 1        | 7-Nov    | 7-Nov    | 8-Nov    | 28       | 29       | No       | No       | two      | 22       | 1        |       NA | 14       |\n",
       "| 11W      | Ambient  | 10       |  0       | LOW      | 1        | 7-Nov    | 7-Nov    | 8-Nov    | 28       | 29       | No       | No       | one      | 19       | 1        | 0.000000 | 14       |\n",
       "| 11W      | Ambient  | 14       |  1       | LOW      | 1        | 7-Nov    | 7-Nov    | 8-Nov    | 28       | 29       | No       | No       | two      | 15       | 1        | 7.142857 | 14       |\n",
       "| 11W      | Heat     | 21       | NA       | LOW      | 1        | 7-Nov    | 7-Nov    | 8-Nov    | 28       | 29       | No       | No       | one      |  8       | 1        |       NA | 14       |\n",
       "| 11W      | Heat     | 23       | NA       | LOW      | 1        | 7-Nov    | 7-Nov    | 8-Nov    | 28       | 29       | No       | No       | two      |  6       | 1        |       NA | 14       |\n",
       "\n"
      ],
      "text/plain": [
       "  ID  Treatment Day number.x Salinity TISSUE MORTALITY.DATE Gape  Mortality\n",
       "1 11W Ambient    5  NA       LOW      1      7-Nov          7-Nov 8-Nov    \n",
       "2 11W Ambient    7  NA       LOW      1      7-Nov          7-Nov 8-Nov    \n",
       "3 11W Ambient   10   0       LOW      1      7-Nov          7-Nov 8-Nov    \n",
       "4 11W Ambient   14   1       LOW      1      7-Nov          7-Nov 8-Nov    \n",
       "5 11W Heat      21  NA       LOW      1      7-Nov          7-Nov 8-Nov    \n",
       "6 11W Heat      23  NA       LOW      1      7-Nov          7-Nov 8-Nov    \n",
       "  Gape_day Mortality_day Four_trials Survived Trial time_death dummy percent \n",
       "1 28       29            No          No       one   24         1           NA\n",
       "2 28       29            No          No       two   22         1           NA\n",
       "3 28       29            No          No       one   19         1     0.000000\n",
       "4 28       29            No          No       two   15         1     7.142857\n",
       "5 28       29            No          No       one    8         1           NA\n",
       "6 28       29            No          No       two    6         1           NA\n",
       "  number.y\n",
       "1 14      \n",
       "2 14      \n",
       "3 14      \n",
       "4 14      \n",
       "5 14      \n",
       "6 14      "
      ]
     },
     "metadata": {},
     "output_type": "display_data"
    }
   ],
   "source": [
    "head(dead)"
   ]
  },
  {
   "cell_type": "code",
   "execution_count": 55,
   "metadata": {},
   "outputs": [
    {
     "name": "stderr",
     "output_type": "stream",
     "text": [
      "Warning message:\n",
      "“Removed 126 rows containing missing values (geom_point).”"
     ]
    },
    {
     "data": {
      "image/png": "[encoded data removed]",
      "text/plain": [
       "plot without title"
      ]
     },
     "metadata": {},
     "output_type": "display_data"
    }
   ],
   "source": [
    "#plot mackin score vs number released\n",
    "ggplot(dead, aes(x = -time_death, y=dummy, size = number.x, col=Treatment, group=ID)) +\n",
    "scale_color_manual(values=c(\"goldenrod\", \"darkred\"))+\n",
    "      geom_point()+\n",
    "#geom_line()+\n",
    " facet_grid( ID ~ .)+\n",
    "theme_bw()+\n",
    "theme(legend.position=\"right\", \n",
    "      panel.border = element_rect(color=\"black\"), \n",
    "          panel.grid.major = element_blank(), \n",
    "          panel.grid.minor = element_blank(),\n",
    "        axis.text.y=element_blank(),\n",
    "          axis.ticks=element_blank(), axis.line=element_line(color=\"black\"), axis.text=element_text(color=\"black\", size=12),\n",
    "          text = element_text(size=10))+\n",
    "xlim(-30,0)+\n",
    "ylab(\"Individuals\")+\n",
    "xlab(\"Time until death (days)\")"
   ]
  },
  {
   "cell_type": "code",
   "execution_count": 56,
   "metadata": {
    "scrolled": true
   },
   "outputs": [
    {
     "name": "stderr",
     "output_type": "stream",
     "text": [
      "Warning message:\n",
      "“Removed 127 rows containing missing values (geom_point).”"
     ]
    },
    {
     "data": {
      "image/png": "[encoded data removed]",
      "text/plain": [
       "plot without title"
      ]
     },
     "metadata": {},
     "output_type": "display_data"
    }
   ],
   "source": [
    "#plot mackin score vs number released\n",
    "ggplot(dead, aes(x = -time_death, y=dummy, size = percent, col=Treatment, group=ID)) +\n",
    "scale_color_manual(values=c(\"goldenrod\", \"darkred\"))+\n",
    "      geom_point()+\n",
    "#geom_line()+\n",
    " facet_grid( ID ~ .)+\n",
    "theme_bw()+\n",
    "theme(legend.position=\"right\", \n",
    "      panel.border = element_rect(color=\"black\"), \n",
    "          panel.grid.major = element_blank(), \n",
    "          panel.grid.minor = element_blank(),\n",
    "        axis.text.y=element_blank(),\n",
    "          axis.ticks=element_blank(), axis.line=element_line(color=\"black\"), axis.text=element_text(color=\"black\", size=12),\n",
    "          text = element_text(size=10))+\n",
    "xlim(-30,0)+\n",
    "ylab(\"Individuals\")+\n",
    "xlab(\"Time until death (days)\")"
   ]
  },
  {
   "cell_type": "code",
   "execution_count": 151,
   "metadata": {
    "scrolled": true
   },
   "outputs": [
    {
     "data": {
      "text/html": [
       "<table>\n",
       "<thead><tr><th scope=col>ID</th><th scope=col>Treatment</th><th scope=col>Day</th><th scope=col>number</th><th scope=col>Salinity</th><th scope=col>TISSUE</th><th scope=col>MORTALITY.DATE</th><th scope=col>Gape</th><th scope=col>Mortality</th><th scope=col>Gape_day</th><th scope=col>Mortality_day</th><th scope=col>Four_trials</th><th scope=col>Survived</th><th scope=col>Trial</th></tr></thead>\n",
       "<tbody>\n",
       "\t<tr><td>10W    </td><td>Ambient</td><td>5      </td><td>NA     </td><td>LOW    </td><td>0.5    </td><td>       </td><td>NA     </td><td>NA     </td><td>NA     </td><td>NA     </td><td>No     </td><td>Yes    </td><td>one    </td></tr>\n",
       "\t<tr><td>10W    </td><td>Ambient</td><td>7      </td><td>NA     </td><td>LOW    </td><td>0.5    </td><td>       </td><td>NA     </td><td>NA     </td><td>NA     </td><td>NA     </td><td>No     </td><td>Yes    </td><td>two    </td></tr>\n",
       "\t<tr><td>10W    </td><td>Ambient</td><td>10     </td><td>NA     </td><td>LOW    </td><td>0.5    </td><td>       </td><td>NA     </td><td>NA     </td><td>NA     </td><td>NA     </td><td>No     </td><td>Yes    </td><td>one    </td></tr>\n",
       "\t<tr><td>10W    </td><td>Ambient</td><td>14     </td><td>NA     </td><td>LOW    </td><td>0.5    </td><td>       </td><td>NA     </td><td>NA     </td><td>NA     </td><td>NA     </td><td>No     </td><td>Yes    </td><td>two    </td></tr>\n",
       "\t<tr><td>10W    </td><td>Heat   </td><td>21     </td><td>27     </td><td>LOW    </td><td>0.5    </td><td>       </td><td>NA     </td><td>NA     </td><td>NA     </td><td>NA     </td><td>No     </td><td>Yes    </td><td>one    </td></tr>\n",
       "\t<tr><td>10W    </td><td>Heat   </td><td>23     </td><td> 0     </td><td>LOW    </td><td>0.5    </td><td>       </td><td>NA     </td><td>NA     </td><td>NA     </td><td>NA     </td><td>No     </td><td>Yes    </td><td>two    </td></tr>\n",
       "</tbody>\n",
       "</table>\n"
      ],
      "text/latex": [
       "\\begin{tabular}{r|llllllllllllll}\n",
       " ID & Treatment & Day & number & Salinity & TISSUE & MORTALITY.DATE & Gape & Mortality & Gape\\_day & Mortality\\_day & Four\\_trials & Survived & Trial\\\\\n",
       "\\hline\n",
       "\t 10W     & Ambient & 5       & NA      & LOW     & 0.5     &         & NA      & NA      & NA      & NA      & No      & Yes     & one    \\\\\n",
       "\t 10W     & Ambient & 7       & NA      & LOW     & 0.5     &         & NA      & NA      & NA      & NA      & No      & Yes     & two    \\\\\n",
       "\t 10W     & Ambient & 10      & NA      & LOW     & 0.5     &         & NA      & NA      & NA      & NA      & No      & Yes     & one    \\\\\n",
       "\t 10W     & Ambient & 14      & NA      & LOW     & 0.5     &         & NA      & NA      & NA      & NA      & No      & Yes     & two    \\\\\n",
       "\t 10W     & Heat    & 21      & 27      & LOW     & 0.5     &         & NA      & NA      & NA      & NA      & No      & Yes     & one    \\\\\n",
       "\t 10W     & Heat    & 23      &  0      & LOW     & 0.5     &         & NA      & NA      & NA      & NA      & No      & Yes     & two    \\\\\n",
       "\\end{tabular}\n"
      ],
      "text/markdown": [
       "\n",
       "| ID | Treatment | Day | number | Salinity | TISSUE | MORTALITY.DATE | Gape | Mortality | Gape_day | Mortality_day | Four_trials | Survived | Trial |\n",
       "|---|---|---|---|---|---|---|---|---|---|---|---|---|---|\n",
       "| 10W     | Ambient | 5       | NA      | LOW     | 0.5     |         | NA      | NA      | NA      | NA      | No      | Yes     | one     |\n",
       "| 10W     | Ambient | 7       | NA      | LOW     | 0.5     |         | NA      | NA      | NA      | NA      | No      | Yes     | two     |\n",
       "| 10W     | Ambient | 10      | NA      | LOW     | 0.5     |         | NA      | NA      | NA      | NA      | No      | Yes     | one     |\n",
       "| 10W     | Ambient | 14      | NA      | LOW     | 0.5     |         | NA      | NA      | NA      | NA      | No      | Yes     | two     |\n",
       "| 10W     | Heat    | 21      | 27      | LOW     | 0.5     |         | NA      | NA      | NA      | NA      | No      | Yes     | one     |\n",
       "| 10W     | Heat    | 23      |  0      | LOW     | 0.5     |         | NA      | NA      | NA      | NA      | No      | Yes     | two     |\n",
       "\n"
      ],
      "text/plain": [
       "  ID  Treatment Day number Salinity TISSUE MORTALITY.DATE Gape Mortality\n",
       "1 10W Ambient   5   NA     LOW      0.5                   NA   NA       \n",
       "2 10W Ambient   7   NA     LOW      0.5                   NA   NA       \n",
       "3 10W Ambient   10  NA     LOW      0.5                   NA   NA       \n",
       "4 10W Ambient   14  NA     LOW      0.5                   NA   NA       \n",
       "5 10W Heat      21  27     LOW      0.5                   NA   NA       \n",
       "6 10W Heat      23   0     LOW      0.5                   NA   NA       \n",
       "  Gape_day Mortality_day Four_trials Survived Trial\n",
       "1 NA       NA            No          Yes      one  \n",
       "2 NA       NA            No          Yes      two  \n",
       "3 NA       NA            No          Yes      one  \n",
       "4 NA       NA            No          Yes      two  \n",
       "5 NA       NA            No          Yes      one  \n",
       "6 NA       NA            No          Yes      two  "
      ]
     },
     "metadata": {},
     "output_type": "display_data"
    }
   ],
   "source": [
    "head(all)"
   ]
  },
  {
   "cell_type": "code",
   "execution_count": 57,
   "metadata": {},
   "outputs": [],
   "source": [
    "maxcells=aggregate(number~ID, data=all, FUN=max)"
   ]
  },
  {
   "cell_type": "code",
   "execution_count": 58,
   "metadata": {
    "scrolled": true
   },
   "outputs": [
    {
     "data": {
      "text/html": [
       "<table>\n",
       "<thead><tr><th scope=col>ID</th><th scope=col>number</th></tr></thead>\n",
       "<tbody>\n",
       "\t<tr><td>10W </td><td>  27</td></tr>\n",
       "\t<tr><td>11W </td><td>  13</td></tr>\n",
       "\t<tr><td>12W </td><td> 302</td></tr>\n",
       "\t<tr><td>13W </td><td>  17</td></tr>\n",
       "\t<tr><td>14W </td><td>  67</td></tr>\n",
       "\t<tr><td>15W </td><td>1809</td></tr>\n",
       "</tbody>\n",
       "</table>\n"
      ],
      "text/latex": [
       "\\begin{tabular}{r|ll}\n",
       " ID & number\\\\\n",
       "\\hline\n",
       "\t 10W  &   27\\\\\n",
       "\t 11W  &   13\\\\\n",
       "\t 12W  &  302\\\\\n",
       "\t 13W  &   17\\\\\n",
       "\t 14W  &   67\\\\\n",
       "\t 15W  & 1809\\\\\n",
       "\\end{tabular}\n"
      ],
      "text/markdown": [
       "\n",
       "| ID | number |\n",
       "|---|---|\n",
       "| 10W  |   27 |\n",
       "| 11W  |   13 |\n",
       "| 12W  |  302 |\n",
       "| 13W  |   17 |\n",
       "| 14W  |   67 |\n",
       "| 15W  | 1809 |\n",
       "\n"
      ],
      "text/plain": [
       "  ID  number\n",
       "1 10W   27  \n",
       "2 11W   13  \n",
       "3 12W  302  \n",
       "4 13W   17  \n",
       "5 14W   67  \n",
       "6 15W 1809  "
      ]
     },
     "metadata": {},
     "output_type": "display_data"
    }
   ],
   "source": [
    "head(maxcells)"
   ]
  },
  {
   "cell_type": "code",
   "execution_count": 59,
   "metadata": {},
   "outputs": [],
   "source": [
    "colnames(maxcells)=c(\"ID\", \"max\")"
   ]
  },
  {
   "cell_type": "code",
   "execution_count": 60,
   "metadata": {},
   "outputs": [],
   "source": [
    "all=merge(all, maxcells, by=\"ID\")"
   ]
  },
  {
   "cell_type": "code",
   "execution_count": 64,
   "metadata": {},
   "outputs": [
    {
     "data": {
      "text/html": [
       "<table>\n",
       "<thead><tr><th scope=col>ID</th><th scope=col>Treatment</th><th scope=col>Day</th><th scope=col>number</th><th scope=col>Salinity</th><th scope=col>TISSUE</th><th scope=col>MORTALITY.DATE</th><th scope=col>Gape</th><th scope=col>Mortality</th><th scope=col>Gape_day</th><th scope=col>Mortality_day</th><th scope=col>Four_trials</th><th scope=col>Survived</th><th scope=col>Trial</th><th scope=col>max</th></tr></thead>\n",
       "<tbody>\n",
       "\t<tr><td>10W    </td><td>Ambient</td><td>5      </td><td>NA     </td><td>LOW    </td><td>0.5    </td><td>       </td><td>NA     </td><td>NA     </td><td>NA     </td><td>NA     </td><td>No     </td><td>Yes    </td><td>one    </td><td>27     </td></tr>\n",
       "\t<tr><td>10W    </td><td>Ambient</td><td>7      </td><td>NA     </td><td>LOW    </td><td>0.5    </td><td>       </td><td>NA     </td><td>NA     </td><td>NA     </td><td>NA     </td><td>No     </td><td>Yes    </td><td>two    </td><td>27     </td></tr>\n",
       "\t<tr><td>10W    </td><td>Ambient</td><td>10     </td><td>NA     </td><td>LOW    </td><td>0.5    </td><td>       </td><td>NA     </td><td>NA     </td><td>NA     </td><td>NA     </td><td>No     </td><td>Yes    </td><td>one    </td><td>27     </td></tr>\n",
       "\t<tr><td>10W    </td><td>Ambient</td><td>14     </td><td>NA     </td><td>LOW    </td><td>0.5    </td><td>       </td><td>NA     </td><td>NA     </td><td>NA     </td><td>NA     </td><td>No     </td><td>Yes    </td><td>two    </td><td>27     </td></tr>\n",
       "\t<tr><td>10W    </td><td>Heat   </td><td>21     </td><td>27     </td><td>LOW    </td><td>0.5    </td><td>       </td><td>NA     </td><td>NA     </td><td>NA     </td><td>NA     </td><td>No     </td><td>Yes    </td><td>one    </td><td>27     </td></tr>\n",
       "\t<tr><td>10W    </td><td>Heat   </td><td>23     </td><td> 0     </td><td>LOW    </td><td>0.5    </td><td>       </td><td>NA     </td><td>NA     </td><td>NA     </td><td>NA     </td><td>No     </td><td>Yes    </td><td>two    </td><td>27     </td></tr>\n",
       "</tbody>\n",
       "</table>\n"
      ],
      "text/latex": [
       "\\begin{tabular}{r|lllllllllllllll}\n",
       " ID & Treatment & Day & number & Salinity & TISSUE & MORTALITY.DATE & Gape & Mortality & Gape\\_day & Mortality\\_day & Four\\_trials & Survived & Trial & max\\\\\n",
       "\\hline\n",
       "\t 10W     & Ambient & 5       & NA      & LOW     & 0.5     &         & NA      & NA      & NA      & NA      & No      & Yes     & one     & 27     \\\\\n",
       "\t 10W     & Ambient & 7       & NA      & LOW     & 0.5     &         & NA      & NA      & NA      & NA      & No      & Yes     & two     & 27     \\\\\n",
       "\t 10W     & Ambient & 10      & NA      & LOW     & 0.5     &         & NA      & NA      & NA      & NA      & No      & Yes     & one     & 27     \\\\\n",
       "\t 10W     & Ambient & 14      & NA      & LOW     & 0.5     &         & NA      & NA      & NA      & NA      & No      & Yes     & two     & 27     \\\\\n",
       "\t 10W     & Heat    & 21      & 27      & LOW     & 0.5     &         & NA      & NA      & NA      & NA      & No      & Yes     & one     & 27     \\\\\n",
       "\t 10W     & Heat    & 23      &  0      & LOW     & 0.5     &         & NA      & NA      & NA      & NA      & No      & Yes     & two     & 27     \\\\\n",
       "\\end{tabular}\n"
      ],
      "text/markdown": [
       "\n",
       "| ID | Treatment | Day | number | Salinity | TISSUE | MORTALITY.DATE | Gape | Mortality | Gape_day | Mortality_day | Four_trials | Survived | Trial | max |\n",
       "|---|---|---|---|---|---|---|---|---|---|---|---|---|---|---|\n",
       "| 10W     | Ambient | 5       | NA      | LOW     | 0.5     |         | NA      | NA      | NA      | NA      | No      | Yes     | one     | 27      |\n",
       "| 10W     | Ambient | 7       | NA      | LOW     | 0.5     |         | NA      | NA      | NA      | NA      | No      | Yes     | two     | 27      |\n",
       "| 10W     | Ambient | 10      | NA      | LOW     | 0.5     |         | NA      | NA      | NA      | NA      | No      | Yes     | one     | 27      |\n",
       "| 10W     | Ambient | 14      | NA      | LOW     | 0.5     |         | NA      | NA      | NA      | NA      | No      | Yes     | two     | 27      |\n",
       "| 10W     | Heat    | 21      | 27      | LOW     | 0.5     |         | NA      | NA      | NA      | NA      | No      | Yes     | one     | 27      |\n",
       "| 10W     | Heat    | 23      |  0      | LOW     | 0.5     |         | NA      | NA      | NA      | NA      | No      | Yes     | two     | 27      |\n",
       "\n"
      ],
      "text/plain": [
       "  ID  Treatment Day number Salinity TISSUE MORTALITY.DATE Gape Mortality\n",
       "1 10W Ambient   5   NA     LOW      0.5                   NA   NA       \n",
       "2 10W Ambient   7   NA     LOW      0.5                   NA   NA       \n",
       "3 10W Ambient   10  NA     LOW      0.5                   NA   NA       \n",
       "4 10W Ambient   14  NA     LOW      0.5                   NA   NA       \n",
       "5 10W Heat      21  27     LOW      0.5                   NA   NA       \n",
       "6 10W Heat      23   0     LOW      0.5                   NA   NA       \n",
       "  Gape_day Mortality_day Four_trials Survived Trial max\n",
       "1 NA       NA            No          Yes      one   27 \n",
       "2 NA       NA            No          Yes      two   27 \n",
       "3 NA       NA            No          Yes      one   27 \n",
       "4 NA       NA            No          Yes      two   27 \n",
       "5 NA       NA            No          Yes      one   27 \n",
       "6 NA       NA            No          Yes      two   27 "
      ]
     },
     "metadata": {},
     "output_type": "display_data"
    }
   ],
   "source": [
    "head(all)"
   ]
  },
  {
   "cell_type": "code",
   "execution_count": 66,
   "metadata": {},
   "outputs": [
    {
     "data": {
      "text/html": [
       "<ol class=list-inline>\n",
       "\t<li>Yes</li>\n",
       "\t<li>Yes</li>\n",
       "\t<li>Yes</li>\n",
       "\t<li>Yes</li>\n",
       "\t<li>Yes</li>\n",
       "\t<li>Yes</li>\n",
       "\t<li>Yes</li>\n",
       "\t<li>Yes</li>\n",
       "\t<li>No</li>\n",
       "\t<li>No</li>\n",
       "\t<li>No</li>\n",
       "\t<li>No</li>\n",
       "\t<li>No</li>\n",
       "\t<li>No</li>\n",
       "\t<li>No</li>\n",
       "\t<li>No</li>\n",
       "\t<li>Yes</li>\n",
       "\t<li>Yes</li>\n",
       "\t<li>Yes</li>\n",
       "\t<li>Yes</li>\n",
       "\t<li>Yes</li>\n",
       "\t<li>Yes</li>\n",
       "\t<li>Yes</li>\n",
       "\t<li>Yes</li>\n",
       "\t<li>Yes</li>\n",
       "\t<li>Yes</li>\n",
       "\t<li>Yes</li>\n",
       "\t<li>Yes</li>\n",
       "\t<li>Yes</li>\n",
       "\t<li>Yes</li>\n",
       "\t<li>Yes</li>\n",
       "\t<li>Yes</li>\n",
       "\t<li>Yes</li>\n",
       "\t<li>Yes</li>\n",
       "\t<li>Yes</li>\n",
       "\t<li>Yes</li>\n",
       "\t<li>Yes</li>\n",
       "\t<li>Yes</li>\n",
       "\t<li>Yes</li>\n",
       "\t<li>Yes</li>\n",
       "\t<li>Yes</li>\n",
       "\t<li>Yes</li>\n",
       "\t<li>Yes</li>\n",
       "\t<li>Yes</li>\n",
       "\t<li>Yes</li>\n",
       "\t<li>Yes</li>\n",
       "\t<li>Yes</li>\n",
       "\t<li>Yes</li>\n",
       "\t<li>Yes</li>\n",
       "\t<li>Yes</li>\n",
       "\t<li>Yes</li>\n",
       "\t<li>Yes</li>\n",
       "\t<li>Yes</li>\n",
       "\t<li>Yes</li>\n",
       "\t<li>Yes</li>\n",
       "\t<li>Yes</li>\n",
       "\t<li>Yes</li>\n",
       "\t<li>Yes</li>\n",
       "\t<li>Yes</li>\n",
       "\t<li>Yes</li>\n",
       "\t<li>Yes</li>\n",
       "\t<li>Yes</li>\n",
       "\t<li>Yes</li>\n",
       "\t<li>Yes</li>\n",
       "\t<li>No</li>\n",
       "\t<li>No</li>\n",
       "\t<li>No</li>\n",
       "\t<li>No</li>\n",
       "\t<li>No</li>\n",
       "\t<li>No</li>\n",
       "\t<li>No</li>\n",
       "\t<li>No</li>\n",
       "\t<li>Yes</li>\n",
       "\t<li>Yes</li>\n",
       "\t<li>Yes</li>\n",
       "\t<li>Yes</li>\n",
       "\t<li>Yes</li>\n",
       "\t<li>Yes</li>\n",
       "\t<li>Yes</li>\n",
       "\t<li>Yes</li>\n",
       "\t<li>Yes</li>\n",
       "\t<li>Yes</li>\n",
       "\t<li>Yes</li>\n",
       "\t<li>Yes</li>\n",
       "\t<li>Yes</li>\n",
       "\t<li>Yes</li>\n",
       "\t<li>Yes</li>\n",
       "\t<li>Yes</li>\n",
       "\t<li>Yes</li>\n",
       "\t<li>Yes</li>\n",
       "\t<li>Yes</li>\n",
       "\t<li>Yes</li>\n",
       "\t<li>Yes</li>\n",
       "\t<li>Yes</li>\n",
       "\t<li>Yes</li>\n",
       "\t<li>Yes</li>\n",
       "\t<li>No</li>\n",
       "\t<li>No</li>\n",
       "\t<li>No</li>\n",
       "\t<li>No</li>\n",
       "\t<li>No</li>\n",
       "\t<li>No</li>\n",
       "\t<li>No</li>\n",
       "\t<li>No</li>\n",
       "\t<li>Yes</li>\n",
       "\t<li>Yes</li>\n",
       "\t<li>Yes</li>\n",
       "\t<li>Yes</li>\n",
       "\t<li>Yes</li>\n",
       "\t<li>Yes</li>\n",
       "\t<li>Yes</li>\n",
       "\t<li>Yes</li>\n",
       "\t<li>Yes</li>\n",
       "\t<li>Yes</li>\n",
       "\t<li>Yes</li>\n",
       "\t<li>Yes</li>\n",
       "\t<li>Yes</li>\n",
       "\t<li>Yes</li>\n",
       "\t<li>Yes</li>\n",
       "\t<li>Yes</li>\n",
       "\t<li>Yes</li>\n",
       "\t<li>Yes</li>\n",
       "\t<li>Yes</li>\n",
       "\t<li>Yes</li>\n",
       "\t<li>Yes</li>\n",
       "\t<li>Yes</li>\n",
       "\t<li>Yes</li>\n",
       "\t<li>Yes</li>\n",
       "\t<li>No</li>\n",
       "\t<li>No</li>\n",
       "\t<li>No</li>\n",
       "\t<li>No</li>\n",
       "\t<li>No</li>\n",
       "\t<li>No</li>\n",
       "\t<li>No</li>\n",
       "\t<li>No</li>\n",
       "\t<li>Yes</li>\n",
       "\t<li>Yes</li>\n",
       "\t<li>Yes</li>\n",
       "\t<li>Yes</li>\n",
       "\t<li>Yes</li>\n",
       "\t<li>Yes</li>\n",
       "\t<li>Yes</li>\n",
       "\t<li>Yes</li>\n",
       "\t<li>Yes</li>\n",
       "\t<li>Yes</li>\n",
       "\t<li>Yes</li>\n",
       "\t<li>Yes</li>\n",
       "\t<li>Yes</li>\n",
       "\t<li>Yes</li>\n",
       "\t<li>Yes</li>\n",
       "\t<li>Yes</li>\n",
       "\t<li>No</li>\n",
       "\t<li>No</li>\n",
       "\t<li>No</li>\n",
       "\t<li>No</li>\n",
       "\t<li>No</li>\n",
       "\t<li>No</li>\n",
       "\t<li>No</li>\n",
       "\t<li>No</li>\n",
       "\t<li>No</li>\n",
       "\t<li>No</li>\n",
       "\t<li>No</li>\n",
       "\t<li>No</li>\n",
       "\t<li>No</li>\n",
       "\t<li>No</li>\n",
       "\t<li>No</li>\n",
       "\t<li>No</li>\n",
       "\t<li>Yes</li>\n",
       "\t<li>Yes</li>\n",
       "\t<li>Yes</li>\n",
       "\t<li>Yes</li>\n",
       "\t<li>Yes</li>\n",
       "\t<li>Yes</li>\n",
       "\t<li>Yes</li>\n",
       "\t<li>Yes</li>\n",
       "\t<li>Yes</li>\n",
       "\t<li>Yes</li>\n",
       "\t<li>Yes</li>\n",
       "\t<li>Yes</li>\n",
       "\t<li>Yes</li>\n",
       "\t<li>Yes</li>\n",
       "\t<li>Yes</li>\n",
       "\t<li>Yes</li>\n",
       "\t<li>Yes</li>\n",
       "\t<li>Yes</li>\n",
       "\t<li>Yes</li>\n",
       "\t<li>Yes</li>\n",
       "\t<li>Yes</li>\n",
       "\t<li>Yes</li>\n",
       "\t<li>Yes</li>\n",
       "\t<li>Yes</li>\n",
       "\t<li>Yes</li>\n",
       "\t<li>Yes</li>\n",
       "\t<li>Yes</li>\n",
       "\t<li>Yes</li>\n",
       "\t<li>Yes</li>\n",
       "\t<li>Yes</li>\n",
       "\t<li>Yes</li>\n",
       "\t<li>Yes</li>\n",
       "\t<li>Yes</li>\n",
       "\t<li>Yes</li>\n",
       "\t<li>Yes</li>\n",
       "\t<li>Yes</li>\n",
       "\t<li>Yes</li>\n",
       "\t<li>Yes</li>\n",
       "\t<li>Yes</li>\n",
       "\t<li>Yes</li>\n",
       "\t<li>Yes</li>\n",
       "\t<li>Yes</li>\n",
       "\t<li>Yes</li>\n",
       "\t<li>Yes</li>\n",
       "\t<li>Yes</li>\n",
       "\t<li>Yes</li>\n",
       "\t<li>Yes</li>\n",
       "\t<li>Yes</li>\n",
       "\t<li>Yes</li>\n",
       "\t<li>Yes</li>\n",
       "\t<li>Yes</li>\n",
       "\t<li>Yes</li>\n",
       "\t<li>Yes</li>\n",
       "\t<li>Yes</li>\n",
       "\t<li>Yes</li>\n",
       "\t<li>Yes</li>\n",
       "\t<li>No</li>\n",
       "\t<li>No</li>\n",
       "\t<li>No</li>\n",
       "\t<li>No</li>\n",
       "\t<li>No</li>\n",
       "\t<li>No</li>\n",
       "\t<li>No</li>\n",
       "\t<li>No</li>\n",
       "\t<li>Yes</li>\n",
       "\t<li>Yes</li>\n",
       "\t<li>Yes</li>\n",
       "\t<li>Yes</li>\n",
       "\t<li>Yes</li>\n",
       "\t<li>Yes</li>\n",
       "\t<li>Yes</li>\n",
       "\t<li>Yes</li>\n",
       "\t<li>No</li>\n",
       "\t<li>No</li>\n",
       "\t<li>No</li>\n",
       "\t<li>No</li>\n",
       "\t<li>No</li>\n",
       "\t<li>No</li>\n",
       "\t<li>No</li>\n",
       "\t<li>No</li>\n",
       "\t<li>No</li>\n",
       "\t<li>No</li>\n",
       "\t<li>No</li>\n",
       "\t<li>No</li>\n",
       "\t<li>No</li>\n",
       "\t<li>No</li>\n",
       "\t<li>No</li>\n",
       "\t<li>No</li>\n",
       "\t<li>No</li>\n",
       "\t<li>No</li>\n",
       "\t<li>No</li>\n",
       "\t<li>No</li>\n",
       "\t<li>No</li>\n",
       "\t<li>No</li>\n",
       "\t<li>No</li>\n",
       "\t<li>No</li>\n",
       "\t<li>No</li>\n",
       "\t<li>No</li>\n",
       "\t<li>No</li>\n",
       "\t<li>No</li>\n",
       "\t<li>No</li>\n",
       "\t<li>No</li>\n",
       "\t<li>No</li>\n",
       "\t<li>No</li>\n",
       "\t<li>Yes</li>\n",
       "\t<li>Yes</li>\n",
       "\t<li>Yes</li>\n",
       "\t<li>Yes</li>\n",
       "\t<li>Yes</li>\n",
       "\t<li>Yes</li>\n",
       "\t<li>Yes</li>\n",
       "\t<li>Yes</li>\n",
       "\t<li>No</li>\n",
       "\t<li>No</li>\n",
       "\t<li>No</li>\n",
       "\t<li>No</li>\n",
       "\t<li>No</li>\n",
       "\t<li>No</li>\n",
       "\t<li>No</li>\n",
       "\t<li>No</li>\n",
       "\t<li>Yes</li>\n",
       "\t<li>Yes</li>\n",
       "\t<li>Yes</li>\n",
       "\t<li>Yes</li>\n",
       "\t<li>Yes</li>\n",
       "\t<li>Yes</li>\n",
       "\t<li>Yes</li>\n",
       "\t<li>Yes</li>\n",
       "\t<li>Yes</li>\n",
       "\t<li>Yes</li>\n",
       "\t<li>Yes</li>\n",
       "\t<li>Yes</li>\n",
       "\t<li>Yes</li>\n",
       "\t<li>Yes</li>\n",
       "\t<li>Yes</li>\n",
       "\t<li>Yes</li>\n",
       "\t<li>Yes</li>\n",
       "\t<li>Yes</li>\n",
       "\t<li>Yes</li>\n",
       "\t<li>Yes</li>\n",
       "\t<li>Yes</li>\n",
       "\t<li>Yes</li>\n",
       "\t<li>Yes</li>\n",
       "\t<li>Yes</li>\n",
       "\t<li>Yes</li>\n",
       "\t<li>Yes</li>\n",
       "\t<li>Yes</li>\n",
       "\t<li>Yes</li>\n",
       "\t<li>Yes</li>\n",
       "\t<li>Yes</li>\n",
       "\t<li>Yes</li>\n",
       "\t<li>Yes</li>\n",
       "\t<li>Yes</li>\n",
       "\t<li>Yes</li>\n",
       "\t<li>Yes</li>\n",
       "\t<li>Yes</li>\n",
       "\t<li>Yes</li>\n",
       "\t<li>Yes</li>\n",
       "\t<li>Yes</li>\n",
       "\t<li>Yes</li>\n",
       "\t<li>Yes</li>\n",
       "\t<li>Yes</li>\n",
       "\t<li>Yes</li>\n",
       "\t<li>Yes</li>\n",
       "\t<li>Yes</li>\n",
       "\t<li>Yes</li>\n",
       "\t<li>Yes</li>\n",
       "\t<li>Yes</li>\n",
       "\t<li>Yes</li>\n",
       "\t<li>Yes</li>\n",
       "\t<li>Yes</li>\n",
       "\t<li>Yes</li>\n",
       "\t<li>Yes</li>\n",
       "\t<li>Yes</li>\n",
       "\t<li>Yes</li>\n",
       "\t<li>Yes</li>\n",
       "\t<li>No</li>\n",
       "\t<li>No</li>\n",
       "\t<li>No</li>\n",
       "\t<li>No</li>\n",
       "\t<li>No</li>\n",
       "\t<li>No</li>\n",
       "\t<li>No</li>\n",
       "\t<li>No</li>\n",
       "\t<li>Yes</li>\n",
       "\t<li>Yes</li>\n",
       "\t<li>Yes</li>\n",
       "\t<li>Yes</li>\n",
       "\t<li>Yes</li>\n",
       "\t<li>Yes</li>\n",
       "\t<li>Yes</li>\n",
       "\t<li>Yes</li>\n",
       "\t<li>Yes</li>\n",
       "\t<li>Yes</li>\n",
       "\t<li>Yes</li>\n",
       "\t<li>Yes</li>\n",
       "\t<li>Yes</li>\n",
       "\t<li>Yes</li>\n",
       "\t<li>Yes</li>\n",
       "\t<li>Yes</li>\n",
       "\t<li>Yes</li>\n",
       "\t<li>Yes</li>\n",
       "\t<li>Yes</li>\n",
       "\t<li>Yes</li>\n",
       "\t<li>Yes</li>\n",
       "\t<li>Yes</li>\n",
       "\t<li>Yes</li>\n",
       "\t<li>Yes</li>\n",
       "\t<li>Yes</li>\n",
       "\t<li>Yes</li>\n",
       "\t<li>Yes</li>\n",
       "\t<li>Yes</li>\n",
       "\t<li>Yes</li>\n",
       "\t<li>Yes</li>\n",
       "\t<li>Yes</li>\n",
       "\t<li>Yes</li>\n",
       "\t<li>Yes</li>\n",
       "\t<li>Yes</li>\n",
       "\t<li>Yes</li>\n",
       "\t<li>Yes</li>\n",
       "\t<li>Yes</li>\n",
       "\t<li>Yes</li>\n",
       "\t<li>Yes</li>\n",
       "\t<li>Yes</li>\n",
       "\t<li>Yes</li>\n",
       "\t<li>Yes</li>\n",
       "\t<li>Yes</li>\n",
       "\t<li>Yes</li>\n",
       "\t<li>Yes</li>\n",
       "\t<li>Yes</li>\n",
       "\t<li>Yes</li>\n",
       "\t<li>Yes</li>\n",
       "\t<li>Yes</li>\n",
       "\t<li>Yes</li>\n",
       "\t<li>Yes</li>\n",
       "\t<li>Yes</li>\n",
       "\t<li>Yes</li>\n",
       "\t<li>Yes</li>\n",
       "\t<li>Yes</li>\n",
       "\t<li>Yes</li>\n",
       "\t<li>Yes</li>\n",
       "\t<li>Yes</li>\n",
       "\t<li>Yes</li>\n",
       "\t<li>Yes</li>\n",
       "\t<li>Yes</li>\n",
       "\t<li>Yes</li>\n",
       "\t<li>Yes</li>\n",
       "\t<li>Yes</li>\n",
       "\t<li>No</li>\n",
       "\t<li>No</li>\n",
       "\t<li>No</li>\n",
       "\t<li>No</li>\n",
       "\t<li>No</li>\n",
       "\t<li>No</li>\n",
       "\t<li>No</li>\n",
       "\t<li>No</li>\n",
       "\t<li>Yes</li>\n",
       "\t<li>Yes</li>\n",
       "\t<li>Yes</li>\n",
       "\t<li>Yes</li>\n",
       "\t<li>Yes</li>\n",
       "\t<li>Yes</li>\n",
       "\t<li>Yes</li>\n",
       "\t<li>Yes</li>\n",
       "\t<li>Yes</li>\n",
       "\t<li>Yes</li>\n",
       "\t<li>Yes</li>\n",
       "\t<li>Yes</li>\n",
       "\t<li>Yes</li>\n",
       "\t<li>Yes</li>\n",
       "\t<li>Yes</li>\n",
       "\t<li>Yes</li>\n",
       "\t<li>No</li>\n",
       "\t<li>No</li>\n",
       "\t<li>No</li>\n",
       "\t<li>No</li>\n",
       "\t<li>No</li>\n",
       "\t<li>No</li>\n",
       "\t<li>No</li>\n",
       "\t<li>No</li>\n",
       "\t<li>Yes</li>\n",
       "\t<li>Yes</li>\n",
       "\t<li>Yes</li>\n",
       "\t<li>Yes</li>\n",
       "\t<li>Yes</li>\n",
       "\t<li>Yes</li>\n",
       "\t<li>Yes</li>\n",
       "\t<li>Yes</li>\n",
       "\t<li>Yes</li>\n",
       "\t<li>Yes</li>\n",
       "\t<li>Yes</li>\n",
       "\t<li>Yes</li>\n",
       "\t<li>Yes</li>\n",
       "\t<li>Yes</li>\n",
       "\t<li>Yes</li>\n",
       "\t<li>Yes</li>\n",
       "\t<li>No</li>\n",
       "\t<li>No</li>\n",
       "\t<li>No</li>\n",
       "\t<li>No</li>\n",
       "\t<li>No</li>\n",
       "\t<li>No</li>\n",
       "\t<li>No</li>\n",
       "\t<li>No</li>\n",
       "\t<li>Yes</li>\n",
       "\t<li>Yes</li>\n",
       "\t<li>Yes</li>\n",
       "\t<li>Yes</li>\n",
       "\t<li>Yes</li>\n",
       "\t<li>Yes</li>\n",
       "\t<li>Yes</li>\n",
       "\t<li>Yes</li>\n",
       "\t<li>Yes</li>\n",
       "\t<li>Yes</li>\n",
       "\t<li>Yes</li>\n",
       "\t<li>Yes</li>\n",
       "\t<li>Yes</li>\n",
       "\t<li>Yes</li>\n",
       "\t<li>Yes</li>\n",
       "\t<li>Yes</li>\n",
       "\t<li>No</li>\n",
       "\t<li>No</li>\n",
       "\t<li>No</li>\n",
       "\t<li>No</li>\n",
       "\t<li>No</li>\n",
       "\t<li>No</li>\n",
       "\t<li>No</li>\n",
       "\t<li>No</li>\n",
       "\t<li>Yes</li>\n",
       "\t<li>Yes</li>\n",
       "\t<li>Yes</li>\n",
       "\t<li>Yes</li>\n",
       "\t<li>Yes</li>\n",
       "\t<li>Yes</li>\n",
       "\t<li>Yes</li>\n",
       "\t<li>Yes</li>\n",
       "\t<li>Yes</li>\n",
       "\t<li>Yes</li>\n",
       "\t<li>Yes</li>\n",
       "\t<li>Yes</li>\n",
       "\t<li>Yes</li>\n",
       "\t<li>Yes</li>\n",
       "\t<li>Yes</li>\n",
       "\t<li>Yes</li>\n",
       "\t<li>Yes</li>\n",
       "\t<li>Yes</li>\n",
       "\t<li>Yes</li>\n",
       "\t<li>Yes</li>\n",
       "\t<li>Yes</li>\n",
       "\t<li>Yes</li>\n",
       "\t<li>Yes</li>\n",
       "\t<li>Yes</li>\n",
       "\t<li>Yes</li>\n",
       "\t<li>Yes</li>\n",
       "\t<li>Yes</li>\n",
       "\t<li>Yes</li>\n",
       "\t<li>Yes</li>\n",
       "\t<li>Yes</li>\n",
       "\t<li>Yes</li>\n",
       "\t<li>Yes</li>\n",
       "\t<li>No</li>\n",
       "\t<li>No</li>\n",
       "\t<li>No</li>\n",
       "\t<li>No</li>\n",
       "\t<li>No</li>\n",
       "\t<li>No</li>\n",
       "\t<li>No</li>\n",
       "\t<li>No</li>\n",
       "\t<li>No</li>\n",
       "\t<li>No</li>\n",
       "\t<li>No</li>\n",
       "\t<li>No</li>\n",
       "\t<li>No</li>\n",
       "\t<li>No</li>\n",
       "\t<li>No</li>\n",
       "\t<li>No</li>\n",
       "\t<li>Yes</li>\n",
       "\t<li>Yes</li>\n",
       "\t<li>Yes</li>\n",
       "\t<li>Yes</li>\n",
       "\t<li>Yes</li>\n",
       "\t<li>Yes</li>\n",
       "\t<li>Yes</li>\n",
       "\t<li>Yes</li>\n",
       "\t<li>No</li>\n",
       "\t<li>No</li>\n",
       "\t<li>No</li>\n",
       "\t<li>No</li>\n",
       "\t<li>No</li>\n",
       "\t<li>No</li>\n",
       "\t<li>No</li>\n",
       "\t<li>No</li>\n",
       "\t<li>Yes</li>\n",
       "\t<li>Yes</li>\n",
       "\t<li>Yes</li>\n",
       "\t<li>Yes</li>\n",
       "\t<li>Yes</li>\n",
       "\t<li>Yes</li>\n",
       "\t<li>Yes</li>\n",
       "\t<li>Yes</li>\n",
       "</ol>\n",
       "\n",
       "<details>\n",
       "\t<summary style=display:list-item;cursor:pointer>\n",
       "\t\t<strong>Levels</strong>:\n",
       "\t</summary>\n",
       "\t<ol class=list-inline>\n",
       "\t\t<li>'No'</li>\n",
       "\t\t<li>'Yes'</li>\n",
       "\t</ol>\n",
       "</details>"
      ],
      "text/latex": [
       "\\begin{enumerate*}\n",
       "\\item Yes\n",
       "\\item Yes\n",
       "\\item Yes\n",
       "\\item Yes\n",
       "\\item Yes\n",
       "\\item Yes\n",
       "\\item Yes\n",
       "\\item Yes\n",
       "\\item No\n",
       "\\item No\n",
       "\\item No\n",
       "\\item No\n",
       "\\item No\n",
       "\\item No\n",
       "\\item No\n",
       "\\item No\n",
       "\\item Yes\n",
       "\\item Yes\n",
       "\\item Yes\n",
       "\\item Yes\n",
       "\\item Yes\n",
       "\\item Yes\n",
       "\\item Yes\n",
       "\\item Yes\n",
       "\\item Yes\n",
       "\\item Yes\n",
       "\\item Yes\n",
       "\\item Yes\n",
       "\\item Yes\n",
       "\\item Yes\n",
       "\\item Yes\n",
       "\\item Yes\n",
       "\\item Yes\n",
       "\\item Yes\n",
       "\\item Yes\n",
       "\\item Yes\n",
       "\\item Yes\n",
       "\\item Yes\n",
       "\\item Yes\n",
       "\\item Yes\n",
       "\\item Yes\n",
       "\\item Yes\n",
       "\\item Yes\n",
       "\\item Yes\n",
       "\\item Yes\n",
       "\\item Yes\n",
       "\\item Yes\n",
       "\\item Yes\n",
       "\\item Yes\n",
       "\\item Yes\n",
       "\\item Yes\n",
       "\\item Yes\n",
       "\\item Yes\n",
       "\\item Yes\n",
       "\\item Yes\n",
       "\\item Yes\n",
       "\\item Yes\n",
       "\\item Yes\n",
       "\\item Yes\n",
       "\\item Yes\n",
       "\\item Yes\n",
       "\\item Yes\n",
       "\\item Yes\n",
       "\\item Yes\n",
       "\\item No\n",
       "\\item No\n",
       "\\item No\n",
       "\\item No\n",
       "\\item No\n",
       "\\item No\n",
       "\\item No\n",
       "\\item No\n",
       "\\item Yes\n",
       "\\item Yes\n",
       "\\item Yes\n",
       "\\item Yes\n",
       "\\item Yes\n",
       "\\item Yes\n",
       "\\item Yes\n",
       "\\item Yes\n",
       "\\item Yes\n",
       "\\item Yes\n",
       "\\item Yes\n",
       "\\item Yes\n",
       "\\item Yes\n",
       "\\item Yes\n",
       "\\item Yes\n",
       "\\item Yes\n",
       "\\item Yes\n",
       "\\item Yes\n",
       "\\item Yes\n",
       "\\item Yes\n",
       "\\item Yes\n",
       "\\item Yes\n",
       "\\item Yes\n",
       "\\item Yes\n",
       "\\item No\n",
       "\\item No\n",
       "\\item No\n",
       "\\item No\n",
       "\\item No\n",
       "\\item No\n",
       "\\item No\n",
       "\\item No\n",
       "\\item Yes\n",
       "\\item Yes\n",
       "\\item Yes\n",
       "\\item Yes\n",
       "\\item Yes\n",
       "\\item Yes\n",
       "\\item Yes\n",
       "\\item Yes\n",
       "\\item Yes\n",
       "\\item Yes\n",
       "\\item Yes\n",
       "\\item Yes\n",
       "\\item Yes\n",
       "\\item Yes\n",
       "\\item Yes\n",
       "\\item Yes\n",
       "\\item Yes\n",
       "\\item Yes\n",
       "\\item Yes\n",
       "\\item Yes\n",
       "\\item Yes\n",
       "\\item Yes\n",
       "\\item Yes\n",
       "\\item Yes\n",
       "\\item No\n",
       "\\item No\n",
       "\\item No\n",
       "\\item No\n",
       "\\item No\n",
       "\\item No\n",
       "\\item No\n",
       "\\item No\n",
       "\\item Yes\n",
       "\\item Yes\n",
       "\\item Yes\n",
       "\\item Yes\n",
       "\\item Yes\n",
       "\\item Yes\n",
       "\\item Yes\n",
       "\\item Yes\n",
       "\\item Yes\n",
       "\\item Yes\n",
       "\\item Yes\n",
       "\\item Yes\n",
       "\\item Yes\n",
       "\\item Yes\n",
       "\\item Yes\n",
       "\\item Yes\n",
       "\\item No\n",
       "\\item No\n",
       "\\item No\n",
       "\\item No\n",
       "\\item No\n",
       "\\item No\n",
       "\\item No\n",
       "\\item No\n",
       "\\item No\n",
       "\\item No\n",
       "\\item No\n",
       "\\item No\n",
       "\\item No\n",
       "\\item No\n",
       "\\item No\n",
       "\\item No\n",
       "\\item Yes\n",
       "\\item Yes\n",
       "\\item Yes\n",
       "\\item Yes\n",
       "\\item Yes\n",
       "\\item Yes\n",
       "\\item Yes\n",
       "\\item Yes\n",
       "\\item Yes\n",
       "\\item Yes\n",
       "\\item Yes\n",
       "\\item Yes\n",
       "\\item Yes\n",
       "\\item Yes\n",
       "\\item Yes\n",
       "\\item Yes\n",
       "\\item Yes\n",
       "\\item Yes\n",
       "\\item Yes\n",
       "\\item Yes\n",
       "\\item Yes\n",
       "\\item Yes\n",
       "\\item Yes\n",
       "\\item Yes\n",
       "\\item Yes\n",
       "\\item Yes\n",
       "\\item Yes\n",
       "\\item Yes\n",
       "\\item Yes\n",
       "\\item Yes\n",
       "\\item Yes\n",
       "\\item Yes\n",
       "\\item Yes\n",
       "\\item Yes\n",
       "\\item Yes\n",
       "\\item Yes\n",
       "\\item Yes\n",
       "\\item Yes\n",
       "\\item Yes\n",
       "\\item Yes\n",
       "\\item Yes\n",
       "\\item Yes\n",
       "\\item Yes\n",
       "\\item Yes\n",
       "\\item Yes\n",
       "\\item Yes\n",
       "\\item Yes\n",
       "\\item Yes\n",
       "\\item Yes\n",
       "\\item Yes\n",
       "\\item Yes\n",
       "\\item Yes\n",
       "\\item Yes\n",
       "\\item Yes\n",
       "\\item Yes\n",
       "\\item Yes\n",
       "\\item No\n",
       "\\item No\n",
       "\\item No\n",
       "\\item No\n",
       "\\item No\n",
       "\\item No\n",
       "\\item No\n",
       "\\item No\n",
       "\\item Yes\n",
       "\\item Yes\n",
       "\\item Yes\n",
       "\\item Yes\n",
       "\\item Yes\n",
       "\\item Yes\n",
       "\\item Yes\n",
       "\\item Yes\n",
       "\\item No\n",
       "\\item No\n",
       "\\item No\n",
       "\\item No\n",
       "\\item No\n",
       "\\item No\n",
       "\\item No\n",
       "\\item No\n",
       "\\item No\n",
       "\\item No\n",
       "\\item No\n",
       "\\item No\n",
       "\\item No\n",
       "\\item No\n",
       "\\item No\n",
       "\\item No\n",
       "\\item No\n",
       "\\item No\n",
       "\\item No\n",
       "\\item No\n",
       "\\item No\n",
       "\\item No\n",
       "\\item No\n",
       "\\item No\n",
       "\\item No\n",
       "\\item No\n",
       "\\item No\n",
       "\\item No\n",
       "\\item No\n",
       "\\item No\n",
       "\\item No\n",
       "\\item No\n",
       "\\item Yes\n",
       "\\item Yes\n",
       "\\item Yes\n",
       "\\item Yes\n",
       "\\item Yes\n",
       "\\item Yes\n",
       "\\item Yes\n",
       "\\item Yes\n",
       "\\item No\n",
       "\\item No\n",
       "\\item No\n",
       "\\item No\n",
       "\\item No\n",
       "\\item No\n",
       "\\item No\n",
       "\\item No\n",
       "\\item Yes\n",
       "\\item Yes\n",
       "\\item Yes\n",
       "\\item Yes\n",
       "\\item Yes\n",
       "\\item Yes\n",
       "\\item Yes\n",
       "\\item Yes\n",
       "\\item Yes\n",
       "\\item Yes\n",
       "\\item Yes\n",
       "\\item Yes\n",
       "\\item Yes\n",
       "\\item Yes\n",
       "\\item Yes\n",
       "\\item Yes\n",
       "\\item Yes\n",
       "\\item Yes\n",
       "\\item Yes\n",
       "\\item Yes\n",
       "\\item Yes\n",
       "\\item Yes\n",
       "\\item Yes\n",
       "\\item Yes\n",
       "\\item Yes\n",
       "\\item Yes\n",
       "\\item Yes\n",
       "\\item Yes\n",
       "\\item Yes\n",
       "\\item Yes\n",
       "\\item Yes\n",
       "\\item Yes\n",
       "\\item Yes\n",
       "\\item Yes\n",
       "\\item Yes\n",
       "\\item Yes\n",
       "\\item Yes\n",
       "\\item Yes\n",
       "\\item Yes\n",
       "\\item Yes\n",
       "\\item Yes\n",
       "\\item Yes\n",
       "\\item Yes\n",
       "\\item Yes\n",
       "\\item Yes\n",
       "\\item Yes\n",
       "\\item Yes\n",
       "\\item Yes\n",
       "\\item Yes\n",
       "\\item Yes\n",
       "\\item Yes\n",
       "\\item Yes\n",
       "\\item Yes\n",
       "\\item Yes\n",
       "\\item Yes\n",
       "\\item Yes\n",
       "\\item No\n",
       "\\item No\n",
       "\\item No\n",
       "\\item No\n",
       "\\item No\n",
       "\\item No\n",
       "\\item No\n",
       "\\item No\n",
       "\\item Yes\n",
       "\\item Yes\n",
       "\\item Yes\n",
       "\\item Yes\n",
       "\\item Yes\n",
       "\\item Yes\n",
       "\\item Yes\n",
       "\\item Yes\n",
       "\\item Yes\n",
       "\\item Yes\n",
       "\\item Yes\n",
       "\\item Yes\n",
       "\\item Yes\n",
       "\\item Yes\n",
       "\\item Yes\n",
       "\\item Yes\n",
       "\\item Yes\n",
       "\\item Yes\n",
       "\\item Yes\n",
       "\\item Yes\n",
       "\\item Yes\n",
       "\\item Yes\n",
       "\\item Yes\n",
       "\\item Yes\n",
       "\\item Yes\n",
       "\\item Yes\n",
       "\\item Yes\n",
       "\\item Yes\n",
       "\\item Yes\n",
       "\\item Yes\n",
       "\\item Yes\n",
       "\\item Yes\n",
       "\\item Yes\n",
       "\\item Yes\n",
       "\\item Yes\n",
       "\\item Yes\n",
       "\\item Yes\n",
       "\\item Yes\n",
       "\\item Yes\n",
       "\\item Yes\n",
       "\\item Yes\n",
       "\\item Yes\n",
       "\\item Yes\n",
       "\\item Yes\n",
       "\\item Yes\n",
       "\\item Yes\n",
       "\\item Yes\n",
       "\\item Yes\n",
       "\\item Yes\n",
       "\\item Yes\n",
       "\\item Yes\n",
       "\\item Yes\n",
       "\\item Yes\n",
       "\\item Yes\n",
       "\\item Yes\n",
       "\\item Yes\n",
       "\\item Yes\n",
       "\\item Yes\n",
       "\\item Yes\n",
       "\\item Yes\n",
       "\\item Yes\n",
       "\\item Yes\n",
       "\\item Yes\n",
       "\\item Yes\n",
       "\\item No\n",
       "\\item No\n",
       "\\item No\n",
       "\\item No\n",
       "\\item No\n",
       "\\item No\n",
       "\\item No\n",
       "\\item No\n",
       "\\item Yes\n",
       "\\item Yes\n",
       "\\item Yes\n",
       "\\item Yes\n",
       "\\item Yes\n",
       "\\item Yes\n",
       "\\item Yes\n",
       "\\item Yes\n",
       "\\item Yes\n",
       "\\item Yes\n",
       "\\item Yes\n",
       "\\item Yes\n",
       "\\item Yes\n",
       "\\item Yes\n",
       "\\item Yes\n",
       "\\item Yes\n",
       "\\item No\n",
       "\\item No\n",
       "\\item No\n",
       "\\item No\n",
       "\\item No\n",
       "\\item No\n",
       "\\item No\n",
       "\\item No\n",
       "\\item Yes\n",
       "\\item Yes\n",
       "\\item Yes\n",
       "\\item Yes\n",
       "\\item Yes\n",
       "\\item Yes\n",
       "\\item Yes\n",
       "\\item Yes\n",
       "\\item Yes\n",
       "\\item Yes\n",
       "\\item Yes\n",
       "\\item Yes\n",
       "\\item Yes\n",
       "\\item Yes\n",
       "\\item Yes\n",
       "\\item Yes\n",
       "\\item No\n",
       "\\item No\n",
       "\\item No\n",
       "\\item No\n",
       "\\item No\n",
       "\\item No\n",
       "\\item No\n",
       "\\item No\n",
       "\\item Yes\n",
       "\\item Yes\n",
       "\\item Yes\n",
       "\\item Yes\n",
       "\\item Yes\n",
       "\\item Yes\n",
       "\\item Yes\n",
       "\\item Yes\n",
       "\\item Yes\n",
       "\\item Yes\n",
       "\\item Yes\n",
       "\\item Yes\n",
       "\\item Yes\n",
       "\\item Yes\n",
       "\\item Yes\n",
       "\\item Yes\n",
       "\\item No\n",
       "\\item No\n",
       "\\item No\n",
       "\\item No\n",
       "\\item No\n",
       "\\item No\n",
       "\\item No\n",
       "\\item No\n",
       "\\item Yes\n",
       "\\item Yes\n",
       "\\item Yes\n",
       "\\item Yes\n",
       "\\item Yes\n",
       "\\item Yes\n",
       "\\item Yes\n",
       "\\item Yes\n",
       "\\item Yes\n",
       "\\item Yes\n",
       "\\item Yes\n",
       "\\item Yes\n",
       "\\item Yes\n",
       "\\item Yes\n",
       "\\item Yes\n",
       "\\item Yes\n",
       "\\item Yes\n",
       "\\item Yes\n",
       "\\item Yes\n",
       "\\item Yes\n",
       "\\item Yes\n",
       "\\item Yes\n",
       "\\item Yes\n",
       "\\item Yes\n",
       "\\item Yes\n",
       "\\item Yes\n",
       "\\item Yes\n",
       "\\item Yes\n",
       "\\item Yes\n",
       "\\item Yes\n",
       "\\item Yes\n",
       "\\item Yes\n",
       "\\item No\n",
       "\\item No\n",
       "\\item No\n",
       "\\item No\n",
       "\\item No\n",
       "\\item No\n",
       "\\item No\n",
       "\\item No\n",
       "\\item No\n",
       "\\item No\n",
       "\\item No\n",
       "\\item No\n",
       "\\item No\n",
       "\\item No\n",
       "\\item No\n",
       "\\item No\n",
       "\\item Yes\n",
       "\\item Yes\n",
       "\\item Yes\n",
       "\\item Yes\n",
       "\\item Yes\n",
       "\\item Yes\n",
       "\\item Yes\n",
       "\\item Yes\n",
       "\\item No\n",
       "\\item No\n",
       "\\item No\n",
       "\\item No\n",
       "\\item No\n",
       "\\item No\n",
       "\\item No\n",
       "\\item No\n",
       "\\item Yes\n",
       "\\item Yes\n",
       "\\item Yes\n",
       "\\item Yes\n",
       "\\item Yes\n",
       "\\item Yes\n",
       "\\item Yes\n",
       "\\item Yes\n",
       "\\end{enumerate*}\n",
       "\n",
       "\\emph{Levels}: \\begin{enumerate*}\n",
       "\\item 'No'\n",
       "\\item 'Yes'\n",
       "\\end{enumerate*}\n"
      ],
      "text/markdown": [
       "1. Yes\n",
       "2. Yes\n",
       "3. Yes\n",
       "4. Yes\n",
       "5. Yes\n",
       "6. Yes\n",
       "7. Yes\n",
       "8. Yes\n",
       "9. No\n",
       "10. No\n",
       "11. No\n",
       "12. No\n",
       "13. No\n",
       "14. No\n",
       "15. No\n",
       "16. No\n",
       "17. Yes\n",
       "18. Yes\n",
       "19. Yes\n",
       "20. Yes\n",
       "21. Yes\n",
       "22. Yes\n",
       "23. Yes\n",
       "24. Yes\n",
       "25. Yes\n",
       "26. Yes\n",
       "27. Yes\n",
       "28. Yes\n",
       "29. Yes\n",
       "30. Yes\n",
       "31. Yes\n",
       "32. Yes\n",
       "33. Yes\n",
       "34. Yes\n",
       "35. Yes\n",
       "36. Yes\n",
       "37. Yes\n",
       "38. Yes\n",
       "39. Yes\n",
       "40. Yes\n",
       "41. Yes\n",
       "42. Yes\n",
       "43. Yes\n",
       "44. Yes\n",
       "45. Yes\n",
       "46. Yes\n",
       "47. Yes\n",
       "48. Yes\n",
       "49. Yes\n",
       "50. Yes\n",
       "51. Yes\n",
       "52. Yes\n",
       "53. Yes\n",
       "54. Yes\n",
       "55. Yes\n",
       "56. Yes\n",
       "57. Yes\n",
       "58. Yes\n",
       "59. Yes\n",
       "60. Yes\n",
       "61. Yes\n",
       "62. Yes\n",
       "63. Yes\n",
       "64. Yes\n",
       "65. No\n",
       "66. No\n",
       "67. No\n",
       "68. No\n",
       "69. No\n",
       "70. No\n",
       "71. No\n",
       "72. No\n",
       "73. Yes\n",
       "74. Yes\n",
       "75. Yes\n",
       "76. Yes\n",
       "77. Yes\n",
       "78. Yes\n",
       "79. Yes\n",
       "80. Yes\n",
       "81. Yes\n",
       "82. Yes\n",
       "83. Yes\n",
       "84. Yes\n",
       "85. Yes\n",
       "86. Yes\n",
       "87. Yes\n",
       "88. Yes\n",
       "89. Yes\n",
       "90. Yes\n",
       "91. Yes\n",
       "92. Yes\n",
       "93. Yes\n",
       "94. Yes\n",
       "95. Yes\n",
       "96. Yes\n",
       "97. No\n",
       "98. No\n",
       "99. No\n",
       "100. No\n",
       "101. No\n",
       "102. No\n",
       "103. No\n",
       "104. No\n",
       "105. Yes\n",
       "106. Yes\n",
       "107. Yes\n",
       "108. Yes\n",
       "109. Yes\n",
       "110. Yes\n",
       "111. Yes\n",
       "112. Yes\n",
       "113. Yes\n",
       "114. Yes\n",
       "115. Yes\n",
       "116. Yes\n",
       "117. Yes\n",
       "118. Yes\n",
       "119. Yes\n",
       "120. Yes\n",
       "121. Yes\n",
       "122. Yes\n",
       "123. Yes\n",
       "124. Yes\n",
       "125. Yes\n",
       "126. Yes\n",
       "127. Yes\n",
       "128. Yes\n",
       "129. No\n",
       "130. No\n",
       "131. No\n",
       "132. No\n",
       "133. No\n",
       "134. No\n",
       "135. No\n",
       "136. No\n",
       "137. Yes\n",
       "138. Yes\n",
       "139. Yes\n",
       "140. Yes\n",
       "141. Yes\n",
       "142. Yes\n",
       "143. Yes\n",
       "144. Yes\n",
       "145. Yes\n",
       "146. Yes\n",
       "147. Yes\n",
       "148. Yes\n",
       "149. Yes\n",
       "150. Yes\n",
       "151. Yes\n",
       "152. Yes\n",
       "153. No\n",
       "154. No\n",
       "155. No\n",
       "156. No\n",
       "157. No\n",
       "158. No\n",
       "159. No\n",
       "160. No\n",
       "161. No\n",
       "162. No\n",
       "163. No\n",
       "164. No\n",
       "165. No\n",
       "166. No\n",
       "167. No\n",
       "168. No\n",
       "169. Yes\n",
       "170. Yes\n",
       "171. Yes\n",
       "172. Yes\n",
       "173. Yes\n",
       "174. Yes\n",
       "175. Yes\n",
       "176. Yes\n",
       "177. Yes\n",
       "178. Yes\n",
       "179. Yes\n",
       "180. Yes\n",
       "181. Yes\n",
       "182. Yes\n",
       "183. Yes\n",
       "184. Yes\n",
       "185. Yes\n",
       "186. Yes\n",
       "187. Yes\n",
       "188. Yes\n",
       "189. Yes\n",
       "190. Yes\n",
       "191. Yes\n",
       "192. Yes\n",
       "193. Yes\n",
       "194. Yes\n",
       "195. Yes\n",
       "196. Yes\n",
       "197. Yes\n",
       "198. Yes\n",
       "199. Yes\n",
       "200. Yes\n",
       "201. Yes\n",
       "202. Yes\n",
       "203. Yes\n",
       "204. Yes\n",
       "205. Yes\n",
       "206. Yes\n",
       "207. Yes\n",
       "208. Yes\n",
       "209. Yes\n",
       "210. Yes\n",
       "211. Yes\n",
       "212. Yes\n",
       "213. Yes\n",
       "214. Yes\n",
       "215. Yes\n",
       "216. Yes\n",
       "217. Yes\n",
       "218. Yes\n",
       "219. Yes\n",
       "220. Yes\n",
       "221. Yes\n",
       "222. Yes\n",
       "223. Yes\n",
       "224. Yes\n",
       "225. No\n",
       "226. No\n",
       "227. No\n",
       "228. No\n",
       "229. No\n",
       "230. No\n",
       "231. No\n",
       "232. No\n",
       "233. Yes\n",
       "234. Yes\n",
       "235. Yes\n",
       "236. Yes\n",
       "237. Yes\n",
       "238. Yes\n",
       "239. Yes\n",
       "240. Yes\n",
       "241. No\n",
       "242. No\n",
       "243. No\n",
       "244. No\n",
       "245. No\n",
       "246. No\n",
       "247. No\n",
       "248. No\n",
       "249. No\n",
       "250. No\n",
       "251. No\n",
       "252. No\n",
       "253. No\n",
       "254. No\n",
       "255. No\n",
       "256. No\n",
       "257. No\n",
       "258. No\n",
       "259. No\n",
       "260. No\n",
       "261. No\n",
       "262. No\n",
       "263. No\n",
       "264. No\n",
       "265. No\n",
       "266. No\n",
       "267. No\n",
       "268. No\n",
       "269. No\n",
       "270. No\n",
       "271. No\n",
       "272. No\n",
       "273. Yes\n",
       "274. Yes\n",
       "275. Yes\n",
       "276. Yes\n",
       "277. Yes\n",
       "278. Yes\n",
       "279. Yes\n",
       "280. Yes\n",
       "281. No\n",
       "282. No\n",
       "283. No\n",
       "284. No\n",
       "285. No\n",
       "286. No\n",
       "287. No\n",
       "288. No\n",
       "289. Yes\n",
       "290. Yes\n",
       "291. Yes\n",
       "292. Yes\n",
       "293. Yes\n",
       "294. Yes\n",
       "295. Yes\n",
       "296. Yes\n",
       "297. Yes\n",
       "298. Yes\n",
       "299. Yes\n",
       "300. Yes\n",
       "301. Yes\n",
       "302. Yes\n",
       "303. Yes\n",
       "304. Yes\n",
       "305. Yes\n",
       "306. Yes\n",
       "307. Yes\n",
       "308. Yes\n",
       "309. Yes\n",
       "310. Yes\n",
       "311. Yes\n",
       "312. Yes\n",
       "313. Yes\n",
       "314. Yes\n",
       "315. Yes\n",
       "316. Yes\n",
       "317. Yes\n",
       "318. Yes\n",
       "319. Yes\n",
       "320. Yes\n",
       "321. Yes\n",
       "322. Yes\n",
       "323. Yes\n",
       "324. Yes\n",
       "325. Yes\n",
       "326. Yes\n",
       "327. Yes\n",
       "328. Yes\n",
       "329. Yes\n",
       "330. Yes\n",
       "331. Yes\n",
       "332. Yes\n",
       "333. Yes\n",
       "334. Yes\n",
       "335. Yes\n",
       "336. Yes\n",
       "337. Yes\n",
       "338. Yes\n",
       "339. Yes\n",
       "340. Yes\n",
       "341. Yes\n",
       "342. Yes\n",
       "343. Yes\n",
       "344. Yes\n",
       "345. No\n",
       "346. No\n",
       "347. No\n",
       "348. No\n",
       "349. No\n",
       "350. No\n",
       "351. No\n",
       "352. No\n",
       "353. Yes\n",
       "354. Yes\n",
       "355. Yes\n",
       "356. Yes\n",
       "357. Yes\n",
       "358. Yes\n",
       "359. Yes\n",
       "360. Yes\n",
       "361. Yes\n",
       "362. Yes\n",
       "363. Yes\n",
       "364. Yes\n",
       "365. Yes\n",
       "366. Yes\n",
       "367. Yes\n",
       "368. Yes\n",
       "369. Yes\n",
       "370. Yes\n",
       "371. Yes\n",
       "372. Yes\n",
       "373. Yes\n",
       "374. Yes\n",
       "375. Yes\n",
       "376. Yes\n",
       "377. Yes\n",
       "378. Yes\n",
       "379. Yes\n",
       "380. Yes\n",
       "381. Yes\n",
       "382. Yes\n",
       "383. Yes\n",
       "384. Yes\n",
       "385. Yes\n",
       "386. Yes\n",
       "387. Yes\n",
       "388. Yes\n",
       "389. Yes\n",
       "390. Yes\n",
       "391. Yes\n",
       "392. Yes\n",
       "393. Yes\n",
       "394. Yes\n",
       "395. Yes\n",
       "396. Yes\n",
       "397. Yes\n",
       "398. Yes\n",
       "399. Yes\n",
       "400. Yes\n",
       "401. Yes\n",
       "402. Yes\n",
       "403. Yes\n",
       "404. Yes\n",
       "405. Yes\n",
       "406. Yes\n",
       "407. Yes\n",
       "408. Yes\n",
       "409. Yes\n",
       "410. Yes\n",
       "411. Yes\n",
       "412. Yes\n",
       "413. Yes\n",
       "414. Yes\n",
       "415. Yes\n",
       "416. Yes\n",
       "417. No\n",
       "418. No\n",
       "419. No\n",
       "420. No\n",
       "421. No\n",
       "422. No\n",
       "423. No\n",
       "424. No\n",
       "425. Yes\n",
       "426. Yes\n",
       "427. Yes\n",
       "428. Yes\n",
       "429. Yes\n",
       "430. Yes\n",
       "431. Yes\n",
       "432. Yes\n",
       "433. Yes\n",
       "434. Yes\n",
       "435. Yes\n",
       "436. Yes\n",
       "437. Yes\n",
       "438. Yes\n",
       "439. Yes\n",
       "440. Yes\n",
       "441. No\n",
       "442. No\n",
       "443. No\n",
       "444. No\n",
       "445. No\n",
       "446. No\n",
       "447. No\n",
       "448. No\n",
       "449. Yes\n",
       "450. Yes\n",
       "451. Yes\n",
       "452. Yes\n",
       "453. Yes\n",
       "454. Yes\n",
       "455. Yes\n",
       "456. Yes\n",
       "457. Yes\n",
       "458. Yes\n",
       "459. Yes\n",
       "460. Yes\n",
       "461. Yes\n",
       "462. Yes\n",
       "463. Yes\n",
       "464. Yes\n",
       "465. No\n",
       "466. No\n",
       "467. No\n",
       "468. No\n",
       "469. No\n",
       "470. No\n",
       "471. No\n",
       "472. No\n",
       "473. Yes\n",
       "474. Yes\n",
       "475. Yes\n",
       "476. Yes\n",
       "477. Yes\n",
       "478. Yes\n",
       "479. Yes\n",
       "480. Yes\n",
       "481. Yes\n",
       "482. Yes\n",
       "483. Yes\n",
       "484. Yes\n",
       "485. Yes\n",
       "486. Yes\n",
       "487. Yes\n",
       "488. Yes\n",
       "489. No\n",
       "490. No\n",
       "491. No\n",
       "492. No\n",
       "493. No\n",
       "494. No\n",
       "495. No\n",
       "496. No\n",
       "497. Yes\n",
       "498. Yes\n",
       "499. Yes\n",
       "500. Yes\n",
       "501. Yes\n",
       "502. Yes\n",
       "503. Yes\n",
       "504. Yes\n",
       "505. Yes\n",
       "506. Yes\n",
       "507. Yes\n",
       "508. Yes\n",
       "509. Yes\n",
       "510. Yes\n",
       "511. Yes\n",
       "512. Yes\n",
       "513. Yes\n",
       "514. Yes\n",
       "515. Yes\n",
       "516. Yes\n",
       "517. Yes\n",
       "518. Yes\n",
       "519. Yes\n",
       "520. Yes\n",
       "521. Yes\n",
       "522. Yes\n",
       "523. Yes\n",
       "524. Yes\n",
       "525. Yes\n",
       "526. Yes\n",
       "527. Yes\n",
       "528. Yes\n",
       "529. No\n",
       "530. No\n",
       "531. No\n",
       "532. No\n",
       "533. No\n",
       "534. No\n",
       "535. No\n",
       "536. No\n",
       "537. No\n",
       "538. No\n",
       "539. No\n",
       "540. No\n",
       "541. No\n",
       "542. No\n",
       "543. No\n",
       "544. No\n",
       "545. Yes\n",
       "546. Yes\n",
       "547. Yes\n",
       "548. Yes\n",
       "549. Yes\n",
       "550. Yes\n",
       "551. Yes\n",
       "552. Yes\n",
       "553. No\n",
       "554. No\n",
       "555. No\n",
       "556. No\n",
       "557. No\n",
       "558. No\n",
       "559. No\n",
       "560. No\n",
       "561. Yes\n",
       "562. Yes\n",
       "563. Yes\n",
       "564. Yes\n",
       "565. Yes\n",
       "566. Yes\n",
       "567. Yes\n",
       "568. Yes\n",
       "\n",
       "\n",
       "\n",
       "**Levels**: 1. 'No'\n",
       "2. 'Yes'\n",
       "\n",
       "\n"
      ],
      "text/plain": [
       "  [1] Yes Yes Yes Yes Yes Yes Yes Yes No  No  No  No  No  No  No  No  Yes Yes\n",
       " [19] Yes Yes Yes Yes Yes Yes Yes Yes Yes Yes Yes Yes Yes Yes Yes Yes Yes Yes\n",
       " [37] Yes Yes Yes Yes Yes Yes Yes Yes Yes Yes Yes Yes Yes Yes Yes Yes Yes Yes\n",
       " [55] Yes Yes Yes Yes Yes Yes Yes Yes Yes Yes No  No  No  No  No  No  No  No \n",
       " [73] Yes Yes Yes Yes Yes Yes Yes Yes Yes Yes Yes Yes Yes Yes Yes Yes Yes Yes\n",
       " [91] Yes Yes Yes Yes Yes Yes No  No  No  No  No  No  No  No  Yes Yes Yes Yes\n",
       "[109] Yes Yes Yes Yes Yes Yes Yes Yes Yes Yes Yes Yes Yes Yes Yes Yes Yes Yes\n",
       "[127] Yes Yes No  No  No  No  No  No  No  No  Yes Yes Yes Yes Yes Yes Yes Yes\n",
       "[145] Yes Yes Yes Yes Yes Yes Yes Yes No  No  No  No  No  No  No  No  No  No \n",
       "[163] No  No  No  No  No  No  Yes Yes Yes Yes Yes Yes Yes Yes Yes Yes Yes Yes\n",
       "[181] Yes Yes Yes Yes Yes Yes Yes Yes Yes Yes Yes Yes Yes Yes Yes Yes Yes Yes\n",
       "[199] Yes Yes Yes Yes Yes Yes Yes Yes Yes Yes Yes Yes Yes Yes Yes Yes Yes Yes\n",
       "[217] Yes Yes Yes Yes Yes Yes Yes Yes No  No  No  No  No  No  No  No  Yes Yes\n",
       "[235] Yes Yes Yes Yes Yes Yes No  No  No  No  No  No  No  No  No  No  No  No \n",
       "[253] No  No  No  No  No  No  No  No  No  No  No  No  No  No  No  No  No  No \n",
       "[271] No  No  Yes Yes Yes Yes Yes Yes Yes Yes No  No  No  No  No  No  No  No \n",
       "[289] Yes Yes Yes Yes Yes Yes Yes Yes Yes Yes Yes Yes Yes Yes Yes Yes Yes Yes\n",
       "[307] Yes Yes Yes Yes Yes Yes Yes Yes Yes Yes Yes Yes Yes Yes Yes Yes Yes Yes\n",
       "[325] Yes Yes Yes Yes Yes Yes Yes Yes Yes Yes Yes Yes Yes Yes Yes Yes Yes Yes\n",
       "[343] Yes Yes No  No  No  No  No  No  No  No  Yes Yes Yes Yes Yes Yes Yes Yes\n",
       "[361] Yes Yes Yes Yes Yes Yes Yes Yes Yes Yes Yes Yes Yes Yes Yes Yes Yes Yes\n",
       "[379] Yes Yes Yes Yes Yes Yes Yes Yes Yes Yes Yes Yes Yes Yes Yes Yes Yes Yes\n",
       "[397] Yes Yes Yes Yes Yes Yes Yes Yes Yes Yes Yes Yes Yes Yes Yes Yes Yes Yes\n",
       "[415] Yes Yes No  No  No  No  No  No  No  No  Yes Yes Yes Yes Yes Yes Yes Yes\n",
       "[433] Yes Yes Yes Yes Yes Yes Yes Yes No  No  No  No  No  No  No  No  Yes Yes\n",
       "[451] Yes Yes Yes Yes Yes Yes Yes Yes Yes Yes Yes Yes Yes Yes No  No  No  No \n",
       "[469] No  No  No  No  Yes Yes Yes Yes Yes Yes Yes Yes Yes Yes Yes Yes Yes Yes\n",
       "[487] Yes Yes No  No  No  No  No  No  No  No  Yes Yes Yes Yes Yes Yes Yes Yes\n",
       "[505] Yes Yes Yes Yes Yes Yes Yes Yes Yes Yes Yes Yes Yes Yes Yes Yes Yes Yes\n",
       "[523] Yes Yes Yes Yes Yes Yes No  No  No  No  No  No  No  No  No  No  No  No \n",
       "[541] No  No  No  No  Yes Yes Yes Yes Yes Yes Yes Yes No  No  No  No  No  No \n",
       "[559] No  No  Yes Yes Yes Yes Yes Yes Yes Yes\n",
       "Levels: No Yes"
      ]
     },
     "metadata": {},
     "output_type": "display_data"
    }
   ],
   "source": [
    "all$Survived"
   ]
  },
  {
   "cell_type": "code",
   "execution_count": 71,
   "metadata": {},
   "outputs": [
    {
     "data": {
      "image/png": "[encoded data removed]",
      "text/plain": [
       "plot without title"
      ]
     },
     "metadata": {},
     "output_type": "display_data"
    }
   ],
   "source": [
    "#plot mackin score vs number released\n",
    "ggplot(all, aes(x = ID, y=max, col=Survived, group=ID)) +\n",
    "#scale_color_manual(values=c(\"goldenrod\", \"darkred\"))+\n",
    "      geom_jitter()+\n",
    "#geom_line()+\n",
    " facet_grid( . ~ TISSUE)+\n",
    "theme_bw()+\n",
    "theme(legend.position=\"right\", \n",
    "      panel.border = element_rect(color=\"black\"), \n",
    "          panel.grid.major = element_blank(), \n",
    "          panel.grid.minor = element_blank(),\n",
    "        #axis.text.y=element_blank(),\n",
    "          axis.ticks=element_blank(), axis.line=element_line(color=\"black\"), axis.text=element_text(color=\"black\", size=12),\n",
    "          text = element_text(size=10))+\n",
    "ylab(\"Individuals\")+\n",
    "xlab(\"Time until death (days)\")"
   ]
  },
  {
   "cell_type": "markdown",
   "metadata": {},
   "source": [
    "Set up so that you can more clearly see individuals--heatmap? each row is an individual size of dot= amount of cells released\n",
    "\n",
    "Compare living and dead. frequency? boxplot? \n",
    "Cumulative total of cells released for an individual oyster. total for respective treatments. \n",
    "\n",
    "\n",
    "MAximum number of cells released?\n",
    "if died had to have measurment within x number of days of death. \n",
    "is maximum higher for those that died than those that survived? \n"
   ]
  }
 ],
 "metadata": {
  "kernelspec": {
   "display_name": "R",
   "language": "R",
   "name": "ir"
  },
  "language_info": {
   "codemirror_mode": "r",
   "file_extension": ".r",
   "mimetype": "text/x-r-source",
   "name": "R",
   "pygments_lexer": "r",
   "version": "3.6.1"
  }
 },
 "nbformat": 4,
 "nbformat_minor": 2
}
